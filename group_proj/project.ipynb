{
 "cells": [
  {
   "cell_type": "markdown",
   "metadata": {},
   "source": [
    "# Group Project - Cat Image Classification\n",
    "\n",
    "## Group 4: Isaiah Martinez, Joycelyn Tuazon\n",
    "## Mrs. Lord - Comp 542 Machine Learning"
   ]
  },
  {
   "cell_type": "markdown",
   "metadata": {},
   "source": [
    "# Guides that may provide insight"
   ]
  },
  {
   "cell_type": "code",
   "execution_count": null,
   "metadata": {},
   "outputs": [],
   "source": [
    "#Count objects\n",
    "#https://new.pythonforengineers.com/blog/image-and-video-processing-in-python/\n",
    "\n",
    "#Basic outline for image classificaiton. See youtube video too.\n",
    "#https://www.youtube.com/watch?v=il8dMDlXrIE\n",
    "#https://github.com/computervisioneng/image-classification-python-scikit-learn/blob/master/main.py\n",
    "\n",
    "#Image classification with Tensorflow and Keras\n",
    "#https://www.tensorflow.org/tutorials/images/classification\n",
    "\n",
    "#Load and Preprocess Images\n",
    "#https://www.tensorflow.org/tutorials/load_data/images"
   ]
  },
  {
   "cell_type": "markdown",
   "metadata": {},
   "source": [
    "## Kaggle Examples with Code to look at"
   ]
  },
  {
   "cell_type": "code",
   "execution_count": null,
   "metadata": {},
   "outputs": [],
   "source": [
    "# Good to model after\n",
    "# Also in the Conv2D section\n",
    "# https://www.kaggle.com/code/shaileshkakade/image-classification-cat-dog-panda\n",
    "\n",
    "# plots vertical/horizontal edge detection\n",
    "# https://www.kaggle.com/code/dianalaveena/cnn-keras-image-classification\n",
    "# Consider KNN"
   ]
  },
  {
   "cell_type": "markdown",
   "metadata": {},
   "source": [
    "## CNN Examples"
   ]
  },
  {
   "cell_type": "code",
   "execution_count": null,
   "metadata": {},
   "outputs": [],
   "source": [
    "# https://www.kaggle.com/code/dongduongminh/cnn-deep-learning-image-classification\n",
    "# https://www.kaggle.com/code/nasrinjahanripa/animal-images-classification-cnn\n",
    "# https://www.kaggle.com/code/corneliustantius/classification-with-keras-cnn\n",
    "# SEE `explaining-line.ipynb`"
   ]
  },
  {
   "cell_type": "markdown",
   "metadata": {},
   "source": [
    "## ConNeXt"
   ]
  },
  {
   "cell_type": "code",
   "execution_count": null,
   "metadata": {},
   "outputs": [],
   "source": [
    "# https://www.kaggle.com/code/chenjiarui2018/cats-dogs-and-pandas-convnext#3.-Model"
   ]
  },
  {
   "cell_type": "markdown",
   "metadata": {},
   "source": [
    "## VGG16 CNN"
   ]
  },
  {
   "cell_type": "code",
   "execution_count": null,
   "metadata": {},
   "outputs": [],
   "source": [
    "# https://www.kaggle.com/code/arpita12/cat-dog-panda\n",
    "# https://www.kaggle.com/code/rwt1998/animal-classification\n",
    "# https://www.kaggle.com/code/atmaraiprince/animal-image-dataset\n",
    "# https://www.kaggle.com/code/kkamal2003/animal-images-cnn"
   ]
  },
  {
   "cell_type": "markdown",
   "metadata": {},
   "source": [
    "## Conv 2D"
   ]
  },
  {
   "cell_type": "code",
   "execution_count": null,
   "metadata": {},
   "outputs": [],
   "source": [
    "# https://www.kaggle.com/code/shaileshkakade/image-classification-cat-dog-panda\n",
    "# https://www.kaggle.com/code/etienne1976/animal-image-classification-with-keras\n",
    "# https://www.kaggle.com/code/bygbrains/dog-cat-pandas-image-classifier\n",
    "# https://www.kaggle.com/code/dianalaveena/cnn-keras-image-classification#5.-Model-Building-and-Compilation"
   ]
  },
  {
   "cell_type": "markdown",
   "metadata": {},
   "source": [
    "## Res Net 50"
   ]
  },
  {
   "cell_type": "code",
   "execution_count": null,
   "metadata": {},
   "outputs": [],
   "source": [
    "# https://www.kaggle.com/code/nasrinjahanripa/animal-images-classification-cnn\n",
    "# https://www.kaggle.com/code/profmedo/image-classification-cnn-with-resnet\n",
    "# https://www.kaggle.com/code/kkamal2003/resnet-for-classification\n",
    "# https://www.kaggle.com/code/arshnoor7389/resnet-for-classification"
   ]
  },
  {
   "cell_type": "markdown",
   "metadata": {},
   "source": [
    "## OpenAI - CLIP\n",
    "## Dont use CLIP as project. CLIP may provide insight or be compared to, but not submitted for grade"
   ]
  },
  {
   "cell_type": "code",
   "execution_count": null,
   "metadata": {},
   "outputs": [],
   "source": [
    "# GITHUB LINK:\n",
    "# https://github.com/openai/CLIP/blob/main/model-card.md#model-card-clip\n",
    "# https://www.kaggle.com/code/kimchanyoung/zero-shot-prediction-using-openai-s-clip"
   ]
  },
  {
   "cell_type": "markdown",
   "metadata": {},
   "source": [
    "# Individual Work:"
   ]
  },
  {
   "cell_type": "code",
   "execution_count": null,
   "metadata": {},
   "outputs": [],
   "source": [
    "#Resize all images into arrays\n",
    "import projHelper as pjH\n",
    "\n",
    "cats_resized = pjH.getResizedGrayscaleFlattenedArrays(\"animals_cleaned/cats/\")\n",
    "dogs_resized = pjH.getResizedGrayscaleFlattenedArrays(\"animals_cleaned/dogs/\")\n",
    "panda_resized = pjH.getResizedGrayscaleFlattenedArrays(\"animals_cleaned/panda/\")\n",
    "\n",
    "#each image is an array of 750,000 (500 * 500 * 3)\n",
    "print(cats_resized[0])\n",
    "print(cats_resized[0].shape)\n",
    "\n",
    "#Resized cat/dog/panda images into a single array of size 994/990/968\n",
    "print(\"# cat imgs\", len(cats_resized))\n",
    "print(\"# dog imgs\", len(dogs_resized))\n",
    "print(\"# panda imgs\", len(panda_resized))\n",
    "print(\"total dataset size is\", len(cats_resized) + len(dogs_resized) + len(panda_resized))\n",
    "\n",
    "#14 second runtime"
   ]
  },
  {
   "cell_type": "code",
   "execution_count": null,
   "metadata": {},
   "outputs": [],
   "source": [
    "#Save the modified images into animals_cleaned_GS directory\n",
    "import projHelper as pjH\n",
    "\n",
    "pjH.saveModifiedImages(\"animals_cleaned/cats/\", \"animals_cleaned_GS/cats/\")"
   ]
  },
  {
   "cell_type": "code",
   "execution_count": null,
   "metadata": {},
   "outputs": [],
   "source": [
    "#create labels and combine data into a single array\n",
    "\n",
    "#insert labels into array\n",
    "labels = [\"cat\"] * len(cats_resized) + [\"dog\"] * len(dogs_resized) + [\"panda\"] * len(panda_resized)\n",
    "\n",
    "#combine data into a single array\n",
    "data_resized = [*cats_resized, *dogs_resized, *panda_resized]\n",
    "\n",
    "#compare sizes of labels and data_resized since they should be the same\n",
    "#expected: True\n",
    "print(len(data_resized) == len(labels))\n",
    "\n",
    "#testing labels\n",
    "#expected: cat cat dog dog panda panda\n",
    "print(labels[0], labels[993], labels[994], labels[1983], labels[1984], labels[2951])"
   ]
  },
  {
   "cell_type": "code",
   "execution_count": null,
   "metadata": {},
   "outputs": [],
   "source": [
    "#split the data into train and test\n",
    "from sklearn.model_selection import train_test_split\n",
    "\n",
    "#80/20 split\n",
    "xTrain, xTest, yTrain, yTest = train_test_split(data_resized, labels, test_size = 0.2)\n",
    "\n",
    "print(len(xTrain), xTrain, \"\\n\")\n",
    "print(len(yTrain), yTrain, \"\\n\")\n",
    "print(len(xTest), xTest, \"\\n\")\n",
    "print(len(yTest), yTest, \"\\n\")\n",
    "\n",
    "#each array in xTrain and xTest is of type: float32\n",
    "#the max value from xTrain and xTest is 255"
   ]
  },
  {
   "cell_type": "code",
   "execution_count": null,
   "metadata": {},
   "outputs": [],
   "source": [
    "#########################################################\n",
    "#                       Notes                           #\n",
    "#########################################################\n",
    "\n",
    "# print out Accuracy, Specificity, Recall, F1 Score. If possible, also the Confusion Matrix\n",
    "\n",
    "# Analyze model for Over/Underfitting so that it can be reduced\n",
    "\n",
    "# Use/find an alg to balance the class vs not class for images (Cat vs Non-Cat)\n",
    "\n",
    "# possibly convert rgb images to grayscale using GLCM\n",
    "#      might want to compare rgb images and grayscale"
   ]
  },
  {
   "cell_type": "markdown",
   "metadata": {},
   "source": [
    "## Isaiah Martinez"
   ]
  },
  {
   "cell_type": "markdown",
   "metadata": {},
   "source": [
    "## SVM Classifier"
   ]
  },
  {
   "cell_type": "markdown",
   "metadata": {},
   "source": [
    "### Testing the svm classifier with no parameter changes"
   ]
  },
  {
   "cell_type": "code",
   "execution_count": null,
   "metadata": {},
   "outputs": [],
   "source": [
    "#feed dataset into model\n",
    "\n",
    "from sklearn import svm\n",
    "\n",
    "clf = svm.SVC(kernel = 'linear', cache_size = 2000, max_iter = 5000, decision_function_shape = 'ovr', verbose = True)\n",
    "clf.fit(xTrain, yTrain)\n",
    "\n",
    "#15 minute runtime 750,000\n",
    "\n",
    "#8 minute runtime 250,000"
   ]
  },
  {
   "cell_type": "code",
   "execution_count": null,
   "metadata": {},
   "outputs": [],
   "source": [
    "#predict and obtain metrics\n",
    "\n",
    "from sklearn.metrics import accuracy_score, f1_score, precision_score, recall_score\n",
    "\n",
    "yPred = clf.predict(xTest)\n",
    "\n",
    "acc = accuracy_score(yTest, yPred)\n",
    "f1 = f1_score(yTest, yPred, average = 'weighted')\n",
    "prec = precision_score(yTest, yPred, average = 'weighted')\n",
    "recall = recall_score(yTest, yPred, average = 'weighted')\n",
    "\n",
    "print(acc, f1, prec, recall)\n",
    "\n",
    "#4 minute runtime (750,000)\n",
    "\n",
    "#metrics:\n",
    "#0.5617597292724196 0.570465072568459 0.591411754950014 0.5617597292724196\n",
    "\n",
    "#2 minute runtime (250,000)\n",
    "\n",
    "#metrics:\n",
    "#0.44839255499153974 0.4560295854772547 0.4798984919706284 0.44839255499153974"
   ]
  },
  {
   "cell_type": "markdown",
   "metadata": {},
   "source": [
    "### Pipeline + GridSearch"
   ]
  },
  {
   "cell_type": "code",
   "execution_count": null,
   "metadata": {},
   "outputs": [],
   "source": [
    "###     Final Pipeline\n",
    "from sklearn import svm\n",
    "from sklearn.pipeline import Pipeline\n",
    "from sklearn.model_selection import GridSearchCV\n",
    "from sklearn.preprocessing import MinMaxScaler\n",
    "\n",
    "pipeline = Pipeline([\n",
    "    ('scaler', MinMaxScaler()),\n",
    "    ('classifier', svm.SVC(cache_size = 16000, max_iter = 5000, decision_function_shape = 'ovr', verbose = True))\n",
    "])\n",
    "\n",
    "params = {\n",
    "    'classifier__C' : [5, 1]\n",
    "}\n",
    "\n",
    "gridSearch = GridSearchCV(pipeline, params, cv = 5, n_jobs = 1, verbose = 4)\n",
    "\n",
    "gridSearch.fit(xTrain, yTrain)\n",
    "\n",
    "#1750 minute runtime (initial 750,000) (250 fits)\n",
    "#100 minute runtime   (initial 250,000) (1 fit)\n",
    "#417 minute runtime   (initial 250,000) (15 fits)\n",
    "#1051 minute runtime   (initial 250,000) (45 fits)"
   ]
  },
  {
   "cell_type": "code",
   "execution_count": null,
   "metadata": {},
   "outputs": [],
   "source": [
    "#print the best params and best model found from Grid Search\n",
    "gridSearchParams = gridSearch.best_params_\n",
    "gridSearchModel = gridSearch.best_estimator_\n",
    "\n",
    "print(gridSearchParams, gridSearchModel)"
   ]
  },
  {
   "cell_type": "code",
   "execution_count": null,
   "metadata": {},
   "outputs": [],
   "source": [
    "#prediction and metrics\n",
    "\n",
    "from sklearn.metrics import accuracy_score, f1_score, precision_score, recall_score\n",
    "\n",
    "yPred = gridSearchModel.predict(xTest)\n",
    "\n",
    "acc = accuracy_score(yTest, yPred)\n",
    "f1 = f1_score(yTest, yPred, average = 'weighted')\n",
    "prec = precision_score(yTest, yPred, average = 'weighted')\n",
    "recall = recall_score(yTest, yPred, average = 'weighted')\n",
    "\n",
    "print(acc, f1, prec, recall)\n",
    "#4 minute runtime\n",
    "\n",
    "#initial run stats:\n",
    "#0.5854483925549916 0.5885099209700294 0.5983072203381199 0.5854483925549916\n",
    "\n",
    "#12 minute runtime 1 fit\n",
    "\n",
    "#initial run stats: 1 fit\n",
    "#0.6091370558375635 0.6054727828929725 0.6030864613210003 0.6091370558375635\n",
    "\n",
    "#12 minute runtime 15 fits\n",
    "\n",
    "#initial run stats: 1 fit\n",
    "#0.6328257191201354 0.6299543290220251 0.6287454462588863 0.6328257191201354"
   ]
  },
  {
   "cell_type": "code",
   "execution_count": null,
   "metadata": {},
   "outputs": [],
   "source": [
    "#Confusion Matrix\n",
    "\n",
    "import matplotlib.pyplot as plt\n",
    "from sklearn.metrics import ConfusionMatrixDisplay, confusion_matrix\n",
    "\n",
    "cm = confusion_matrix(yTest, yPred, labels = gridSearchModel.classes_)\n",
    "disp = ConfusionMatrixDisplay(confusion_matrix = cm, display_labels = gridSearchModel.classes_)\n",
    "disp.plot()\n",
    "plt.show()"
   ]
  },
  {
   "cell_type": "markdown",
   "metadata": {},
   "source": [
    "## Zero-Shot Prediction CLIP"
   ]
  },
  {
   "cell_type": "code",
   "execution_count": null,
   "metadata": {},
   "outputs": [],
   "source": [
    "# GITHUB LINK:              https://github.com/openai/CLIP/blob/main/model-card.md#model-card-clip\n",
    "# Example code from Kaggle: https://www.kaggle.com/code/kimchanyoung/zero-shot-prediction-using-openai-s-clip"
   ]
  },
  {
   "cell_type": "markdown",
   "metadata": {},
   "source": [
    "### Sample"
   ]
  },
  {
   "cell_type": "markdown",
   "metadata": {},
   "source": [
    "#### ViT-B/32"
   ]
  },
  {
   "cell_type": "code",
   "execution_count": null,
   "metadata": {},
   "outputs": [],
   "source": [
    "import torch\n",
    "import clip\n",
    "from PIL import Image\n",
    "import numpy as np\n",
    "\n",
    "device = \"cuda\" if torch.cuda.is_available() else \"cpu\"\n",
    "model, preprocess = clip.load(\"ViT-B/32\", device = device)\n",
    "\n",
    "img = preprocess(Image.open(\"animals_cleaned/cats/cats_00001.jpg\")).unsqueeze(0).to(device)\n",
    "\n",
    "animals = ['cat', 'dog', 'panda']\n",
    "\n",
    "text = clip.tokenize(animals).to(device)\n",
    "\n",
    "with torch.no_grad():\n",
    "    imageFeats = model.encode_image(img)\n",
    "    textFeats = model.encode_text(text)\n",
    "\n",
    "    logitsPerImg, logitsPerText = model(img, text)\n",
    "    probs = np.array(logitsPerImg.softmax(dim = -1).cpu().numpy())\n",
    "\n",
    "label = np.argmax(probs[0])\n",
    "\n",
    "print(probs[0][label])\n",
    "print(animals[label])\n",
    "print(probs[0])"
   ]
  },
  {
   "cell_type": "markdown",
   "metadata": {},
   "source": [
    "#### RN50x16"
   ]
  },
  {
   "cell_type": "code",
   "execution_count": null,
   "metadata": {},
   "outputs": [],
   "source": [
    "import torch\n",
    "import clip\n",
    "from PIL import Image\n",
    "import numpy as np\n",
    "\n",
    "device = \"cuda\" if torch.cuda.is_available() else \"cpu\"\n",
    "model, preprocess = clip.load(\"RN50x16\", device = device)\n",
    "\n",
    "img = preprocess(Image.open(\"animals_cleaned/cats/cats_00001.jpg\")).unsqueeze(0).to(device)\n",
    "\n",
    "animals = ['cat', 'dog', 'panda']\n",
    "\n",
    "text = clip.tokenize(animals).to(device)\n",
    "\n",
    "with torch.no_grad():\n",
    "    imageFeats = model.encode_image(img)\n",
    "    textFeats = model.encode_text(text)\n",
    "\n",
    "    logitsPerImg, logitsPerText = model(img, text)\n",
    "    probs = np.array(logitsPerImg.softmax(dim = -1).cpu().numpy())\n",
    "\n",
    "label = np.argmax(probs[0])\n",
    "\n",
    "print(probs[0][label])\n",
    "print(animals[label])"
   ]
  },
  {
   "cell_type": "markdown",
   "metadata": {},
   "source": [
    "### On All Data"
   ]
  },
  {
   "cell_type": "code",
   "execution_count": 1,
   "metadata": {},
   "outputs": [
    {
     "name": "stdout",
     "output_type": "stream",
     "text": [
      "['cats_00001.jpg', 'cats_00002.jpg', 'cats_00003.jpg', 'cats_00004.jpg', 'cats_00005.jpg', 'cats_00006.jpg', 'cats_00007.jpg', 'cats_00008.jpg', 'cats_00009.jpg', 'cats_00010.jpg', 'cats_00011.jpg', 'cats_00012.jpg', 'cats_00013.jpg', 'cats_00014.jpg', 'cats_00015.jpg', 'cats_00016.jpg', 'cats_00017.jpg', 'cats_00018.jpg', 'cats_00019.jpg', 'cats_00020.jpg', 'cats_00021.jpg', 'cats_00022.jpg', 'cats_00023.jpg', 'cats_00024.jpg', 'cats_00025.jpg', 'cats_00026.jpg', 'cats_00027.jpg', 'cats_00028.jpg', 'cats_00029.jpg', 'cats_00030.jpg', 'cats_00031.jpg', 'cats_00033.jpg', 'cats_00034.jpg', 'cats_00035.jpg', 'cats_00036.jpg', 'cats_00037.jpg', 'cats_00038.jpg', 'cats_00039.jpg', 'cats_00040.jpg', 'cats_00041.jpg', 'cats_00042.jpg', 'cats_00043.jpg', 'cats_00044.jpg', 'cats_00045.jpg', 'cats_00046.jpg', 'cats_00047.jpg', 'cats_00048.jpg', 'cats_00049.jpg', 'cats_00050.jpg', 'cats_00051.jpg', 'cats_00052.jpg', 'cats_00053.jpg', 'cats_00054.jpg', 'cats_00055.jpg', 'cats_00056.jpg', 'cats_00057.jpg', 'cats_00058.jpg', 'cats_00059.jpg', 'cats_00060.jpg', 'cats_00061.jpg', 'cats_00062.jpg', 'cats_00063.jpg', 'cats_00064.jpg', 'cats_00065.jpg', 'cats_00066.jpg', 'cats_00067.jpg', 'cats_00068.jpg', 'cats_00069.jpg', 'cats_00070.jpg', 'cats_00071.jpg', 'cats_00072.jpg', 'cats_00073.jpg', 'cats_00074.jpg', 'cats_00075.jpg', 'cats_00076.jpg', 'cats_00077.jpg', 'cats_00078.jpg', 'cats_00079.jpg', 'cats_00080.jpg', 'cats_00081.jpg', 'cats_00082.jpg', 'cats_00083.jpg', 'cats_00084.jpg', 'cats_00085.jpg', 'cats_00086.jpg', 'cats_00087.jpg', 'cats_00088.jpg', 'cats_00089.jpg', 'cats_00090.jpg', 'cats_00091.jpg', 'cats_00092.jpg', 'cats_00093.jpg', 'cats_00094.jpg', 'cats_00095.jpg', 'cats_00096.jpg', 'cats_00097.jpg', 'cats_00098.jpg', 'cats_00099.jpg', 'cats_00100.jpg', 'cats_00101.jpg', 'cats_00102.jpg', 'cats_00103.jpg', 'cats_00104.jpg', 'cats_00105.jpg', 'cats_00106.jpg', 'cats_00107.jpg', 'cats_00108.jpg', 'cats_00109.jpg', 'cats_00110.jpg', 'cats_00111.jpg', 'cats_00112.jpg', 'cats_00113.jpg', 'cats_00114.jpg', 'cats_00115.jpg', 'cats_00116.jpg', 'cats_00117.jpg', 'cats_00118.jpg', 'cats_00119.jpg', 'cats_00120.jpg', 'cats_00121.jpg', 'cats_00122.jpg', 'cats_00123.jpg', 'cats_00124.jpg', 'cats_00125.jpg', 'cats_00126.jpg', 'cats_00127.jpg', 'cats_00128.jpg', 'cats_00129.jpg', 'cats_00130.jpg', 'cats_00131.jpg', 'cats_00132.jpg', 'cats_00133.jpg', 'cats_00134.jpg', 'cats_00135.jpg', 'cats_00136.jpg', 'cats_00137.jpg', 'cats_00138.jpg', 'cats_00139.jpg', 'cats_00140.jpg', 'cats_00141.jpg', 'cats_00142.jpg', 'cats_00143.jpg', 'cats_00144.jpg', 'cats_00145.jpg', 'cats_00146.jpg', 'cats_00147.jpg', 'cats_00148.jpg', 'cats_00149.jpg', 'cats_00150.jpg', 'cats_00151.jpg', 'cats_00152.jpg', 'cats_00153.jpg', 'cats_00154.jpg', 'cats_00155.jpg', 'cats_00156.jpg', 'cats_00157.jpg', 'cats_00158.jpg', 'cats_00159.jpg', 'cats_00160.jpg', 'cats_00161.jpg', 'cats_00162.jpg', 'cats_00163.jpg', 'cats_00164.jpg', 'cats_00165.jpg', 'cats_00166.jpg', 'cats_00167.jpg', 'cats_00168.jpg', 'cats_00169.jpg', 'cats_00170.jpg', 'cats_00171.jpg', 'cats_00172.jpg', 'cats_00173.jpg', 'cats_00174.jpg', 'cats_00175.jpg', 'cats_00176.jpg', 'cats_00177.jpg', 'cats_00178.jpg', 'cats_00179.jpg', 'cats_00180.jpg', 'cats_00181.jpg', 'cats_00182.jpg', 'cats_00183.jpg', 'cats_00184.jpg', 'cats_00185.jpg', 'cats_00186.jpg', 'cats_00187.jpg', 'cats_00188.jpg', 'cats_00189.jpg', 'cats_00190.jpg', 'cats_00191.jpg', 'cats_00192.jpg', 'cats_00193.jpg', 'cats_00194.jpg', 'cats_00195.jpg', 'cats_00196.jpg', 'cats_00197.jpg', 'cats_00198.jpg', 'cats_00199.jpg', 'cats_00200.jpg', 'cats_00201.jpg', 'cats_00202.jpg', 'cats_00203.jpg', 'cats_00204.jpg', 'cats_00205.jpg', 'cats_00206.jpg', 'cats_00207.jpg', 'cats_00208.jpg', 'cats_00209.jpg', 'cats_00210.jpg', 'cats_00211.jpg', 'cats_00212.jpg', 'cats_00213.jpg', 'cats_00214.jpg', 'cats_00215.jpg', 'cats_00216.jpg', 'cats_00217.jpg', 'cats_00218.jpg', 'cats_00219.jpg', 'cats_00220.jpg', 'cats_00221.jpg', 'cats_00222.jpg', 'cats_00223.jpg', 'cats_00224.jpg', 'cats_00225.jpg', 'cats_00226.jpg', 'cats_00227.jpg', 'cats_00228.jpg', 'cats_00229.jpg', 'cats_00230.jpg', 'cats_00231.jpg', 'cats_00232.jpg', 'cats_00233.jpg', 'cats_00234.jpg', 'cats_00235.jpg', 'cats_00236.jpg', 'cats_00237.jpg', 'cats_00238.jpg', 'cats_00239.jpg', 'cats_00240.jpg', 'cats_00241.jpg', 'cats_00242.jpg', 'cats_00243.jpg', 'cats_00244.jpg', 'cats_00245.jpg', 'cats_00246.jpg', 'cats_00247.jpg', 'cats_00248.jpg', 'cats_00249.jpg', 'cats_00250.jpg', 'cats_00251.jpg', 'cats_00252.jpg', 'cats_00253.jpg', 'cats_00254.jpg', 'cats_00255.jpg', 'cats_00256.jpg', 'cats_00257.jpg', 'cats_00258.jpg', 'cats_00259.jpg', 'cats_00260.jpg', 'cats_00261.jpg', 'cats_00262.jpg', 'cats_00263.jpg', 'cats_00264.jpg', 'cats_00265.jpg', 'cats_00266.jpg', 'cats_00267.jpg', 'cats_00268.jpg', 'cats_00269.jpg', 'cats_00270.jpg', 'cats_00271.jpg', 'cats_00272.jpg', 'cats_00273.jpg', 'cats_00274.jpg', 'cats_00275.jpg', 'cats_00276.jpg', 'cats_00277.jpg', 'cats_00278.jpg', 'cats_00279.jpg', 'cats_00280.jpg', 'cats_00281.jpg', 'cats_00282.jpg', 'cats_00283.jpg', 'cats_00284.jpg', 'cats_00285.jpg', 'cats_00286.jpg', 'cats_00287.jpg', 'cats_00288.jpg', 'cats_00289.jpg', 'cats_00290.jpg', 'cats_00291.jpg', 'cats_00292.jpg', 'cats_00293.jpg', 'cats_00294.jpg', 'cats_00295.jpg', 'cats_00296.jpg', 'cats_00297.jpg', 'cats_00298.jpg', 'cats_00299.jpg', 'cats_00300.jpg', 'cats_00301.jpg', 'cats_00302.jpg', 'cats_00303.jpg', 'cats_00304.jpg', 'cats_00305.jpg', 'cats_00306.jpg', 'cats_00307.jpg', 'cats_00308.jpg', 'cats_00309.jpg', 'cats_00310.jpg', 'cats_00311.jpg', 'cats_00312.jpg', 'cats_00313.jpg', 'cats_00314.jpg', 'cats_00315.jpg', 'cats_00316.jpg', 'cats_00317.jpg', 'cats_00318.jpg', 'cats_00319.jpg', 'cats_00320.jpg', 'cats_00321.jpg', 'cats_00322.jpg', 'cats_00323.jpg', 'cats_00324.jpg', 'cats_00325.jpg', 'cats_00326.jpg', 'cats_00327.jpg', 'cats_00328.jpg', 'cats_00329.jpg', 'cats_00330.jpg', 'cats_00331.jpg', 'cats_00332.jpg', 'cats_00333.jpg', 'cats_00334.jpg', 'cats_00335.jpg', 'cats_00336.jpg', 'cats_00337.jpg', 'cats_00338.jpg', 'cats_00339.jpg', 'cats_00340.jpg', 'cats_00341.jpg', 'cats_00342.jpg', 'cats_00343.jpg', 'cats_00344.jpg', 'cats_00345.jpg', 'cats_00346.jpg', 'cats_00347.jpg', 'cats_00348.jpg', 'cats_00349.jpg', 'cats_00350.jpg', 'cats_00351.jpg', 'cats_00352.jpg', 'cats_00353.jpg', 'cats_00354.jpg', 'cats_00355.jpg', 'cats_00356.jpg', 'cats_00357.jpg', 'cats_00358.jpg', 'cats_00359.jpg', 'cats_00360.jpg', 'cats_00361.jpg', 'cats_00362.jpg', 'cats_00363.jpg', 'cats_00364.jpg', 'cats_00365.jpg', 'cats_00366.jpg', 'cats_00367.jpg', 'cats_00368.jpg', 'cats_00369.jpg', 'cats_00370.jpg', 'cats_00371.jpg', 'cats_00372.jpg', 'cats_00373.jpg', 'cats_00375.jpg', 'cats_00376.jpg', 'cats_00377.jpg', 'cats_00378.jpg', 'cats_00379.jpg', 'cats_00380.jpg', 'cats_00381.jpg', 'cats_00382.jpg', 'cats_00383.jpg', 'cats_00384.jpg', 'cats_00385.jpg', 'cats_00386.jpg', 'cats_00387.jpg', 'cats_00388.jpg', 'cats_00389.jpg', 'cats_00390.jpg', 'cats_00391.jpg', 'cats_00392.jpg', 'cats_00393.jpg', 'cats_00394.jpg', 'cats_00395.jpg', 'cats_00396.jpg', 'cats_00397.jpg', 'cats_00398.jpg', 'cats_00399.jpg', 'cats_00400.jpg', 'cats_00401.jpg', 'cats_00402.jpg', 'cats_00403.jpg', 'cats_00404.jpg', 'cats_00405.jpg', 'cats_00406.jpg', 'cats_00408.jpg', 'cats_00409.jpg', 'cats_00410.jpg', 'cats_00411.jpg', 'cats_00412.jpg', 'cats_00413.jpg', 'cats_00414.jpg', 'cats_00415.jpg', 'cats_00416.jpg', 'cats_00417.jpg', 'cats_00418.jpg', 'cats_00419.jpg', 'cats_00420.jpg', 'cats_00421.jpg', 'cats_00422.jpg', 'cats_00423.jpg', 'cats_00424.jpg', 'cats_00425.jpg', 'cats_00426.jpg', 'cats_00427.jpg', 'cats_00428.jpg', 'cats_00429.jpg', 'cats_00430.jpg', 'cats_00431.jpg', 'cats_00432.jpg', 'cats_00433.jpg', 'cats_00434.jpg', 'cats_00435.jpg', 'cats_00436.jpg', 'cats_00437.jpg', 'cats_00438.jpg', 'cats_00439.jpg', 'cats_00440.jpg', 'cats_00441.jpg', 'cats_00442.jpg', 'cats_00443.jpg', 'cats_00444.jpg', 'cats_00445.jpg', 'cats_00446.jpg', 'cats_00447.jpg', 'cats_00448.jpg', 'cats_00449.jpg', 'cats_00451.jpg', 'cats_00452.jpg', 'cats_00453.jpg', 'cats_00454.jpg', 'cats_00455.jpg', 'cats_00456.jpg', 'cats_00457.jpg', 'cats_00458.jpg', 'cats_00459.jpg', 'cats_00460.jpg', 'cats_00461.jpg', 'cats_00462.jpg', 'cats_00463.jpg', 'cats_00464.jpg', 'cats_00465.jpg', 'cats_00466.jpg', 'cats_00467.jpg', 'cats_00468.jpg', 'cats_00469.jpg', 'cats_00470.jpg', 'cats_00471.jpg', 'cats_00472.jpg', 'cats_00473.jpg', 'cats_00474.jpg', 'cats_00475.jpg', 'cats_00476.jpg', 'cats_00477.jpg', 'cats_00478.jpg', 'cats_00479.jpg', 'cats_00480.jpg', 'cats_00481.jpg', 'cats_00482.jpg', 'cats_00483.jpg', 'cats_00484.jpg', 'cats_00485.jpg', 'cats_00486.jpg', 'cats_00487.jpg', 'cats_00488.jpg', 'cats_00489.jpg', 'cats_00490.jpg', 'cats_00491.jpg', 'cats_00492.jpg', 'cats_00493.jpg', 'cats_00494.jpg', 'cats_00495.jpg', 'cats_00496.jpg', 'cats_00497.jpg', 'cats_00498.jpg', 'cats_00499.jpg', 'cats_00500.jpg', 'cats_00501.jpg', 'cats_00502.jpg', 'cats_00503.jpg', 'cats_00504.jpg', 'cats_00505.jpg', 'cats_00506.jpg', 'cats_00507.jpg', 'cats_00508.jpg', 'cats_00509.jpg', 'cats_00510.jpg', 'cats_00511.jpg', 'cats_00512.jpg', 'cats_00513.jpg', 'cats_00514.jpg', 'cats_00515.jpg', 'cats_00516.jpg', 'cats_00517.jpg', 'cats_00518.jpg', 'cats_00519.jpg', 'cats_00520.jpg', 'cats_00521.jpg', 'cats_00522.jpg', 'cats_00523.jpg', 'cats_00524.jpg', 'cats_00525.jpg', 'cats_00526.jpg', 'cats_00527.jpg', 'cats_00528.jpg', 'cats_00529.jpg', 'cats_00530.jpg', 'cats_00531.jpg', 'cats_00532.jpg', 'cats_00533.jpg', 'cats_00534.jpg', 'cats_00535.jpg', 'cats_00536.jpg', 'cats_00537.jpg', 'cats_00538.jpg', 'cats_00539.jpg', 'cats_00540.jpg', 'cats_00541.jpg', 'cats_00542.jpg', 'cats_00543.jpg', 'cats_00544.jpg', 'cats_00545.jpg', 'cats_00546.jpg', 'cats_00547.jpg', 'cats_00548.jpg', 'cats_00549.jpg', 'cats_00550.jpg', 'cats_00551.jpg', 'cats_00552.jpg', 'cats_00553.jpg', 'cats_00554.jpg', 'cats_00555.jpg', 'cats_00557.jpg', 'cats_00558.jpg', 'cats_00559.jpg', 'cats_00560.jpg', 'cats_00561.jpg', 'cats_00562.jpg', 'cats_00563.jpg', 'cats_00564.jpg', 'cats_00565.jpg', 'cats_00566.jpg', 'cats_00567.jpg', 'cats_00568.jpg', 'cats_00569.jpg', 'cats_00570.jpg', 'cats_00571.jpg', 'cats_00572.jpg', 'cats_00573.jpg', 'cats_00574.jpg', 'cats_00575.jpg', 'cats_00576.jpg', 'cats_00578.jpg', 'cats_00579.jpg', 'cats_00580.jpg', 'cats_00581.jpg', 'cats_00582.jpg', 'cats_00583.jpg', 'cats_00584.jpg', 'cats_00585.jpg', 'cats_00586.jpg', 'cats_00587.jpg', 'cats_00588.jpg', 'cats_00589.jpg', 'cats_00590.jpg', 'cats_00591.jpg', 'cats_00592.jpg', 'cats_00593.jpg', 'cats_00594.jpg', 'cats_00595.jpg', 'cats_00596.jpg', 'cats_00597.jpg', 'cats_00598.jpg', 'cats_00599.jpg', 'cats_00600.jpg', 'cats_00601.jpg', 'cats_00602.jpg', 'cats_00603.jpg', 'cats_00604.jpg', 'cats_00605.jpg', 'cats_00606.jpg', 'cats_00607.jpg', 'cats_00608.jpg', 'cats_00609.jpg', 'cats_00610.jpg', 'cats_00611.jpg', 'cats_00612.jpg', 'cats_00613.jpg', 'cats_00614.jpg', 'cats_00615.jpg', 'cats_00616.jpg', 'cats_00617.jpg', 'cats_00618.jpg', 'cats_00619.jpg', 'cats_00620.jpg', 'cats_00621.jpg', 'cats_00622.jpg', 'cats_00623.jpg', 'cats_00624.jpg', 'cats_00625.jpg', 'cats_00626.jpg', 'cats_00627.jpg', 'cats_00628.jpg', 'cats_00629.jpg', 'cats_00630.jpg', 'cats_00631.jpg', 'cats_00632.jpg', 'cats_00633.jpg', 'cats_00634.jpg', 'cats_00635.jpg', 'cats_00636.jpg', 'cats_00637.jpg', 'cats_00638.jpg', 'cats_00639.jpg', 'cats_00640.jpg', 'cats_00641.jpg', 'cats_00642.jpg', 'cats_00643.jpg', 'cats_00644.jpg', 'cats_00645.jpg', 'cats_00646.jpg', 'cats_00647.jpg', 'cats_00648.jpg', 'cats_00649.jpg', 'cats_00650.jpg', 'cats_00651.jpg', 'cats_00652.jpg', 'cats_00653.jpg', 'cats_00654.jpg', 'cats_00655.jpg', 'cats_00656.jpg', 'cats_00657.jpg', 'cats_00658.jpg', 'cats_00659.jpg', 'cats_00660.jpg', 'cats_00661.jpg', 'cats_00662.jpg', 'cats_00663.jpg', 'cats_00664.jpg', 'cats_00665.jpg', 'cats_00666.jpg', 'cats_00667.jpg', 'cats_00668.jpg', 'cats_00669.jpg', 'cats_00670.jpg', 'cats_00671.jpg', 'cats_00672.jpg', 'cats_00673.jpg', 'cats_00674.jpg', 'cats_00675.jpg', 'cats_00676.jpg', 'cats_00677.jpg', 'cats_00678.jpg', 'cats_00679.jpg', 'cats_00680.jpg', 'cats_00681.jpg', 'cats_00682.jpg', 'cats_00683.jpg', 'cats_00684.jpg', 'cats_00685.jpg', 'cats_00686.jpg', 'cats_00687.jpg', 'cats_00688.jpg', 'cats_00689.jpg', 'cats_00690.jpg', 'cats_00691.jpg', 'cats_00692.jpg', 'cats_00693.jpg', 'cats_00694.jpg', 'cats_00695.jpg', 'cats_00696.jpg', 'cats_00697.jpg', 'cats_00698.jpg', 'cats_00699.jpg', 'cats_00700.jpg', 'cats_00701.jpg', 'cats_00702.jpg', 'cats_00703.jpg', 'cats_00704.jpg', 'cats_00705.jpg', 'cats_00706.jpg', 'cats_00707.jpg', 'cats_00708.jpg', 'cats_00709.jpg', 'cats_00710.jpg', 'cats_00711.jpg', 'cats_00712.jpg', 'cats_00713.jpg', 'cats_00714.jpg', 'cats_00715.jpg', 'cats_00716.jpg', 'cats_00717.jpg', 'cats_00718.jpg', 'cats_00719.jpg', 'cats_00720.jpg', 'cats_00721.jpg', 'cats_00722.jpg', 'cats_00723.jpg', 'cats_00724.jpg', 'cats_00725.jpg', 'cats_00726.jpg', 'cats_00727.jpg', 'cats_00728.jpg', 'cats_00729.jpg', 'cats_00730.jpg', 'cats_00731.jpg', 'cats_00732.jpg', 'cats_00733.jpg', 'cats_00734.jpg', 'cats_00735.jpg', 'cats_00736.jpg', 'cats_00737.jpg', 'cats_00738.jpg', 'cats_00739.jpg', 'cats_00740.jpg', 'cats_00741.jpg', 'cats_00742.jpg', 'cats_00743.jpg', 'cats_00744.jpg', 'cats_00745.jpg', 'cats_00746.jpg', 'cats_00747.jpg', 'cats_00748.jpg', 'cats_00749.jpg', 'cats_00750.jpg', 'cats_00751.jpg', 'cats_00752.jpg', 'cats_00753.jpg', 'cats_00754.jpg', 'cats_00755.jpg', 'cats_00756.jpg', 'cats_00757.jpg', 'cats_00758.jpg', 'cats_00759.jpg', 'cats_00760.jpg', 'cats_00761.jpg', 'cats_00762.jpg', 'cats_00763.jpg', 'cats_00764.jpg', 'cats_00765.jpg', 'cats_00766.jpg', 'cats_00767.jpg', 'cats_00768.jpg', 'cats_00769.jpg', 'cats_00770.jpg', 'cats_00771.jpg', 'cats_00772.jpg', 'cats_00773.jpg', 'cats_00774.jpg', 'cats_00775.jpg', 'cats_00776.jpg', 'cats_00777.jpg', 'cats_00778.jpg', 'cats_00779.jpg', 'cats_00780.jpg', 'cats_00781.jpg', 'cats_00782.jpg', 'cats_00783.jpg', 'cats_00784.jpg', 'cats_00785.jpg', 'cats_00786.jpg', 'cats_00787.jpg', 'cats_00788.jpg', 'cats_00789.jpg', 'cats_00790.jpg', 'cats_00791.jpg', 'cats_00792.jpg', 'cats_00793.jpg', 'cats_00794.jpg', 'cats_00795.jpg', 'cats_00796.jpg', 'cats_00797.jpg', 'cats_00798.jpg', 'cats_00799.jpg', 'cats_00800.jpg', 'cats_00801.jpg', 'cats_00802.jpg', 'cats_00803.jpg', 'cats_00804.jpg', 'cats_00805.jpg', 'cats_00806.jpg', 'cats_00807.jpg', 'cats_00808.jpg', 'cats_00809.jpg', 'cats_00810.jpg', 'cats_00811.jpg', 'cats_00812.jpg', 'cats_00813.jpg', 'cats_00814.jpg', 'cats_00815.jpg', 'cats_00816.jpg', 'cats_00817.jpg', 'cats_00818.jpg', 'cats_00819.jpg', 'cats_00820.jpg', 'cats_00821.jpg', 'cats_00822.jpg', 'cats_00823.jpg', 'cats_00824.jpg', 'cats_00825.jpg', 'cats_00826.jpg', 'cats_00827.jpg', 'cats_00828.jpg', 'cats_00829.jpg', 'cats_00830.jpg', 'cats_00831.jpg', 'cats_00832.jpg', 'cats_00833.jpg', 'cats_00834.jpg', 'cats_00835.jpg', 'cats_00836.jpg', 'cats_00837.jpg', 'cats_00838.jpg', 'cats_00839.jpg', 'cats_00840.jpg', 'cats_00841.jpg', 'cats_00842.jpg', 'cats_00843.jpg', 'cats_00844.jpg', 'cats_00845.jpg', 'cats_00846.jpg', 'cats_00847.jpg', 'cats_00848.jpg', 'cats_00849.jpg', 'cats_00850.jpg', 'cats_00851.jpg', 'cats_00852.jpg', 'cats_00853.jpg', 'cats_00854.jpg', 'cats_00855.jpg', 'cats_00856.jpg', 'cats_00857.jpg', 'cats_00858.jpg', 'cats_00859.jpg', 'cats_00860.jpg', 'cats_00861.jpg', 'cats_00862.jpg', 'cats_00863.jpg', 'cats_00864.jpg', 'cats_00865.jpg', 'cats_00866.jpg', 'cats_00867.jpg', 'cats_00868.jpg', 'cats_00869.jpg', 'cats_00870.jpg', 'cats_00871.jpg', 'cats_00872.jpg', 'cats_00873.jpg', 'cats_00874.jpg', 'cats_00875.jpg', 'cats_00876.jpg', 'cats_00877.jpg', 'cats_00878.jpg', 'cats_00879.jpg', 'cats_00880.jpg', 'cats_00881.jpg', 'cats_00882.jpg', 'cats_00883.jpg', 'cats_00884.jpg', 'cats_00885.jpg', 'cats_00886.jpg', 'cats_00887.jpg', 'cats_00888.jpg', 'cats_00889.jpg', 'cats_00890.jpg', 'cats_00891.jpg', 'cats_00892.jpg', 'cats_00893.jpg', 'cats_00894.jpg', 'cats_00895.jpg', 'cats_00896.jpg', 'cats_00897.jpg', 'cats_00898.jpg', 'cats_00899.jpg', 'cats_00900.jpg', 'cats_00901.jpg', 'cats_00902.jpg', 'cats_00903.jpg', 'cats_00904.jpg', 'cats_00905.jpg', 'cats_00906.jpg', 'cats_00907.jpg', 'cats_00908.jpg', 'cats_00909.jpg', 'cats_00910.jpg', 'cats_00911.jpg', 'cats_00912.jpg', 'cats_00913.jpg', 'cats_00914.jpg', 'cats_00915.jpg', 'cats_00916.jpg', 'cats_00917.jpg', 'cats_00918.jpg', 'cats_00919.jpg', 'cats_00920.jpg', 'cats_00921.jpg', 'cats_00922.jpg', 'cats_00923.jpg', 'cats_00924.jpg', 'cats_00925.jpg', 'cats_00926.jpg', 'cats_00927.jpg', 'cats_00928.jpg', 'cats_00929.jpg', 'cats_00930.jpg', 'cats_00931.jpg', 'cats_00932.jpg', 'cats_00933.jpg', 'cats_00934.jpg', 'cats_00935.jpg', 'cats_00936.jpg', 'cats_00937.jpg', 'cats_00938.jpg', 'cats_00939.jpg', 'cats_00940.jpg', 'cats_00941.jpg', 'cats_00942.jpg', 'cats_00943.jpg', 'cats_00944.jpg', 'cats_00945.jpg', 'cats_00946.jpg', 'cats_00947.jpg', 'cats_00948.jpg', 'cats_00949.jpg', 'cats_00950.jpg', 'cats_00951.jpg', 'cats_00952.jpg', 'cats_00953.jpg', 'cats_00954.jpg', 'cats_00955.jpg', 'cats_00956.jpg', 'cats_00957.jpg', 'cats_00958.jpg', 'cats_00959.jpg', 'cats_00960.jpg', 'cats_00961.jpg', 'cats_00962.jpg', 'cats_00963.jpg', 'cats_00964.jpg', 'cats_00965.jpg', 'cats_00966.jpg', 'cats_00967.jpg', 'cats_00968.jpg', 'cats_00969.jpg', 'cats_00970.jpg', 'cats_00971.jpg', 'cats_00972.jpg', 'cats_00973.jpg', 'cats_00974.jpg', 'cats_00975.jpg', 'cats_00976.jpg', 'cats_00977.jpg', 'cats_00978.jpg', 'cats_00979.jpg', 'cats_00980.jpg', 'cats_00981.jpg', 'cats_00982.jpg', 'cats_00983.jpg', 'cats_00984.jpg', 'cats_00985.jpg', 'cats_00986.jpg', 'cats_00987.jpg', 'cats_00988.jpg', 'cats_00989.jpg', 'cats_00990.jpg', 'cats_00991.jpg', 'cats_00992.jpg', 'cats_00993.jpg', 'cats_00994.jpg', 'cats_00995.jpg', 'cats_00996.jpg', 'cats_00997.jpg', 'cats_00998.jpg', 'cats_00999.jpg', 'cats_01000.jpg']\n",
      "994\n"
     ]
    }
   ],
   "source": [
    "#gather all filepaths to all images\n",
    "from os import listdir\n",
    "from os.path import isfile, join\n",
    "\n",
    "catFiles = [f for f in listdir(\"animals_cleaned/cats/\") if isfile(join(\"animals_cleaned/cats/\", f))]\n",
    "dogFiles = [f for f in listdir(\"animals_cleaned/dogs/\") if isfile(join(\"animals_cleaned/dogs/\", f))]\n",
    "pandaFiles = [f for f in listdir(\"animals_cleaned/panda/\") if isfile(join(\"animals_cleaned/panda/\", f))]\n",
    "\n",
    "print(catFiles)\n",
    "print(len(catFiles))"
   ]
  },
  {
   "cell_type": "code",
   "execution_count": 2,
   "metadata": {},
   "outputs": [],
   "source": [
    "#add the entire path to the images\n",
    "\n",
    "for i in range(len(catFiles)):\n",
    "    catFiles[i] = \"animals_cleaned/cats/\" + catFiles[i]\n",
    "\n",
    "for i in range(len(dogFiles)):\n",
    "    dogFiles[i] = \"animals_cleaned/dogs/\" + dogFiles[i]\n",
    "\n",
    "for i in range(len(pandaFiles)):\n",
    "    pandaFiles[i] = \"animals_cleaned/panda/\" + pandaFiles[i]"
   ]
  },
  {
   "cell_type": "code",
   "execution_count": 3,
   "metadata": {},
   "outputs": [
    {
     "name": "stdout",
     "output_type": "stream",
     "text": [
      "['animals_cleaned/cats/cats_00001.jpg', 'animals_cleaned/cats/cats_00002.jpg', 'animals_cleaned/cats/cats_00003.jpg', 'animals_cleaned/cats/cats_00004.jpg', 'animals_cleaned/cats/cats_00005.jpg', 'animals_cleaned/cats/cats_00006.jpg', 'animals_cleaned/cats/cats_00007.jpg', 'animals_cleaned/cats/cats_00008.jpg', 'animals_cleaned/cats/cats_00009.jpg', 'animals_cleaned/cats/cats_00010.jpg', 'animals_cleaned/cats/cats_00011.jpg', 'animals_cleaned/cats/cats_00012.jpg', 'animals_cleaned/cats/cats_00013.jpg', 'animals_cleaned/cats/cats_00014.jpg', 'animals_cleaned/cats/cats_00015.jpg', 'animals_cleaned/cats/cats_00016.jpg', 'animals_cleaned/cats/cats_00017.jpg', 'animals_cleaned/cats/cats_00018.jpg', 'animals_cleaned/cats/cats_00019.jpg', 'animals_cleaned/cats/cats_00020.jpg', 'animals_cleaned/cats/cats_00021.jpg', 'animals_cleaned/cats/cats_00022.jpg', 'animals_cleaned/cats/cats_00023.jpg', 'animals_cleaned/cats/cats_00024.jpg', 'animals_cleaned/cats/cats_00025.jpg', 'animals_cleaned/cats/cats_00026.jpg', 'animals_cleaned/cats/cats_00027.jpg', 'animals_cleaned/cats/cats_00028.jpg', 'animals_cleaned/cats/cats_00029.jpg', 'animals_cleaned/cats/cats_00030.jpg', 'animals_cleaned/cats/cats_00031.jpg', 'animals_cleaned/cats/cats_00033.jpg', 'animals_cleaned/cats/cats_00034.jpg', 'animals_cleaned/cats/cats_00035.jpg', 'animals_cleaned/cats/cats_00036.jpg', 'animals_cleaned/cats/cats_00037.jpg', 'animals_cleaned/cats/cats_00038.jpg', 'animals_cleaned/cats/cats_00039.jpg', 'animals_cleaned/cats/cats_00040.jpg', 'animals_cleaned/cats/cats_00041.jpg', 'animals_cleaned/cats/cats_00042.jpg', 'animals_cleaned/cats/cats_00043.jpg', 'animals_cleaned/cats/cats_00044.jpg', 'animals_cleaned/cats/cats_00045.jpg', 'animals_cleaned/cats/cats_00046.jpg', 'animals_cleaned/cats/cats_00047.jpg', 'animals_cleaned/cats/cats_00048.jpg', 'animals_cleaned/cats/cats_00049.jpg', 'animals_cleaned/cats/cats_00050.jpg', 'animals_cleaned/cats/cats_00051.jpg', 'animals_cleaned/cats/cats_00052.jpg', 'animals_cleaned/cats/cats_00053.jpg', 'animals_cleaned/cats/cats_00054.jpg', 'animals_cleaned/cats/cats_00055.jpg', 'animals_cleaned/cats/cats_00056.jpg', 'animals_cleaned/cats/cats_00057.jpg', 'animals_cleaned/cats/cats_00058.jpg', 'animals_cleaned/cats/cats_00059.jpg', 'animals_cleaned/cats/cats_00060.jpg', 'animals_cleaned/cats/cats_00061.jpg', 'animals_cleaned/cats/cats_00062.jpg', 'animals_cleaned/cats/cats_00063.jpg', 'animals_cleaned/cats/cats_00064.jpg', 'animals_cleaned/cats/cats_00065.jpg', 'animals_cleaned/cats/cats_00066.jpg', 'animals_cleaned/cats/cats_00067.jpg', 'animals_cleaned/cats/cats_00068.jpg', 'animals_cleaned/cats/cats_00069.jpg', 'animals_cleaned/cats/cats_00070.jpg', 'animals_cleaned/cats/cats_00071.jpg', 'animals_cleaned/cats/cats_00072.jpg', 'animals_cleaned/cats/cats_00073.jpg', 'animals_cleaned/cats/cats_00074.jpg', 'animals_cleaned/cats/cats_00075.jpg', 'animals_cleaned/cats/cats_00076.jpg', 'animals_cleaned/cats/cats_00077.jpg', 'animals_cleaned/cats/cats_00078.jpg', 'animals_cleaned/cats/cats_00079.jpg', 'animals_cleaned/cats/cats_00080.jpg', 'animals_cleaned/cats/cats_00081.jpg', 'animals_cleaned/cats/cats_00082.jpg', 'animals_cleaned/cats/cats_00083.jpg', 'animals_cleaned/cats/cats_00084.jpg', 'animals_cleaned/cats/cats_00085.jpg', 'animals_cleaned/cats/cats_00086.jpg', 'animals_cleaned/cats/cats_00087.jpg', 'animals_cleaned/cats/cats_00088.jpg', 'animals_cleaned/cats/cats_00089.jpg', 'animals_cleaned/cats/cats_00090.jpg', 'animals_cleaned/cats/cats_00091.jpg', 'animals_cleaned/cats/cats_00092.jpg', 'animals_cleaned/cats/cats_00093.jpg', 'animals_cleaned/cats/cats_00094.jpg', 'animals_cleaned/cats/cats_00095.jpg', 'animals_cleaned/cats/cats_00096.jpg', 'animals_cleaned/cats/cats_00097.jpg', 'animals_cleaned/cats/cats_00098.jpg', 'animals_cleaned/cats/cats_00099.jpg', 'animals_cleaned/cats/cats_00100.jpg', 'animals_cleaned/cats/cats_00101.jpg', 'animals_cleaned/cats/cats_00102.jpg', 'animals_cleaned/cats/cats_00103.jpg', 'animals_cleaned/cats/cats_00104.jpg', 'animals_cleaned/cats/cats_00105.jpg', 'animals_cleaned/cats/cats_00106.jpg', 'animals_cleaned/cats/cats_00107.jpg', 'animals_cleaned/cats/cats_00108.jpg', 'animals_cleaned/cats/cats_00109.jpg', 'animals_cleaned/cats/cats_00110.jpg', 'animals_cleaned/cats/cats_00111.jpg', 'animals_cleaned/cats/cats_00112.jpg', 'animals_cleaned/cats/cats_00113.jpg', 'animals_cleaned/cats/cats_00114.jpg', 'animals_cleaned/cats/cats_00115.jpg', 'animals_cleaned/cats/cats_00116.jpg', 'animals_cleaned/cats/cats_00117.jpg', 'animals_cleaned/cats/cats_00118.jpg', 'animals_cleaned/cats/cats_00119.jpg', 'animals_cleaned/cats/cats_00120.jpg', 'animals_cleaned/cats/cats_00121.jpg', 'animals_cleaned/cats/cats_00122.jpg', 'animals_cleaned/cats/cats_00123.jpg', 'animals_cleaned/cats/cats_00124.jpg', 'animals_cleaned/cats/cats_00125.jpg', 'animals_cleaned/cats/cats_00126.jpg', 'animals_cleaned/cats/cats_00127.jpg', 'animals_cleaned/cats/cats_00128.jpg', 'animals_cleaned/cats/cats_00129.jpg', 'animals_cleaned/cats/cats_00130.jpg', 'animals_cleaned/cats/cats_00131.jpg', 'animals_cleaned/cats/cats_00132.jpg', 'animals_cleaned/cats/cats_00133.jpg', 'animals_cleaned/cats/cats_00134.jpg', 'animals_cleaned/cats/cats_00135.jpg', 'animals_cleaned/cats/cats_00136.jpg', 'animals_cleaned/cats/cats_00137.jpg', 'animals_cleaned/cats/cats_00138.jpg', 'animals_cleaned/cats/cats_00139.jpg', 'animals_cleaned/cats/cats_00140.jpg', 'animals_cleaned/cats/cats_00141.jpg', 'animals_cleaned/cats/cats_00142.jpg', 'animals_cleaned/cats/cats_00143.jpg', 'animals_cleaned/cats/cats_00144.jpg', 'animals_cleaned/cats/cats_00145.jpg', 'animals_cleaned/cats/cats_00146.jpg', 'animals_cleaned/cats/cats_00147.jpg', 'animals_cleaned/cats/cats_00148.jpg', 'animals_cleaned/cats/cats_00149.jpg', 'animals_cleaned/cats/cats_00150.jpg', 'animals_cleaned/cats/cats_00151.jpg', 'animals_cleaned/cats/cats_00152.jpg', 'animals_cleaned/cats/cats_00153.jpg', 'animals_cleaned/cats/cats_00154.jpg', 'animals_cleaned/cats/cats_00155.jpg', 'animals_cleaned/cats/cats_00156.jpg', 'animals_cleaned/cats/cats_00157.jpg', 'animals_cleaned/cats/cats_00158.jpg', 'animals_cleaned/cats/cats_00159.jpg', 'animals_cleaned/cats/cats_00160.jpg', 'animals_cleaned/cats/cats_00161.jpg', 'animals_cleaned/cats/cats_00162.jpg', 'animals_cleaned/cats/cats_00163.jpg', 'animals_cleaned/cats/cats_00164.jpg', 'animals_cleaned/cats/cats_00165.jpg', 'animals_cleaned/cats/cats_00166.jpg', 'animals_cleaned/cats/cats_00167.jpg', 'animals_cleaned/cats/cats_00168.jpg', 'animals_cleaned/cats/cats_00169.jpg', 'animals_cleaned/cats/cats_00170.jpg', 'animals_cleaned/cats/cats_00171.jpg', 'animals_cleaned/cats/cats_00172.jpg', 'animals_cleaned/cats/cats_00173.jpg', 'animals_cleaned/cats/cats_00174.jpg', 'animals_cleaned/cats/cats_00175.jpg', 'animals_cleaned/cats/cats_00176.jpg', 'animals_cleaned/cats/cats_00177.jpg', 'animals_cleaned/cats/cats_00178.jpg', 'animals_cleaned/cats/cats_00179.jpg', 'animals_cleaned/cats/cats_00180.jpg', 'animals_cleaned/cats/cats_00181.jpg', 'animals_cleaned/cats/cats_00182.jpg', 'animals_cleaned/cats/cats_00183.jpg', 'animals_cleaned/cats/cats_00184.jpg', 'animals_cleaned/cats/cats_00185.jpg', 'animals_cleaned/cats/cats_00186.jpg', 'animals_cleaned/cats/cats_00187.jpg', 'animals_cleaned/cats/cats_00188.jpg', 'animals_cleaned/cats/cats_00189.jpg', 'animals_cleaned/cats/cats_00190.jpg', 'animals_cleaned/cats/cats_00191.jpg', 'animals_cleaned/cats/cats_00192.jpg', 'animals_cleaned/cats/cats_00193.jpg', 'animals_cleaned/cats/cats_00194.jpg', 'animals_cleaned/cats/cats_00195.jpg', 'animals_cleaned/cats/cats_00196.jpg', 'animals_cleaned/cats/cats_00197.jpg', 'animals_cleaned/cats/cats_00198.jpg', 'animals_cleaned/cats/cats_00199.jpg', 'animals_cleaned/cats/cats_00200.jpg', 'animals_cleaned/cats/cats_00201.jpg', 'animals_cleaned/cats/cats_00202.jpg', 'animals_cleaned/cats/cats_00203.jpg', 'animals_cleaned/cats/cats_00204.jpg', 'animals_cleaned/cats/cats_00205.jpg', 'animals_cleaned/cats/cats_00206.jpg', 'animals_cleaned/cats/cats_00207.jpg', 'animals_cleaned/cats/cats_00208.jpg', 'animals_cleaned/cats/cats_00209.jpg', 'animals_cleaned/cats/cats_00210.jpg', 'animals_cleaned/cats/cats_00211.jpg', 'animals_cleaned/cats/cats_00212.jpg', 'animals_cleaned/cats/cats_00213.jpg', 'animals_cleaned/cats/cats_00214.jpg', 'animals_cleaned/cats/cats_00215.jpg', 'animals_cleaned/cats/cats_00216.jpg', 'animals_cleaned/cats/cats_00217.jpg', 'animals_cleaned/cats/cats_00218.jpg', 'animals_cleaned/cats/cats_00219.jpg', 'animals_cleaned/cats/cats_00220.jpg', 'animals_cleaned/cats/cats_00221.jpg', 'animals_cleaned/cats/cats_00222.jpg', 'animals_cleaned/cats/cats_00223.jpg', 'animals_cleaned/cats/cats_00224.jpg', 'animals_cleaned/cats/cats_00225.jpg', 'animals_cleaned/cats/cats_00226.jpg', 'animals_cleaned/cats/cats_00227.jpg', 'animals_cleaned/cats/cats_00228.jpg', 'animals_cleaned/cats/cats_00229.jpg', 'animals_cleaned/cats/cats_00230.jpg', 'animals_cleaned/cats/cats_00231.jpg', 'animals_cleaned/cats/cats_00232.jpg', 'animals_cleaned/cats/cats_00233.jpg', 'animals_cleaned/cats/cats_00234.jpg', 'animals_cleaned/cats/cats_00235.jpg', 'animals_cleaned/cats/cats_00236.jpg', 'animals_cleaned/cats/cats_00237.jpg', 'animals_cleaned/cats/cats_00238.jpg', 'animals_cleaned/cats/cats_00239.jpg', 'animals_cleaned/cats/cats_00240.jpg', 'animals_cleaned/cats/cats_00241.jpg', 'animals_cleaned/cats/cats_00242.jpg', 'animals_cleaned/cats/cats_00243.jpg', 'animals_cleaned/cats/cats_00244.jpg', 'animals_cleaned/cats/cats_00245.jpg', 'animals_cleaned/cats/cats_00246.jpg', 'animals_cleaned/cats/cats_00247.jpg', 'animals_cleaned/cats/cats_00248.jpg', 'animals_cleaned/cats/cats_00249.jpg', 'animals_cleaned/cats/cats_00250.jpg', 'animals_cleaned/cats/cats_00251.jpg', 'animals_cleaned/cats/cats_00252.jpg', 'animals_cleaned/cats/cats_00253.jpg', 'animals_cleaned/cats/cats_00254.jpg', 'animals_cleaned/cats/cats_00255.jpg', 'animals_cleaned/cats/cats_00256.jpg', 'animals_cleaned/cats/cats_00257.jpg', 'animals_cleaned/cats/cats_00258.jpg', 'animals_cleaned/cats/cats_00259.jpg', 'animals_cleaned/cats/cats_00260.jpg', 'animals_cleaned/cats/cats_00261.jpg', 'animals_cleaned/cats/cats_00262.jpg', 'animals_cleaned/cats/cats_00263.jpg', 'animals_cleaned/cats/cats_00264.jpg', 'animals_cleaned/cats/cats_00265.jpg', 'animals_cleaned/cats/cats_00266.jpg', 'animals_cleaned/cats/cats_00267.jpg', 'animals_cleaned/cats/cats_00268.jpg', 'animals_cleaned/cats/cats_00269.jpg', 'animals_cleaned/cats/cats_00270.jpg', 'animals_cleaned/cats/cats_00271.jpg', 'animals_cleaned/cats/cats_00272.jpg', 'animals_cleaned/cats/cats_00273.jpg', 'animals_cleaned/cats/cats_00274.jpg', 'animals_cleaned/cats/cats_00275.jpg', 'animals_cleaned/cats/cats_00276.jpg', 'animals_cleaned/cats/cats_00277.jpg', 'animals_cleaned/cats/cats_00278.jpg', 'animals_cleaned/cats/cats_00279.jpg', 'animals_cleaned/cats/cats_00280.jpg', 'animals_cleaned/cats/cats_00281.jpg', 'animals_cleaned/cats/cats_00282.jpg', 'animals_cleaned/cats/cats_00283.jpg', 'animals_cleaned/cats/cats_00284.jpg', 'animals_cleaned/cats/cats_00285.jpg', 'animals_cleaned/cats/cats_00286.jpg', 'animals_cleaned/cats/cats_00287.jpg', 'animals_cleaned/cats/cats_00288.jpg', 'animals_cleaned/cats/cats_00289.jpg', 'animals_cleaned/cats/cats_00290.jpg', 'animals_cleaned/cats/cats_00291.jpg', 'animals_cleaned/cats/cats_00292.jpg', 'animals_cleaned/cats/cats_00293.jpg', 'animals_cleaned/cats/cats_00294.jpg', 'animals_cleaned/cats/cats_00295.jpg', 'animals_cleaned/cats/cats_00296.jpg', 'animals_cleaned/cats/cats_00297.jpg', 'animals_cleaned/cats/cats_00298.jpg', 'animals_cleaned/cats/cats_00299.jpg', 'animals_cleaned/cats/cats_00300.jpg', 'animals_cleaned/cats/cats_00301.jpg', 'animals_cleaned/cats/cats_00302.jpg', 'animals_cleaned/cats/cats_00303.jpg', 'animals_cleaned/cats/cats_00304.jpg', 'animals_cleaned/cats/cats_00305.jpg', 'animals_cleaned/cats/cats_00306.jpg', 'animals_cleaned/cats/cats_00307.jpg', 'animals_cleaned/cats/cats_00308.jpg', 'animals_cleaned/cats/cats_00309.jpg', 'animals_cleaned/cats/cats_00310.jpg', 'animals_cleaned/cats/cats_00311.jpg', 'animals_cleaned/cats/cats_00312.jpg', 'animals_cleaned/cats/cats_00313.jpg', 'animals_cleaned/cats/cats_00314.jpg', 'animals_cleaned/cats/cats_00315.jpg', 'animals_cleaned/cats/cats_00316.jpg', 'animals_cleaned/cats/cats_00317.jpg', 'animals_cleaned/cats/cats_00318.jpg', 'animals_cleaned/cats/cats_00319.jpg', 'animals_cleaned/cats/cats_00320.jpg', 'animals_cleaned/cats/cats_00321.jpg', 'animals_cleaned/cats/cats_00322.jpg', 'animals_cleaned/cats/cats_00323.jpg', 'animals_cleaned/cats/cats_00324.jpg', 'animals_cleaned/cats/cats_00325.jpg', 'animals_cleaned/cats/cats_00326.jpg', 'animals_cleaned/cats/cats_00327.jpg', 'animals_cleaned/cats/cats_00328.jpg', 'animals_cleaned/cats/cats_00329.jpg', 'animals_cleaned/cats/cats_00330.jpg', 'animals_cleaned/cats/cats_00331.jpg', 'animals_cleaned/cats/cats_00332.jpg', 'animals_cleaned/cats/cats_00333.jpg', 'animals_cleaned/cats/cats_00334.jpg', 'animals_cleaned/cats/cats_00335.jpg', 'animals_cleaned/cats/cats_00336.jpg', 'animals_cleaned/cats/cats_00337.jpg', 'animals_cleaned/cats/cats_00338.jpg', 'animals_cleaned/cats/cats_00339.jpg', 'animals_cleaned/cats/cats_00340.jpg', 'animals_cleaned/cats/cats_00341.jpg', 'animals_cleaned/cats/cats_00342.jpg', 'animals_cleaned/cats/cats_00343.jpg', 'animals_cleaned/cats/cats_00344.jpg', 'animals_cleaned/cats/cats_00345.jpg', 'animals_cleaned/cats/cats_00346.jpg', 'animals_cleaned/cats/cats_00347.jpg', 'animals_cleaned/cats/cats_00348.jpg', 'animals_cleaned/cats/cats_00349.jpg', 'animals_cleaned/cats/cats_00350.jpg', 'animals_cleaned/cats/cats_00351.jpg', 'animals_cleaned/cats/cats_00352.jpg', 'animals_cleaned/cats/cats_00353.jpg', 'animals_cleaned/cats/cats_00354.jpg', 'animals_cleaned/cats/cats_00355.jpg', 'animals_cleaned/cats/cats_00356.jpg', 'animals_cleaned/cats/cats_00357.jpg', 'animals_cleaned/cats/cats_00358.jpg', 'animals_cleaned/cats/cats_00359.jpg', 'animals_cleaned/cats/cats_00360.jpg', 'animals_cleaned/cats/cats_00361.jpg', 'animals_cleaned/cats/cats_00362.jpg', 'animals_cleaned/cats/cats_00363.jpg', 'animals_cleaned/cats/cats_00364.jpg', 'animals_cleaned/cats/cats_00365.jpg', 'animals_cleaned/cats/cats_00366.jpg', 'animals_cleaned/cats/cats_00367.jpg', 'animals_cleaned/cats/cats_00368.jpg', 'animals_cleaned/cats/cats_00369.jpg', 'animals_cleaned/cats/cats_00370.jpg', 'animals_cleaned/cats/cats_00371.jpg', 'animals_cleaned/cats/cats_00372.jpg', 'animals_cleaned/cats/cats_00373.jpg', 'animals_cleaned/cats/cats_00375.jpg', 'animals_cleaned/cats/cats_00376.jpg', 'animals_cleaned/cats/cats_00377.jpg', 'animals_cleaned/cats/cats_00378.jpg', 'animals_cleaned/cats/cats_00379.jpg', 'animals_cleaned/cats/cats_00380.jpg', 'animals_cleaned/cats/cats_00381.jpg', 'animals_cleaned/cats/cats_00382.jpg', 'animals_cleaned/cats/cats_00383.jpg', 'animals_cleaned/cats/cats_00384.jpg', 'animals_cleaned/cats/cats_00385.jpg', 'animals_cleaned/cats/cats_00386.jpg', 'animals_cleaned/cats/cats_00387.jpg', 'animals_cleaned/cats/cats_00388.jpg', 'animals_cleaned/cats/cats_00389.jpg', 'animals_cleaned/cats/cats_00390.jpg', 'animals_cleaned/cats/cats_00391.jpg', 'animals_cleaned/cats/cats_00392.jpg', 'animals_cleaned/cats/cats_00393.jpg', 'animals_cleaned/cats/cats_00394.jpg', 'animals_cleaned/cats/cats_00395.jpg', 'animals_cleaned/cats/cats_00396.jpg', 'animals_cleaned/cats/cats_00397.jpg', 'animals_cleaned/cats/cats_00398.jpg', 'animals_cleaned/cats/cats_00399.jpg', 'animals_cleaned/cats/cats_00400.jpg', 'animals_cleaned/cats/cats_00401.jpg', 'animals_cleaned/cats/cats_00402.jpg', 'animals_cleaned/cats/cats_00403.jpg', 'animals_cleaned/cats/cats_00404.jpg', 'animals_cleaned/cats/cats_00405.jpg', 'animals_cleaned/cats/cats_00406.jpg', 'animals_cleaned/cats/cats_00408.jpg', 'animals_cleaned/cats/cats_00409.jpg', 'animals_cleaned/cats/cats_00410.jpg', 'animals_cleaned/cats/cats_00411.jpg', 'animals_cleaned/cats/cats_00412.jpg', 'animals_cleaned/cats/cats_00413.jpg', 'animals_cleaned/cats/cats_00414.jpg', 'animals_cleaned/cats/cats_00415.jpg', 'animals_cleaned/cats/cats_00416.jpg', 'animals_cleaned/cats/cats_00417.jpg', 'animals_cleaned/cats/cats_00418.jpg', 'animals_cleaned/cats/cats_00419.jpg', 'animals_cleaned/cats/cats_00420.jpg', 'animals_cleaned/cats/cats_00421.jpg', 'animals_cleaned/cats/cats_00422.jpg', 'animals_cleaned/cats/cats_00423.jpg', 'animals_cleaned/cats/cats_00424.jpg', 'animals_cleaned/cats/cats_00425.jpg', 'animals_cleaned/cats/cats_00426.jpg', 'animals_cleaned/cats/cats_00427.jpg', 'animals_cleaned/cats/cats_00428.jpg', 'animals_cleaned/cats/cats_00429.jpg', 'animals_cleaned/cats/cats_00430.jpg', 'animals_cleaned/cats/cats_00431.jpg', 'animals_cleaned/cats/cats_00432.jpg', 'animals_cleaned/cats/cats_00433.jpg', 'animals_cleaned/cats/cats_00434.jpg', 'animals_cleaned/cats/cats_00435.jpg', 'animals_cleaned/cats/cats_00436.jpg', 'animals_cleaned/cats/cats_00437.jpg', 'animals_cleaned/cats/cats_00438.jpg', 'animals_cleaned/cats/cats_00439.jpg', 'animals_cleaned/cats/cats_00440.jpg', 'animals_cleaned/cats/cats_00441.jpg', 'animals_cleaned/cats/cats_00442.jpg', 'animals_cleaned/cats/cats_00443.jpg', 'animals_cleaned/cats/cats_00444.jpg', 'animals_cleaned/cats/cats_00445.jpg', 'animals_cleaned/cats/cats_00446.jpg', 'animals_cleaned/cats/cats_00447.jpg', 'animals_cleaned/cats/cats_00448.jpg', 'animals_cleaned/cats/cats_00449.jpg', 'animals_cleaned/cats/cats_00451.jpg', 'animals_cleaned/cats/cats_00452.jpg', 'animals_cleaned/cats/cats_00453.jpg', 'animals_cleaned/cats/cats_00454.jpg', 'animals_cleaned/cats/cats_00455.jpg', 'animals_cleaned/cats/cats_00456.jpg', 'animals_cleaned/cats/cats_00457.jpg', 'animals_cleaned/cats/cats_00458.jpg', 'animals_cleaned/cats/cats_00459.jpg', 'animals_cleaned/cats/cats_00460.jpg', 'animals_cleaned/cats/cats_00461.jpg', 'animals_cleaned/cats/cats_00462.jpg', 'animals_cleaned/cats/cats_00463.jpg', 'animals_cleaned/cats/cats_00464.jpg', 'animals_cleaned/cats/cats_00465.jpg', 'animals_cleaned/cats/cats_00466.jpg', 'animals_cleaned/cats/cats_00467.jpg', 'animals_cleaned/cats/cats_00468.jpg', 'animals_cleaned/cats/cats_00469.jpg', 'animals_cleaned/cats/cats_00470.jpg', 'animals_cleaned/cats/cats_00471.jpg', 'animals_cleaned/cats/cats_00472.jpg', 'animals_cleaned/cats/cats_00473.jpg', 'animals_cleaned/cats/cats_00474.jpg', 'animals_cleaned/cats/cats_00475.jpg', 'animals_cleaned/cats/cats_00476.jpg', 'animals_cleaned/cats/cats_00477.jpg', 'animals_cleaned/cats/cats_00478.jpg', 'animals_cleaned/cats/cats_00479.jpg', 'animals_cleaned/cats/cats_00480.jpg', 'animals_cleaned/cats/cats_00481.jpg', 'animals_cleaned/cats/cats_00482.jpg', 'animals_cleaned/cats/cats_00483.jpg', 'animals_cleaned/cats/cats_00484.jpg', 'animals_cleaned/cats/cats_00485.jpg', 'animals_cleaned/cats/cats_00486.jpg', 'animals_cleaned/cats/cats_00487.jpg', 'animals_cleaned/cats/cats_00488.jpg', 'animals_cleaned/cats/cats_00489.jpg', 'animals_cleaned/cats/cats_00490.jpg', 'animals_cleaned/cats/cats_00491.jpg', 'animals_cleaned/cats/cats_00492.jpg', 'animals_cleaned/cats/cats_00493.jpg', 'animals_cleaned/cats/cats_00494.jpg', 'animals_cleaned/cats/cats_00495.jpg', 'animals_cleaned/cats/cats_00496.jpg', 'animals_cleaned/cats/cats_00497.jpg', 'animals_cleaned/cats/cats_00498.jpg', 'animals_cleaned/cats/cats_00499.jpg', 'animals_cleaned/cats/cats_00500.jpg', 'animals_cleaned/cats/cats_00501.jpg', 'animals_cleaned/cats/cats_00502.jpg', 'animals_cleaned/cats/cats_00503.jpg', 'animals_cleaned/cats/cats_00504.jpg', 'animals_cleaned/cats/cats_00505.jpg', 'animals_cleaned/cats/cats_00506.jpg', 'animals_cleaned/cats/cats_00507.jpg', 'animals_cleaned/cats/cats_00508.jpg', 'animals_cleaned/cats/cats_00509.jpg', 'animals_cleaned/cats/cats_00510.jpg', 'animals_cleaned/cats/cats_00511.jpg', 'animals_cleaned/cats/cats_00512.jpg', 'animals_cleaned/cats/cats_00513.jpg', 'animals_cleaned/cats/cats_00514.jpg', 'animals_cleaned/cats/cats_00515.jpg', 'animals_cleaned/cats/cats_00516.jpg', 'animals_cleaned/cats/cats_00517.jpg', 'animals_cleaned/cats/cats_00518.jpg', 'animals_cleaned/cats/cats_00519.jpg', 'animals_cleaned/cats/cats_00520.jpg', 'animals_cleaned/cats/cats_00521.jpg', 'animals_cleaned/cats/cats_00522.jpg', 'animals_cleaned/cats/cats_00523.jpg', 'animals_cleaned/cats/cats_00524.jpg', 'animals_cleaned/cats/cats_00525.jpg', 'animals_cleaned/cats/cats_00526.jpg', 'animals_cleaned/cats/cats_00527.jpg', 'animals_cleaned/cats/cats_00528.jpg', 'animals_cleaned/cats/cats_00529.jpg', 'animals_cleaned/cats/cats_00530.jpg', 'animals_cleaned/cats/cats_00531.jpg', 'animals_cleaned/cats/cats_00532.jpg', 'animals_cleaned/cats/cats_00533.jpg', 'animals_cleaned/cats/cats_00534.jpg', 'animals_cleaned/cats/cats_00535.jpg', 'animals_cleaned/cats/cats_00536.jpg', 'animals_cleaned/cats/cats_00537.jpg', 'animals_cleaned/cats/cats_00538.jpg', 'animals_cleaned/cats/cats_00539.jpg', 'animals_cleaned/cats/cats_00540.jpg', 'animals_cleaned/cats/cats_00541.jpg', 'animals_cleaned/cats/cats_00542.jpg', 'animals_cleaned/cats/cats_00543.jpg', 'animals_cleaned/cats/cats_00544.jpg', 'animals_cleaned/cats/cats_00545.jpg', 'animals_cleaned/cats/cats_00546.jpg', 'animals_cleaned/cats/cats_00547.jpg', 'animals_cleaned/cats/cats_00548.jpg', 'animals_cleaned/cats/cats_00549.jpg', 'animals_cleaned/cats/cats_00550.jpg', 'animals_cleaned/cats/cats_00551.jpg', 'animals_cleaned/cats/cats_00552.jpg', 'animals_cleaned/cats/cats_00553.jpg', 'animals_cleaned/cats/cats_00554.jpg', 'animals_cleaned/cats/cats_00555.jpg', 'animals_cleaned/cats/cats_00557.jpg', 'animals_cleaned/cats/cats_00558.jpg', 'animals_cleaned/cats/cats_00559.jpg', 'animals_cleaned/cats/cats_00560.jpg', 'animals_cleaned/cats/cats_00561.jpg', 'animals_cleaned/cats/cats_00562.jpg', 'animals_cleaned/cats/cats_00563.jpg', 'animals_cleaned/cats/cats_00564.jpg', 'animals_cleaned/cats/cats_00565.jpg', 'animals_cleaned/cats/cats_00566.jpg', 'animals_cleaned/cats/cats_00567.jpg', 'animals_cleaned/cats/cats_00568.jpg', 'animals_cleaned/cats/cats_00569.jpg', 'animals_cleaned/cats/cats_00570.jpg', 'animals_cleaned/cats/cats_00571.jpg', 'animals_cleaned/cats/cats_00572.jpg', 'animals_cleaned/cats/cats_00573.jpg', 'animals_cleaned/cats/cats_00574.jpg', 'animals_cleaned/cats/cats_00575.jpg', 'animals_cleaned/cats/cats_00576.jpg', 'animals_cleaned/cats/cats_00578.jpg', 'animals_cleaned/cats/cats_00579.jpg', 'animals_cleaned/cats/cats_00580.jpg', 'animals_cleaned/cats/cats_00581.jpg', 'animals_cleaned/cats/cats_00582.jpg', 'animals_cleaned/cats/cats_00583.jpg', 'animals_cleaned/cats/cats_00584.jpg', 'animals_cleaned/cats/cats_00585.jpg', 'animals_cleaned/cats/cats_00586.jpg', 'animals_cleaned/cats/cats_00587.jpg', 'animals_cleaned/cats/cats_00588.jpg', 'animals_cleaned/cats/cats_00589.jpg', 'animals_cleaned/cats/cats_00590.jpg', 'animals_cleaned/cats/cats_00591.jpg', 'animals_cleaned/cats/cats_00592.jpg', 'animals_cleaned/cats/cats_00593.jpg', 'animals_cleaned/cats/cats_00594.jpg', 'animals_cleaned/cats/cats_00595.jpg', 'animals_cleaned/cats/cats_00596.jpg', 'animals_cleaned/cats/cats_00597.jpg', 'animals_cleaned/cats/cats_00598.jpg', 'animals_cleaned/cats/cats_00599.jpg', 'animals_cleaned/cats/cats_00600.jpg', 'animals_cleaned/cats/cats_00601.jpg', 'animals_cleaned/cats/cats_00602.jpg', 'animals_cleaned/cats/cats_00603.jpg', 'animals_cleaned/cats/cats_00604.jpg', 'animals_cleaned/cats/cats_00605.jpg', 'animals_cleaned/cats/cats_00606.jpg', 'animals_cleaned/cats/cats_00607.jpg', 'animals_cleaned/cats/cats_00608.jpg', 'animals_cleaned/cats/cats_00609.jpg', 'animals_cleaned/cats/cats_00610.jpg', 'animals_cleaned/cats/cats_00611.jpg', 'animals_cleaned/cats/cats_00612.jpg', 'animals_cleaned/cats/cats_00613.jpg', 'animals_cleaned/cats/cats_00614.jpg', 'animals_cleaned/cats/cats_00615.jpg', 'animals_cleaned/cats/cats_00616.jpg', 'animals_cleaned/cats/cats_00617.jpg', 'animals_cleaned/cats/cats_00618.jpg', 'animals_cleaned/cats/cats_00619.jpg', 'animals_cleaned/cats/cats_00620.jpg', 'animals_cleaned/cats/cats_00621.jpg', 'animals_cleaned/cats/cats_00622.jpg', 'animals_cleaned/cats/cats_00623.jpg', 'animals_cleaned/cats/cats_00624.jpg', 'animals_cleaned/cats/cats_00625.jpg', 'animals_cleaned/cats/cats_00626.jpg', 'animals_cleaned/cats/cats_00627.jpg', 'animals_cleaned/cats/cats_00628.jpg', 'animals_cleaned/cats/cats_00629.jpg', 'animals_cleaned/cats/cats_00630.jpg', 'animals_cleaned/cats/cats_00631.jpg', 'animals_cleaned/cats/cats_00632.jpg', 'animals_cleaned/cats/cats_00633.jpg', 'animals_cleaned/cats/cats_00634.jpg', 'animals_cleaned/cats/cats_00635.jpg', 'animals_cleaned/cats/cats_00636.jpg', 'animals_cleaned/cats/cats_00637.jpg', 'animals_cleaned/cats/cats_00638.jpg', 'animals_cleaned/cats/cats_00639.jpg', 'animals_cleaned/cats/cats_00640.jpg', 'animals_cleaned/cats/cats_00641.jpg', 'animals_cleaned/cats/cats_00642.jpg', 'animals_cleaned/cats/cats_00643.jpg', 'animals_cleaned/cats/cats_00644.jpg', 'animals_cleaned/cats/cats_00645.jpg', 'animals_cleaned/cats/cats_00646.jpg', 'animals_cleaned/cats/cats_00647.jpg', 'animals_cleaned/cats/cats_00648.jpg', 'animals_cleaned/cats/cats_00649.jpg', 'animals_cleaned/cats/cats_00650.jpg', 'animals_cleaned/cats/cats_00651.jpg', 'animals_cleaned/cats/cats_00652.jpg', 'animals_cleaned/cats/cats_00653.jpg', 'animals_cleaned/cats/cats_00654.jpg', 'animals_cleaned/cats/cats_00655.jpg', 'animals_cleaned/cats/cats_00656.jpg', 'animals_cleaned/cats/cats_00657.jpg', 'animals_cleaned/cats/cats_00658.jpg', 'animals_cleaned/cats/cats_00659.jpg', 'animals_cleaned/cats/cats_00660.jpg', 'animals_cleaned/cats/cats_00661.jpg', 'animals_cleaned/cats/cats_00662.jpg', 'animals_cleaned/cats/cats_00663.jpg', 'animals_cleaned/cats/cats_00664.jpg', 'animals_cleaned/cats/cats_00665.jpg', 'animals_cleaned/cats/cats_00666.jpg', 'animals_cleaned/cats/cats_00667.jpg', 'animals_cleaned/cats/cats_00668.jpg', 'animals_cleaned/cats/cats_00669.jpg', 'animals_cleaned/cats/cats_00670.jpg', 'animals_cleaned/cats/cats_00671.jpg', 'animals_cleaned/cats/cats_00672.jpg', 'animals_cleaned/cats/cats_00673.jpg', 'animals_cleaned/cats/cats_00674.jpg', 'animals_cleaned/cats/cats_00675.jpg', 'animals_cleaned/cats/cats_00676.jpg', 'animals_cleaned/cats/cats_00677.jpg', 'animals_cleaned/cats/cats_00678.jpg', 'animals_cleaned/cats/cats_00679.jpg', 'animals_cleaned/cats/cats_00680.jpg', 'animals_cleaned/cats/cats_00681.jpg', 'animals_cleaned/cats/cats_00682.jpg', 'animals_cleaned/cats/cats_00683.jpg', 'animals_cleaned/cats/cats_00684.jpg', 'animals_cleaned/cats/cats_00685.jpg', 'animals_cleaned/cats/cats_00686.jpg', 'animals_cleaned/cats/cats_00687.jpg', 'animals_cleaned/cats/cats_00688.jpg', 'animals_cleaned/cats/cats_00689.jpg', 'animals_cleaned/cats/cats_00690.jpg', 'animals_cleaned/cats/cats_00691.jpg', 'animals_cleaned/cats/cats_00692.jpg', 'animals_cleaned/cats/cats_00693.jpg', 'animals_cleaned/cats/cats_00694.jpg', 'animals_cleaned/cats/cats_00695.jpg', 'animals_cleaned/cats/cats_00696.jpg', 'animals_cleaned/cats/cats_00697.jpg', 'animals_cleaned/cats/cats_00698.jpg', 'animals_cleaned/cats/cats_00699.jpg', 'animals_cleaned/cats/cats_00700.jpg', 'animals_cleaned/cats/cats_00701.jpg', 'animals_cleaned/cats/cats_00702.jpg', 'animals_cleaned/cats/cats_00703.jpg', 'animals_cleaned/cats/cats_00704.jpg', 'animals_cleaned/cats/cats_00705.jpg', 'animals_cleaned/cats/cats_00706.jpg', 'animals_cleaned/cats/cats_00707.jpg', 'animals_cleaned/cats/cats_00708.jpg', 'animals_cleaned/cats/cats_00709.jpg', 'animals_cleaned/cats/cats_00710.jpg', 'animals_cleaned/cats/cats_00711.jpg', 'animals_cleaned/cats/cats_00712.jpg', 'animals_cleaned/cats/cats_00713.jpg', 'animals_cleaned/cats/cats_00714.jpg', 'animals_cleaned/cats/cats_00715.jpg', 'animals_cleaned/cats/cats_00716.jpg', 'animals_cleaned/cats/cats_00717.jpg', 'animals_cleaned/cats/cats_00718.jpg', 'animals_cleaned/cats/cats_00719.jpg', 'animals_cleaned/cats/cats_00720.jpg', 'animals_cleaned/cats/cats_00721.jpg', 'animals_cleaned/cats/cats_00722.jpg', 'animals_cleaned/cats/cats_00723.jpg', 'animals_cleaned/cats/cats_00724.jpg', 'animals_cleaned/cats/cats_00725.jpg', 'animals_cleaned/cats/cats_00726.jpg', 'animals_cleaned/cats/cats_00727.jpg', 'animals_cleaned/cats/cats_00728.jpg', 'animals_cleaned/cats/cats_00729.jpg', 'animals_cleaned/cats/cats_00730.jpg', 'animals_cleaned/cats/cats_00731.jpg', 'animals_cleaned/cats/cats_00732.jpg', 'animals_cleaned/cats/cats_00733.jpg', 'animals_cleaned/cats/cats_00734.jpg', 'animals_cleaned/cats/cats_00735.jpg', 'animals_cleaned/cats/cats_00736.jpg', 'animals_cleaned/cats/cats_00737.jpg', 'animals_cleaned/cats/cats_00738.jpg', 'animals_cleaned/cats/cats_00739.jpg', 'animals_cleaned/cats/cats_00740.jpg', 'animals_cleaned/cats/cats_00741.jpg', 'animals_cleaned/cats/cats_00742.jpg', 'animals_cleaned/cats/cats_00743.jpg', 'animals_cleaned/cats/cats_00744.jpg', 'animals_cleaned/cats/cats_00745.jpg', 'animals_cleaned/cats/cats_00746.jpg', 'animals_cleaned/cats/cats_00747.jpg', 'animals_cleaned/cats/cats_00748.jpg', 'animals_cleaned/cats/cats_00749.jpg', 'animals_cleaned/cats/cats_00750.jpg', 'animals_cleaned/cats/cats_00751.jpg', 'animals_cleaned/cats/cats_00752.jpg', 'animals_cleaned/cats/cats_00753.jpg', 'animals_cleaned/cats/cats_00754.jpg', 'animals_cleaned/cats/cats_00755.jpg', 'animals_cleaned/cats/cats_00756.jpg', 'animals_cleaned/cats/cats_00757.jpg', 'animals_cleaned/cats/cats_00758.jpg', 'animals_cleaned/cats/cats_00759.jpg', 'animals_cleaned/cats/cats_00760.jpg', 'animals_cleaned/cats/cats_00761.jpg', 'animals_cleaned/cats/cats_00762.jpg', 'animals_cleaned/cats/cats_00763.jpg', 'animals_cleaned/cats/cats_00764.jpg', 'animals_cleaned/cats/cats_00765.jpg', 'animals_cleaned/cats/cats_00766.jpg', 'animals_cleaned/cats/cats_00767.jpg', 'animals_cleaned/cats/cats_00768.jpg', 'animals_cleaned/cats/cats_00769.jpg', 'animals_cleaned/cats/cats_00770.jpg', 'animals_cleaned/cats/cats_00771.jpg', 'animals_cleaned/cats/cats_00772.jpg', 'animals_cleaned/cats/cats_00773.jpg', 'animals_cleaned/cats/cats_00774.jpg', 'animals_cleaned/cats/cats_00775.jpg', 'animals_cleaned/cats/cats_00776.jpg', 'animals_cleaned/cats/cats_00777.jpg', 'animals_cleaned/cats/cats_00778.jpg', 'animals_cleaned/cats/cats_00779.jpg', 'animals_cleaned/cats/cats_00780.jpg', 'animals_cleaned/cats/cats_00781.jpg', 'animals_cleaned/cats/cats_00782.jpg', 'animals_cleaned/cats/cats_00783.jpg', 'animals_cleaned/cats/cats_00784.jpg', 'animals_cleaned/cats/cats_00785.jpg', 'animals_cleaned/cats/cats_00786.jpg', 'animals_cleaned/cats/cats_00787.jpg', 'animals_cleaned/cats/cats_00788.jpg', 'animals_cleaned/cats/cats_00789.jpg', 'animals_cleaned/cats/cats_00790.jpg', 'animals_cleaned/cats/cats_00791.jpg', 'animals_cleaned/cats/cats_00792.jpg', 'animals_cleaned/cats/cats_00793.jpg', 'animals_cleaned/cats/cats_00794.jpg', 'animals_cleaned/cats/cats_00795.jpg', 'animals_cleaned/cats/cats_00796.jpg', 'animals_cleaned/cats/cats_00797.jpg', 'animals_cleaned/cats/cats_00798.jpg', 'animals_cleaned/cats/cats_00799.jpg', 'animals_cleaned/cats/cats_00800.jpg', 'animals_cleaned/cats/cats_00801.jpg', 'animals_cleaned/cats/cats_00802.jpg', 'animals_cleaned/cats/cats_00803.jpg', 'animals_cleaned/cats/cats_00804.jpg', 'animals_cleaned/cats/cats_00805.jpg', 'animals_cleaned/cats/cats_00806.jpg', 'animals_cleaned/cats/cats_00807.jpg', 'animals_cleaned/cats/cats_00808.jpg', 'animals_cleaned/cats/cats_00809.jpg', 'animals_cleaned/cats/cats_00810.jpg', 'animals_cleaned/cats/cats_00811.jpg', 'animals_cleaned/cats/cats_00812.jpg', 'animals_cleaned/cats/cats_00813.jpg', 'animals_cleaned/cats/cats_00814.jpg', 'animals_cleaned/cats/cats_00815.jpg', 'animals_cleaned/cats/cats_00816.jpg', 'animals_cleaned/cats/cats_00817.jpg', 'animals_cleaned/cats/cats_00818.jpg', 'animals_cleaned/cats/cats_00819.jpg', 'animals_cleaned/cats/cats_00820.jpg', 'animals_cleaned/cats/cats_00821.jpg', 'animals_cleaned/cats/cats_00822.jpg', 'animals_cleaned/cats/cats_00823.jpg', 'animals_cleaned/cats/cats_00824.jpg', 'animals_cleaned/cats/cats_00825.jpg', 'animals_cleaned/cats/cats_00826.jpg', 'animals_cleaned/cats/cats_00827.jpg', 'animals_cleaned/cats/cats_00828.jpg', 'animals_cleaned/cats/cats_00829.jpg', 'animals_cleaned/cats/cats_00830.jpg', 'animals_cleaned/cats/cats_00831.jpg', 'animals_cleaned/cats/cats_00832.jpg', 'animals_cleaned/cats/cats_00833.jpg', 'animals_cleaned/cats/cats_00834.jpg', 'animals_cleaned/cats/cats_00835.jpg', 'animals_cleaned/cats/cats_00836.jpg', 'animals_cleaned/cats/cats_00837.jpg', 'animals_cleaned/cats/cats_00838.jpg', 'animals_cleaned/cats/cats_00839.jpg', 'animals_cleaned/cats/cats_00840.jpg', 'animals_cleaned/cats/cats_00841.jpg', 'animals_cleaned/cats/cats_00842.jpg', 'animals_cleaned/cats/cats_00843.jpg', 'animals_cleaned/cats/cats_00844.jpg', 'animals_cleaned/cats/cats_00845.jpg', 'animals_cleaned/cats/cats_00846.jpg', 'animals_cleaned/cats/cats_00847.jpg', 'animals_cleaned/cats/cats_00848.jpg', 'animals_cleaned/cats/cats_00849.jpg', 'animals_cleaned/cats/cats_00850.jpg', 'animals_cleaned/cats/cats_00851.jpg', 'animals_cleaned/cats/cats_00852.jpg', 'animals_cleaned/cats/cats_00853.jpg', 'animals_cleaned/cats/cats_00854.jpg', 'animals_cleaned/cats/cats_00855.jpg', 'animals_cleaned/cats/cats_00856.jpg', 'animals_cleaned/cats/cats_00857.jpg', 'animals_cleaned/cats/cats_00858.jpg', 'animals_cleaned/cats/cats_00859.jpg', 'animals_cleaned/cats/cats_00860.jpg', 'animals_cleaned/cats/cats_00861.jpg', 'animals_cleaned/cats/cats_00862.jpg', 'animals_cleaned/cats/cats_00863.jpg', 'animals_cleaned/cats/cats_00864.jpg', 'animals_cleaned/cats/cats_00865.jpg', 'animals_cleaned/cats/cats_00866.jpg', 'animals_cleaned/cats/cats_00867.jpg', 'animals_cleaned/cats/cats_00868.jpg', 'animals_cleaned/cats/cats_00869.jpg', 'animals_cleaned/cats/cats_00870.jpg', 'animals_cleaned/cats/cats_00871.jpg', 'animals_cleaned/cats/cats_00872.jpg', 'animals_cleaned/cats/cats_00873.jpg', 'animals_cleaned/cats/cats_00874.jpg', 'animals_cleaned/cats/cats_00875.jpg', 'animals_cleaned/cats/cats_00876.jpg', 'animals_cleaned/cats/cats_00877.jpg', 'animals_cleaned/cats/cats_00878.jpg', 'animals_cleaned/cats/cats_00879.jpg', 'animals_cleaned/cats/cats_00880.jpg', 'animals_cleaned/cats/cats_00881.jpg', 'animals_cleaned/cats/cats_00882.jpg', 'animals_cleaned/cats/cats_00883.jpg', 'animals_cleaned/cats/cats_00884.jpg', 'animals_cleaned/cats/cats_00885.jpg', 'animals_cleaned/cats/cats_00886.jpg', 'animals_cleaned/cats/cats_00887.jpg', 'animals_cleaned/cats/cats_00888.jpg', 'animals_cleaned/cats/cats_00889.jpg', 'animals_cleaned/cats/cats_00890.jpg', 'animals_cleaned/cats/cats_00891.jpg', 'animals_cleaned/cats/cats_00892.jpg', 'animals_cleaned/cats/cats_00893.jpg', 'animals_cleaned/cats/cats_00894.jpg', 'animals_cleaned/cats/cats_00895.jpg', 'animals_cleaned/cats/cats_00896.jpg', 'animals_cleaned/cats/cats_00897.jpg', 'animals_cleaned/cats/cats_00898.jpg', 'animals_cleaned/cats/cats_00899.jpg', 'animals_cleaned/cats/cats_00900.jpg', 'animals_cleaned/cats/cats_00901.jpg', 'animals_cleaned/cats/cats_00902.jpg', 'animals_cleaned/cats/cats_00903.jpg', 'animals_cleaned/cats/cats_00904.jpg', 'animals_cleaned/cats/cats_00905.jpg', 'animals_cleaned/cats/cats_00906.jpg', 'animals_cleaned/cats/cats_00907.jpg', 'animals_cleaned/cats/cats_00908.jpg', 'animals_cleaned/cats/cats_00909.jpg', 'animals_cleaned/cats/cats_00910.jpg', 'animals_cleaned/cats/cats_00911.jpg', 'animals_cleaned/cats/cats_00912.jpg', 'animals_cleaned/cats/cats_00913.jpg', 'animals_cleaned/cats/cats_00914.jpg', 'animals_cleaned/cats/cats_00915.jpg', 'animals_cleaned/cats/cats_00916.jpg', 'animals_cleaned/cats/cats_00917.jpg', 'animals_cleaned/cats/cats_00918.jpg', 'animals_cleaned/cats/cats_00919.jpg', 'animals_cleaned/cats/cats_00920.jpg', 'animals_cleaned/cats/cats_00921.jpg', 'animals_cleaned/cats/cats_00922.jpg', 'animals_cleaned/cats/cats_00923.jpg', 'animals_cleaned/cats/cats_00924.jpg', 'animals_cleaned/cats/cats_00925.jpg', 'animals_cleaned/cats/cats_00926.jpg', 'animals_cleaned/cats/cats_00927.jpg', 'animals_cleaned/cats/cats_00928.jpg', 'animals_cleaned/cats/cats_00929.jpg', 'animals_cleaned/cats/cats_00930.jpg', 'animals_cleaned/cats/cats_00931.jpg', 'animals_cleaned/cats/cats_00932.jpg', 'animals_cleaned/cats/cats_00933.jpg', 'animals_cleaned/cats/cats_00934.jpg', 'animals_cleaned/cats/cats_00935.jpg', 'animals_cleaned/cats/cats_00936.jpg', 'animals_cleaned/cats/cats_00937.jpg', 'animals_cleaned/cats/cats_00938.jpg', 'animals_cleaned/cats/cats_00939.jpg', 'animals_cleaned/cats/cats_00940.jpg', 'animals_cleaned/cats/cats_00941.jpg', 'animals_cleaned/cats/cats_00942.jpg', 'animals_cleaned/cats/cats_00943.jpg', 'animals_cleaned/cats/cats_00944.jpg', 'animals_cleaned/cats/cats_00945.jpg', 'animals_cleaned/cats/cats_00946.jpg', 'animals_cleaned/cats/cats_00947.jpg', 'animals_cleaned/cats/cats_00948.jpg', 'animals_cleaned/cats/cats_00949.jpg', 'animals_cleaned/cats/cats_00950.jpg', 'animals_cleaned/cats/cats_00951.jpg', 'animals_cleaned/cats/cats_00952.jpg', 'animals_cleaned/cats/cats_00953.jpg', 'animals_cleaned/cats/cats_00954.jpg', 'animals_cleaned/cats/cats_00955.jpg', 'animals_cleaned/cats/cats_00956.jpg', 'animals_cleaned/cats/cats_00957.jpg', 'animals_cleaned/cats/cats_00958.jpg', 'animals_cleaned/cats/cats_00959.jpg', 'animals_cleaned/cats/cats_00960.jpg', 'animals_cleaned/cats/cats_00961.jpg', 'animals_cleaned/cats/cats_00962.jpg', 'animals_cleaned/cats/cats_00963.jpg', 'animals_cleaned/cats/cats_00964.jpg', 'animals_cleaned/cats/cats_00965.jpg', 'animals_cleaned/cats/cats_00966.jpg', 'animals_cleaned/cats/cats_00967.jpg', 'animals_cleaned/cats/cats_00968.jpg', 'animals_cleaned/cats/cats_00969.jpg', 'animals_cleaned/cats/cats_00970.jpg', 'animals_cleaned/cats/cats_00971.jpg', 'animals_cleaned/cats/cats_00972.jpg', 'animals_cleaned/cats/cats_00973.jpg', 'animals_cleaned/cats/cats_00974.jpg', 'animals_cleaned/cats/cats_00975.jpg', 'animals_cleaned/cats/cats_00976.jpg', 'animals_cleaned/cats/cats_00977.jpg', 'animals_cleaned/cats/cats_00978.jpg', 'animals_cleaned/cats/cats_00979.jpg', 'animals_cleaned/cats/cats_00980.jpg', 'animals_cleaned/cats/cats_00981.jpg', 'animals_cleaned/cats/cats_00982.jpg', 'animals_cleaned/cats/cats_00983.jpg', 'animals_cleaned/cats/cats_00984.jpg', 'animals_cleaned/cats/cats_00985.jpg', 'animals_cleaned/cats/cats_00986.jpg', 'animals_cleaned/cats/cats_00987.jpg', 'animals_cleaned/cats/cats_00988.jpg', 'animals_cleaned/cats/cats_00989.jpg', 'animals_cleaned/cats/cats_00990.jpg', 'animals_cleaned/cats/cats_00991.jpg', 'animals_cleaned/cats/cats_00992.jpg', 'animals_cleaned/cats/cats_00993.jpg', 'animals_cleaned/cats/cats_00994.jpg', 'animals_cleaned/cats/cats_00995.jpg', 'animals_cleaned/cats/cats_00996.jpg', 'animals_cleaned/cats/cats_00997.jpg', 'animals_cleaned/cats/cats_00998.jpg', 'animals_cleaned/cats/cats_00999.jpg', 'animals_cleaned/cats/cats_01000.jpg', 'animals_cleaned/dogs/dogs_00001.jpg', 'animals_cleaned/dogs/dogs_00002.jpg', 'animals_cleaned/dogs/dogs_00003.jpg', 'animals_cleaned/dogs/dogs_00004.jpg', 'animals_cleaned/dogs/dogs_00005.jpg', 'animals_cleaned/dogs/dogs_00006.jpg', 'animals_cleaned/dogs/dogs_00007.jpg', 'animals_cleaned/dogs/dogs_00008.jpg', 'animals_cleaned/dogs/dogs_00009.jpg', 'animals_cleaned/dogs/dogs_00010.jpg', 'animals_cleaned/dogs/dogs_00011.jpg', 'animals_cleaned/dogs/dogs_00012.jpg', 'animals_cleaned/dogs/dogs_00013.jpg', 'animals_cleaned/dogs/dogs_00014.jpg', 'animals_cleaned/dogs/dogs_00015.jpg', 'animals_cleaned/dogs/dogs_00016.jpg', 'animals_cleaned/dogs/dogs_00017.jpg', 'animals_cleaned/dogs/dogs_00018.jpg', 'animals_cleaned/dogs/dogs_00019.jpg', 'animals_cleaned/dogs/dogs_00020.jpg', 'animals_cleaned/dogs/dogs_00021.jpg', 'animals_cleaned/dogs/dogs_00022.jpg', 'animals_cleaned/dogs/dogs_00023.jpg', 'animals_cleaned/dogs/dogs_00024.jpg', 'animals_cleaned/dogs/dogs_00025.jpg', 'animals_cleaned/dogs/dogs_00026.jpg', 'animals_cleaned/dogs/dogs_00027.jpg', 'animals_cleaned/dogs/dogs_00028.jpg', 'animals_cleaned/dogs/dogs_00029.jpg', 'animals_cleaned/dogs/dogs_00030.jpg', 'animals_cleaned/dogs/dogs_00031.jpg', 'animals_cleaned/dogs/dogs_00032.jpg', 'animals_cleaned/dogs/dogs_00033.jpg', 'animals_cleaned/dogs/dogs_00034.jpg', 'animals_cleaned/dogs/dogs_00035.jpg', 'animals_cleaned/dogs/dogs_00036.jpg', 'animals_cleaned/dogs/dogs_00037.jpg', 'animals_cleaned/dogs/dogs_00038.jpg', 'animals_cleaned/dogs/dogs_00039.jpg', 'animals_cleaned/dogs/dogs_00040.jpg', 'animals_cleaned/dogs/dogs_00041.jpg', 'animals_cleaned/dogs/dogs_00042.jpg', 'animals_cleaned/dogs/dogs_00043.jpg', 'animals_cleaned/dogs/dogs_00044.jpg', 'animals_cleaned/dogs/dogs_00045.jpg', 'animals_cleaned/dogs/dogs_00046.jpg', 'animals_cleaned/dogs/dogs_00047.jpg', 'animals_cleaned/dogs/dogs_00048.jpg', 'animals_cleaned/dogs/dogs_00049.jpg', 'animals_cleaned/dogs/dogs_00050.jpg', 'animals_cleaned/dogs/dogs_00051.jpg', 'animals_cleaned/dogs/dogs_00052.jpg', 'animals_cleaned/dogs/dogs_00053.jpg', 'animals_cleaned/dogs/dogs_00054.jpg', 'animals_cleaned/dogs/dogs_00055.jpg', 'animals_cleaned/dogs/dogs_00056.jpg', 'animals_cleaned/dogs/dogs_00057.jpg', 'animals_cleaned/dogs/dogs_00058.jpg', 'animals_cleaned/dogs/dogs_00059.jpg', 'animals_cleaned/dogs/dogs_00060.jpg', 'animals_cleaned/dogs/dogs_00061.jpg', 'animals_cleaned/dogs/dogs_00062.jpg', 'animals_cleaned/dogs/dogs_00063.jpg', 'animals_cleaned/dogs/dogs_00064.jpg', 'animals_cleaned/dogs/dogs_00066.jpg', 'animals_cleaned/dogs/dogs_00067.jpg', 'animals_cleaned/dogs/dogs_00068.jpg', 'animals_cleaned/dogs/dogs_00069.jpg', 'animals_cleaned/dogs/dogs_00070.jpg', 'animals_cleaned/dogs/dogs_00071.jpg', 'animals_cleaned/dogs/dogs_00072.jpg', 'animals_cleaned/dogs/dogs_00073.jpg', 'animals_cleaned/dogs/dogs_00074.jpg', 'animals_cleaned/dogs/dogs_00075.jpg', 'animals_cleaned/dogs/dogs_00076.jpg', 'animals_cleaned/dogs/dogs_00077.jpg', 'animals_cleaned/dogs/dogs_00078.jpg', 'animals_cleaned/dogs/dogs_00079.jpg', 'animals_cleaned/dogs/dogs_00080.jpg', 'animals_cleaned/dogs/dogs_00081.jpg', 'animals_cleaned/dogs/dogs_00082.jpg', 'animals_cleaned/dogs/dogs_00083.jpg', 'animals_cleaned/dogs/dogs_00084.jpg', 'animals_cleaned/dogs/dogs_00085.jpg', 'animals_cleaned/dogs/dogs_00086.jpg', 'animals_cleaned/dogs/dogs_00087.jpg', 'animals_cleaned/dogs/dogs_00088.jpg', 'animals_cleaned/dogs/dogs_00089.jpg', 'animals_cleaned/dogs/dogs_00090.jpg', 'animals_cleaned/dogs/dogs_00091.jpg', 'animals_cleaned/dogs/dogs_00092.jpg', 'animals_cleaned/dogs/dogs_00093.jpg', 'animals_cleaned/dogs/dogs_00094.jpg', 'animals_cleaned/dogs/dogs_00095.jpg', 'animals_cleaned/dogs/dogs_00096.jpg', 'animals_cleaned/dogs/dogs_00097.jpg', 'animals_cleaned/dogs/dogs_00098.jpg', 'animals_cleaned/dogs/dogs_00099.jpg', 'animals_cleaned/dogs/dogs_00100.jpg', 'animals_cleaned/dogs/dogs_00101.jpg', 'animals_cleaned/dogs/dogs_00102.jpg', 'animals_cleaned/dogs/dogs_00103.jpg', 'animals_cleaned/dogs/dogs_00104.jpg', 'animals_cleaned/dogs/dogs_00105.jpg', 'animals_cleaned/dogs/dogs_00106.jpg', 'animals_cleaned/dogs/dogs_00107.jpg', 'animals_cleaned/dogs/dogs_00108.jpg', 'animals_cleaned/dogs/dogs_00109.jpg', 'animals_cleaned/dogs/dogs_00110.jpg', 'animals_cleaned/dogs/dogs_00111.jpg', 'animals_cleaned/dogs/dogs_00112.jpg', 'animals_cleaned/dogs/dogs_00113.jpg', 'animals_cleaned/dogs/dogs_00114.jpg', 'animals_cleaned/dogs/dogs_00115.jpg', 'animals_cleaned/dogs/dogs_00116.jpg', 'animals_cleaned/dogs/dogs_00117.jpg', 'animals_cleaned/dogs/dogs_00118.jpg', 'animals_cleaned/dogs/dogs_00119.jpg', 'animals_cleaned/dogs/dogs_00120.jpg', 'animals_cleaned/dogs/dogs_00121.jpg', 'animals_cleaned/dogs/dogs_00122.jpg', 'animals_cleaned/dogs/dogs_00123.jpg', 'animals_cleaned/dogs/dogs_00124.jpg', 'animals_cleaned/dogs/dogs_00125.jpg', 'animals_cleaned/dogs/dogs_00126.jpg', 'animals_cleaned/dogs/dogs_00127.jpg', 'animals_cleaned/dogs/dogs_00128.jpg', 'animals_cleaned/dogs/dogs_00129.jpg', 'animals_cleaned/dogs/dogs_00130.jpg', 'animals_cleaned/dogs/dogs_00131.jpg', 'animals_cleaned/dogs/dogs_00132.jpg', 'animals_cleaned/dogs/dogs_00133.jpg', 'animals_cleaned/dogs/dogs_00134.jpg', 'animals_cleaned/dogs/dogs_00135.jpg', 'animals_cleaned/dogs/dogs_00136.jpg', 'animals_cleaned/dogs/dogs_00137.jpg', 'animals_cleaned/dogs/dogs_00138.jpg', 'animals_cleaned/dogs/dogs_00139.jpg', 'animals_cleaned/dogs/dogs_00140.jpg', 'animals_cleaned/dogs/dogs_00141.jpg', 'animals_cleaned/dogs/dogs_00142.jpg', 'animals_cleaned/dogs/dogs_00143.jpg', 'animals_cleaned/dogs/dogs_00144.jpg', 'animals_cleaned/dogs/dogs_00145.jpg', 'animals_cleaned/dogs/dogs_00146.jpg', 'animals_cleaned/dogs/dogs_00147.jpg', 'animals_cleaned/dogs/dogs_00148.jpg', 'animals_cleaned/dogs/dogs_00149.jpg', 'animals_cleaned/dogs/dogs_00150.jpg', 'animals_cleaned/dogs/dogs_00151.jpg', 'animals_cleaned/dogs/dogs_00152.jpg', 'animals_cleaned/dogs/dogs_00153.jpg', 'animals_cleaned/dogs/dogs_00154.jpg', 'animals_cleaned/dogs/dogs_00155.jpg', 'animals_cleaned/dogs/dogs_00156.jpg', 'animals_cleaned/dogs/dogs_00157.jpg', 'animals_cleaned/dogs/dogs_00158.jpg', 'animals_cleaned/dogs/dogs_00159.jpg', 'animals_cleaned/dogs/dogs_00160.jpg', 'animals_cleaned/dogs/dogs_00161.jpg', 'animals_cleaned/dogs/dogs_00162.jpg', 'animals_cleaned/dogs/dogs_00163.jpg', 'animals_cleaned/dogs/dogs_00164.jpg', 'animals_cleaned/dogs/dogs_00165.jpg', 'animals_cleaned/dogs/dogs_00166.jpg', 'animals_cleaned/dogs/dogs_00167.jpg', 'animals_cleaned/dogs/dogs_00168.jpg', 'animals_cleaned/dogs/dogs_00169.jpg', 'animals_cleaned/dogs/dogs_00170.jpg', 'animals_cleaned/dogs/dogs_00171.jpg', 'animals_cleaned/dogs/dogs_00172.jpg', 'animals_cleaned/dogs/dogs_00173.jpg', 'animals_cleaned/dogs/dogs_00174.jpg', 'animals_cleaned/dogs/dogs_00175.jpg', 'animals_cleaned/dogs/dogs_00176.jpg', 'animals_cleaned/dogs/dogs_00177.jpg', 'animals_cleaned/dogs/dogs_00178.jpg', 'animals_cleaned/dogs/dogs_00179.jpg', 'animals_cleaned/dogs/dogs_00180.jpg', 'animals_cleaned/dogs/dogs_00181.jpg', 'animals_cleaned/dogs/dogs_00182.jpg', 'animals_cleaned/dogs/dogs_00183.jpg', 'animals_cleaned/dogs/dogs_00184.jpg', 'animals_cleaned/dogs/dogs_00185.jpg', 'animals_cleaned/dogs/dogs_00186.jpg', 'animals_cleaned/dogs/dogs_00187.jpg', 'animals_cleaned/dogs/dogs_00188.jpg', 'animals_cleaned/dogs/dogs_00189.jpg', 'animals_cleaned/dogs/dogs_00190.jpg', 'animals_cleaned/dogs/dogs_00191.jpg', 'animals_cleaned/dogs/dogs_00192.jpg', 'animals_cleaned/dogs/dogs_00193.jpg', 'animals_cleaned/dogs/dogs_00194.jpg', 'animals_cleaned/dogs/dogs_00195.jpg', 'animals_cleaned/dogs/dogs_00196.jpg', 'animals_cleaned/dogs/dogs_00197.jpg', 'animals_cleaned/dogs/dogs_00199.jpg', 'animals_cleaned/dogs/dogs_00200.jpg', 'animals_cleaned/dogs/dogs_00201.jpg', 'animals_cleaned/dogs/dogs_00202.jpg', 'animals_cleaned/dogs/dogs_00203.jpg', 'animals_cleaned/dogs/dogs_00204.jpg', 'animals_cleaned/dogs/dogs_00205.jpg', 'animals_cleaned/dogs/dogs_00207.jpg', 'animals_cleaned/dogs/dogs_00208.jpg', 'animals_cleaned/dogs/dogs_00209.jpg', 'animals_cleaned/dogs/dogs_00210.jpg', 'animals_cleaned/dogs/dogs_00211.jpg', 'animals_cleaned/dogs/dogs_00212.jpg', 'animals_cleaned/dogs/dogs_00213.jpg', 'animals_cleaned/dogs/dogs_00214.jpg', 'animals_cleaned/dogs/dogs_00215.jpg', 'animals_cleaned/dogs/dogs_00216.jpg', 'animals_cleaned/dogs/dogs_00217.jpg', 'animals_cleaned/dogs/dogs_00218.jpg', 'animals_cleaned/dogs/dogs_00219.jpg', 'animals_cleaned/dogs/dogs_00220.jpg', 'animals_cleaned/dogs/dogs_00221.jpg', 'animals_cleaned/dogs/dogs_00222.jpg', 'animals_cleaned/dogs/dogs_00223.jpg', 'animals_cleaned/dogs/dogs_00224.jpg', 'animals_cleaned/dogs/dogs_00225.jpg', 'animals_cleaned/dogs/dogs_00226.jpg', 'animals_cleaned/dogs/dogs_00227.jpg', 'animals_cleaned/dogs/dogs_00228.jpg', 'animals_cleaned/dogs/dogs_00229.jpg', 'animals_cleaned/dogs/dogs_00230.jpg', 'animals_cleaned/dogs/dogs_00231.jpg', 'animals_cleaned/dogs/dogs_00232.jpg', 'animals_cleaned/dogs/dogs_00233.jpg', 'animals_cleaned/dogs/dogs_00234.jpg', 'animals_cleaned/dogs/dogs_00235.jpg', 'animals_cleaned/dogs/dogs_00236.jpg', 'animals_cleaned/dogs/dogs_00237.jpg', 'animals_cleaned/dogs/dogs_00238.jpg', 'animals_cleaned/dogs/dogs_00239.jpg', 'animals_cleaned/dogs/dogs_00240.jpg', 'animals_cleaned/dogs/dogs_00241.jpg', 'animals_cleaned/dogs/dogs_00242.jpg', 'animals_cleaned/dogs/dogs_00243.jpg', 'animals_cleaned/dogs/dogs_00244.jpg', 'animals_cleaned/dogs/dogs_00245.jpg', 'animals_cleaned/dogs/dogs_00246.jpg', 'animals_cleaned/dogs/dogs_00247.jpg', 'animals_cleaned/dogs/dogs_00248.jpg', 'animals_cleaned/dogs/dogs_00249.jpg', 'animals_cleaned/dogs/dogs_00250.jpg', 'animals_cleaned/dogs/dogs_00251.jpg', 'animals_cleaned/dogs/dogs_00252.jpg', 'animals_cleaned/dogs/dogs_00253.jpg', 'animals_cleaned/dogs/dogs_00254.jpg', 'animals_cleaned/dogs/dogs_00255.jpg', 'animals_cleaned/dogs/dogs_00256.jpg', 'animals_cleaned/dogs/dogs_00257.jpg', 'animals_cleaned/dogs/dogs_00258.jpg', 'animals_cleaned/dogs/dogs_00259.jpg', 'animals_cleaned/dogs/dogs_00260.jpg', 'animals_cleaned/dogs/dogs_00261.jpg', 'animals_cleaned/dogs/dogs_00262.jpg', 'animals_cleaned/dogs/dogs_00263.jpg', 'animals_cleaned/dogs/dogs_00264.jpg', 'animals_cleaned/dogs/dogs_00265.jpg', 'animals_cleaned/dogs/dogs_00266.jpg', 'animals_cleaned/dogs/dogs_00267.jpg', 'animals_cleaned/dogs/dogs_00268.jpg', 'animals_cleaned/dogs/dogs_00269.jpg', 'animals_cleaned/dogs/dogs_00270.jpg', 'animals_cleaned/dogs/dogs_00271.jpg', 'animals_cleaned/dogs/dogs_00272.jpg', 'animals_cleaned/dogs/dogs_00273.jpg', 'animals_cleaned/dogs/dogs_00274.jpg', 'animals_cleaned/dogs/dogs_00275.jpg', 'animals_cleaned/dogs/dogs_00276.jpg', 'animals_cleaned/dogs/dogs_00277.jpg', 'animals_cleaned/dogs/dogs_00278.jpg', 'animals_cleaned/dogs/dogs_00279.jpg', 'animals_cleaned/dogs/dogs_00280.jpg', 'animals_cleaned/dogs/dogs_00281.jpg', 'animals_cleaned/dogs/dogs_00282.jpg', 'animals_cleaned/dogs/dogs_00283.jpg', 'animals_cleaned/dogs/dogs_00284.jpg', 'animals_cleaned/dogs/dogs_00285.jpg', 'animals_cleaned/dogs/dogs_00286.jpg', 'animals_cleaned/dogs/dogs_00287.jpg', 'animals_cleaned/dogs/dogs_00288.jpg', 'animals_cleaned/dogs/dogs_00289.jpg', 'animals_cleaned/dogs/dogs_00290.jpg', 'animals_cleaned/dogs/dogs_00291.jpg', 'animals_cleaned/dogs/dogs_00292.jpg', 'animals_cleaned/dogs/dogs_00293.jpg', 'animals_cleaned/dogs/dogs_00294.jpg', 'animals_cleaned/dogs/dogs_00295.jpg', 'animals_cleaned/dogs/dogs_00296.jpg', 'animals_cleaned/dogs/dogs_00297.jpg', 'animals_cleaned/dogs/dogs_00298.jpg', 'animals_cleaned/dogs/dogs_00299.jpg', 'animals_cleaned/dogs/dogs_00300.jpg', 'animals_cleaned/dogs/dogs_00301.jpg', 'animals_cleaned/dogs/dogs_00302.jpg', 'animals_cleaned/dogs/dogs_00303.jpg', 'animals_cleaned/dogs/dogs_00304.jpg', 'animals_cleaned/dogs/dogs_00305.jpg', 'animals_cleaned/dogs/dogs_00306.jpg', 'animals_cleaned/dogs/dogs_00307.jpg', 'animals_cleaned/dogs/dogs_00308.jpg', 'animals_cleaned/dogs/dogs_00309.jpg', 'animals_cleaned/dogs/dogs_00310.jpg', 'animals_cleaned/dogs/dogs_00311.jpg', 'animals_cleaned/dogs/dogs_00312.jpg', 'animals_cleaned/dogs/dogs_00313.jpg', 'animals_cleaned/dogs/dogs_00314.jpg', 'animals_cleaned/dogs/dogs_00315.jpg', 'animals_cleaned/dogs/dogs_00316.jpg', 'animals_cleaned/dogs/dogs_00317.jpg', 'animals_cleaned/dogs/dogs_00318.jpg', 'animals_cleaned/dogs/dogs_00319.jpg', 'animals_cleaned/dogs/dogs_00320.jpg', 'animals_cleaned/dogs/dogs_00321.jpg', 'animals_cleaned/dogs/dogs_00322.jpg', 'animals_cleaned/dogs/dogs_00323.jpg', 'animals_cleaned/dogs/dogs_00324.jpg', 'animals_cleaned/dogs/dogs_00325.jpg', 'animals_cleaned/dogs/dogs_00326.jpg', 'animals_cleaned/dogs/dogs_00327.jpg', 'animals_cleaned/dogs/dogs_00328.jpg', 'animals_cleaned/dogs/dogs_00329.jpg', 'animals_cleaned/dogs/dogs_00331.jpg', 'animals_cleaned/dogs/dogs_00332.jpg', 'animals_cleaned/dogs/dogs_00333.jpg', 'animals_cleaned/dogs/dogs_00334.jpg', 'animals_cleaned/dogs/dogs_00335.jpg', 'animals_cleaned/dogs/dogs_00336.jpg', 'animals_cleaned/dogs/dogs_00337.jpg', 'animals_cleaned/dogs/dogs_00338.jpg', 'animals_cleaned/dogs/dogs_00339.jpg', 'animals_cleaned/dogs/dogs_00340.jpg', 'animals_cleaned/dogs/dogs_00341.jpg', 'animals_cleaned/dogs/dogs_00342.jpg', 'animals_cleaned/dogs/dogs_00343.jpg', 'animals_cleaned/dogs/dogs_00344.jpg', 'animals_cleaned/dogs/dogs_00345.jpg', 'animals_cleaned/dogs/dogs_00346.jpg', 'animals_cleaned/dogs/dogs_00347.jpg', 'animals_cleaned/dogs/dogs_00348.jpg', 'animals_cleaned/dogs/dogs_00349.jpg', 'animals_cleaned/dogs/dogs_00350.jpg', 'animals_cleaned/dogs/dogs_00351.jpg', 'animals_cleaned/dogs/dogs_00352.jpg', 'animals_cleaned/dogs/dogs_00353.jpg', 'animals_cleaned/dogs/dogs_00354.jpg', 'animals_cleaned/dogs/dogs_00355.jpg', 'animals_cleaned/dogs/dogs_00356.jpg', 'animals_cleaned/dogs/dogs_00357.jpg', 'animals_cleaned/dogs/dogs_00358.jpg', 'animals_cleaned/dogs/dogs_00359.jpg', 'animals_cleaned/dogs/dogs_00360.jpg', 'animals_cleaned/dogs/dogs_00361.jpg', 'animals_cleaned/dogs/dogs_00362.jpg', 'animals_cleaned/dogs/dogs_00363.jpg', 'animals_cleaned/dogs/dogs_00364.jpg', 'animals_cleaned/dogs/dogs_00365.jpg', 'animals_cleaned/dogs/dogs_00366.jpg', 'animals_cleaned/dogs/dogs_00367.jpg', 'animals_cleaned/dogs/dogs_00368.jpg', 'animals_cleaned/dogs/dogs_00369.jpg', 'animals_cleaned/dogs/dogs_00370.jpg', 'animals_cleaned/dogs/dogs_00371.jpg', 'animals_cleaned/dogs/dogs_00372.jpg', 'animals_cleaned/dogs/dogs_00373.jpg', 'animals_cleaned/dogs/dogs_00374.jpg', 'animals_cleaned/dogs/dogs_00375.jpg', 'animals_cleaned/dogs/dogs_00376.jpg', 'animals_cleaned/dogs/dogs_00377.jpg', 'animals_cleaned/dogs/dogs_00378.jpg', 'animals_cleaned/dogs/dogs_00379.jpg', 'animals_cleaned/dogs/dogs_00380.jpg', 'animals_cleaned/dogs/dogs_00381.jpg', 'animals_cleaned/dogs/dogs_00382.jpg', 'animals_cleaned/dogs/dogs_00383.jpg', 'animals_cleaned/dogs/dogs_00384.jpg', 'animals_cleaned/dogs/dogs_00385.jpg', 'animals_cleaned/dogs/dogs_00386.jpg', 'animals_cleaned/dogs/dogs_00387.jpg', 'animals_cleaned/dogs/dogs_00388.jpg', 'animals_cleaned/dogs/dogs_00389.jpg', 'animals_cleaned/dogs/dogs_00390.jpg', 'animals_cleaned/dogs/dogs_00391.jpg', 'animals_cleaned/dogs/dogs_00392.jpg', 'animals_cleaned/dogs/dogs_00393.jpg', 'animals_cleaned/dogs/dogs_00394.jpg', 'animals_cleaned/dogs/dogs_00395.jpg', 'animals_cleaned/dogs/dogs_00396.jpg', 'animals_cleaned/dogs/dogs_00397.jpg', 'animals_cleaned/dogs/dogs_00398.jpg', 'animals_cleaned/dogs/dogs_00399.jpg', 'animals_cleaned/dogs/dogs_00400.jpg', 'animals_cleaned/dogs/dogs_00401.jpg', 'animals_cleaned/dogs/dogs_00402.jpg', 'animals_cleaned/dogs/dogs_00404.jpg', 'animals_cleaned/dogs/dogs_00405.jpg', 'animals_cleaned/dogs/dogs_00406.jpg', 'animals_cleaned/dogs/dogs_00407.jpg', 'animals_cleaned/dogs/dogs_00408.jpg', 'animals_cleaned/dogs/dogs_00409.jpg', 'animals_cleaned/dogs/dogs_00410.jpg', 'animals_cleaned/dogs/dogs_00411.jpg', 'animals_cleaned/dogs/dogs_00412.jpg', 'animals_cleaned/dogs/dogs_00413.jpg', 'animals_cleaned/dogs/dogs_00415.jpg', 'animals_cleaned/dogs/dogs_00416.jpg', 'animals_cleaned/dogs/dogs_00417.jpg', 'animals_cleaned/dogs/dogs_00418.jpg', 'animals_cleaned/dogs/dogs_00419.jpg', 'animals_cleaned/dogs/dogs_00420.jpg', 'animals_cleaned/dogs/dogs_00421.jpg', 'animals_cleaned/dogs/dogs_00422.jpg', 'animals_cleaned/dogs/dogs_00423.jpg', 'animals_cleaned/dogs/dogs_00424.jpg', 'animals_cleaned/dogs/dogs_00425.jpg', 'animals_cleaned/dogs/dogs_00426.jpg', 'animals_cleaned/dogs/dogs_00427.jpg', 'animals_cleaned/dogs/dogs_00428.jpg', 'animals_cleaned/dogs/dogs_00429.jpg', 'animals_cleaned/dogs/dogs_00430.jpg', 'animals_cleaned/dogs/dogs_00431.jpg', 'animals_cleaned/dogs/dogs_00432.jpg', 'animals_cleaned/dogs/dogs_00433.jpg', 'animals_cleaned/dogs/dogs_00434.jpg', 'animals_cleaned/dogs/dogs_00435.jpg', 'animals_cleaned/dogs/dogs_00436.jpg', 'animals_cleaned/dogs/dogs_00437.jpg', 'animals_cleaned/dogs/dogs_00438.jpg', 'animals_cleaned/dogs/dogs_00439.jpg', 'animals_cleaned/dogs/dogs_00440.jpg', 'animals_cleaned/dogs/dogs_00441.jpg', 'animals_cleaned/dogs/dogs_00442.jpg', 'animals_cleaned/dogs/dogs_00443.jpg', 'animals_cleaned/dogs/dogs_00444.jpg', 'animals_cleaned/dogs/dogs_00445.jpg', 'animals_cleaned/dogs/dogs_00446.jpg', 'animals_cleaned/dogs/dogs_00447.jpg', 'animals_cleaned/dogs/dogs_00448.jpg', 'animals_cleaned/dogs/dogs_00449.jpg', 'animals_cleaned/dogs/dogs_00450.jpg', 'animals_cleaned/dogs/dogs_00451.jpg', 'animals_cleaned/dogs/dogs_00452.jpg', 'animals_cleaned/dogs/dogs_00453.jpg', 'animals_cleaned/dogs/dogs_00454.jpg', 'animals_cleaned/dogs/dogs_00455.jpg', 'animals_cleaned/dogs/dogs_00456.jpg', 'animals_cleaned/dogs/dogs_00457.jpg', 'animals_cleaned/dogs/dogs_00458.jpg', 'animals_cleaned/dogs/dogs_00459.jpg', 'animals_cleaned/dogs/dogs_00460.jpg', 'animals_cleaned/dogs/dogs_00461.jpg', 'animals_cleaned/dogs/dogs_00462.jpg', 'animals_cleaned/dogs/dogs_00463.jpg', 'animals_cleaned/dogs/dogs_00464.jpg', 'animals_cleaned/dogs/dogs_00465.jpg', 'animals_cleaned/dogs/dogs_00466.jpg', 'animals_cleaned/dogs/dogs_00467.jpg', 'animals_cleaned/dogs/dogs_00468.jpg', 'animals_cleaned/dogs/dogs_00469.jpg', 'animals_cleaned/dogs/dogs_00470.jpg', 'animals_cleaned/dogs/dogs_00471.jpg', 'animals_cleaned/dogs/dogs_00472.jpg', 'animals_cleaned/dogs/dogs_00473.jpg', 'animals_cleaned/dogs/dogs_00474.jpg', 'animals_cleaned/dogs/dogs_00475.jpg', 'animals_cleaned/dogs/dogs_00476.jpg', 'animals_cleaned/dogs/dogs_00477.jpg', 'animals_cleaned/dogs/dogs_00478.jpg', 'animals_cleaned/dogs/dogs_00479.jpg', 'animals_cleaned/dogs/dogs_00480.jpg', 'animals_cleaned/dogs/dogs_00481.jpg', 'animals_cleaned/dogs/dogs_00482.jpg', 'animals_cleaned/dogs/dogs_00483.jpg', 'animals_cleaned/dogs/dogs_00484.jpg', 'animals_cleaned/dogs/dogs_00485.jpg', 'animals_cleaned/dogs/dogs_00486.jpg', 'animals_cleaned/dogs/dogs_00487.jpg', 'animals_cleaned/dogs/dogs_00488.jpg', 'animals_cleaned/dogs/dogs_00489.jpg', 'animals_cleaned/dogs/dogs_00490.jpg', 'animals_cleaned/dogs/dogs_00491.jpg', 'animals_cleaned/dogs/dogs_00492.jpg', 'animals_cleaned/dogs/dogs_00493.jpg', 'animals_cleaned/dogs/dogs_00494.jpg', 'animals_cleaned/dogs/dogs_00495.jpg', 'animals_cleaned/dogs/dogs_00496.jpg', 'animals_cleaned/dogs/dogs_00497.jpg', 'animals_cleaned/dogs/dogs_00498.jpg', 'animals_cleaned/dogs/dogs_00499.jpg', 'animals_cleaned/dogs/dogs_00500.jpg', 'animals_cleaned/dogs/dogs_00501.jpg', 'animals_cleaned/dogs/dogs_00502.jpg', 'animals_cleaned/dogs/dogs_00503.jpg', 'animals_cleaned/dogs/dogs_00504.jpg', 'animals_cleaned/dogs/dogs_00505.jpg', 'animals_cleaned/dogs/dogs_00506.jpg', 'animals_cleaned/dogs/dogs_00507.jpg', 'animals_cleaned/dogs/dogs_00508.jpg', 'animals_cleaned/dogs/dogs_00509.jpg', 'animals_cleaned/dogs/dogs_00510.jpg', 'animals_cleaned/dogs/dogs_00511.jpg', 'animals_cleaned/dogs/dogs_00512.jpg', 'animals_cleaned/dogs/dogs_00513.jpg', 'animals_cleaned/dogs/dogs_00514.jpg', 'animals_cleaned/dogs/dogs_00515.jpg', 'animals_cleaned/dogs/dogs_00516.jpg', 'animals_cleaned/dogs/dogs_00517.jpg', 'animals_cleaned/dogs/dogs_00518.jpg', 'animals_cleaned/dogs/dogs_00519.jpg', 'animals_cleaned/dogs/dogs_00520.jpg', 'animals_cleaned/dogs/dogs_00521.jpg', 'animals_cleaned/dogs/dogs_00522.jpg', 'animals_cleaned/dogs/dogs_00523.jpg', 'animals_cleaned/dogs/dogs_00524.jpg', 'animals_cleaned/dogs/dogs_00525.jpg', 'animals_cleaned/dogs/dogs_00526.jpg', 'animals_cleaned/dogs/dogs_00527.jpg', 'animals_cleaned/dogs/dogs_00528.jpg', 'animals_cleaned/dogs/dogs_00529.jpg', 'animals_cleaned/dogs/dogs_00530.jpg', 'animals_cleaned/dogs/dogs_00531.jpg', 'animals_cleaned/dogs/dogs_00532.jpg', 'animals_cleaned/dogs/dogs_00533.jpg', 'animals_cleaned/dogs/dogs_00534.jpg', 'animals_cleaned/dogs/dogs_00535.jpg', 'animals_cleaned/dogs/dogs_00536.jpg', 'animals_cleaned/dogs/dogs_00537.jpg', 'animals_cleaned/dogs/dogs_00538.jpg', 'animals_cleaned/dogs/dogs_00539.jpg', 'animals_cleaned/dogs/dogs_00540.jpg', 'animals_cleaned/dogs/dogs_00541.jpg', 'animals_cleaned/dogs/dogs_00542.jpg', 'animals_cleaned/dogs/dogs_00543.jpg', 'animals_cleaned/dogs/dogs_00544.jpg', 'animals_cleaned/dogs/dogs_00545.jpg', 'animals_cleaned/dogs/dogs_00546.jpg', 'animals_cleaned/dogs/dogs_00547.jpg', 'animals_cleaned/dogs/dogs_00548.jpg', 'animals_cleaned/dogs/dogs_00549.jpg', 'animals_cleaned/dogs/dogs_00550.jpg', 'animals_cleaned/dogs/dogs_00551.jpg', 'animals_cleaned/dogs/dogs_00552.jpg', 'animals_cleaned/dogs/dogs_00553.jpg', 'animals_cleaned/dogs/dogs_00554.jpg', 'animals_cleaned/dogs/dogs_00555.jpg', 'animals_cleaned/dogs/dogs_00556.jpg', 'animals_cleaned/dogs/dogs_00557.jpg', 'animals_cleaned/dogs/dogs_00558.jpg', 'animals_cleaned/dogs/dogs_00559.jpg', 'animals_cleaned/dogs/dogs_00560.jpg', 'animals_cleaned/dogs/dogs_00561.jpg', 'animals_cleaned/dogs/dogs_00562.jpg', 'animals_cleaned/dogs/dogs_00563.jpg', 'animals_cleaned/dogs/dogs_00564.jpg', 'animals_cleaned/dogs/dogs_00565.jpg', 'animals_cleaned/dogs/dogs_00566.jpg', 'animals_cleaned/dogs/dogs_00567.jpg', 'animals_cleaned/dogs/dogs_00568.jpg', 'animals_cleaned/dogs/dogs_00569.jpg', 'animals_cleaned/dogs/dogs_00570.jpg', 'animals_cleaned/dogs/dogs_00571.jpg', 'animals_cleaned/dogs/dogs_00572.jpg', 'animals_cleaned/dogs/dogs_00573.jpg', 'animals_cleaned/dogs/dogs_00574.jpg', 'animals_cleaned/dogs/dogs_00575.jpg', 'animals_cleaned/dogs/dogs_00576.jpg', 'animals_cleaned/dogs/dogs_00577.jpg', 'animals_cleaned/dogs/dogs_00578.jpg', 'animals_cleaned/dogs/dogs_00579.jpg', 'animals_cleaned/dogs/dogs_00580.jpg', 'animals_cleaned/dogs/dogs_00581.jpg', 'animals_cleaned/dogs/dogs_00582.jpg', 'animals_cleaned/dogs/dogs_00583.jpg', 'animals_cleaned/dogs/dogs_00584.jpg', 'animals_cleaned/dogs/dogs_00585.jpg', 'animals_cleaned/dogs/dogs_00586.jpg', 'animals_cleaned/dogs/dogs_00587.jpg', 'animals_cleaned/dogs/dogs_00588.jpg', 'animals_cleaned/dogs/dogs_00589.jpg', 'animals_cleaned/dogs/dogs_00590.jpg', 'animals_cleaned/dogs/dogs_00591.jpg', 'animals_cleaned/dogs/dogs_00592.jpg', 'animals_cleaned/dogs/dogs_00593.jpg', 'animals_cleaned/dogs/dogs_00594.jpg', 'animals_cleaned/dogs/dogs_00595.jpg', 'animals_cleaned/dogs/dogs_00596.jpg', 'animals_cleaned/dogs/dogs_00597.jpg', 'animals_cleaned/dogs/dogs_00598.jpg', 'animals_cleaned/dogs/dogs_00599.jpg', 'animals_cleaned/dogs/dogs_00600.jpg', 'animals_cleaned/dogs/dogs_00601.jpg', 'animals_cleaned/dogs/dogs_00602.jpg', 'animals_cleaned/dogs/dogs_00603.jpg', 'animals_cleaned/dogs/dogs_00604.jpg', 'animals_cleaned/dogs/dogs_00605.jpg', 'animals_cleaned/dogs/dogs_00606.jpg', 'animals_cleaned/dogs/dogs_00607.jpg', 'animals_cleaned/dogs/dogs_00608.jpg', 'animals_cleaned/dogs/dogs_00609.jpg', 'animals_cleaned/dogs/dogs_00610.jpg', 'animals_cleaned/dogs/dogs_00611.jpg', 'animals_cleaned/dogs/dogs_00612.jpg', 'animals_cleaned/dogs/dogs_00613.jpg', 'animals_cleaned/dogs/dogs_00614.jpg', 'animals_cleaned/dogs/dogs_00615.jpg', 'animals_cleaned/dogs/dogs_00616.jpg', 'animals_cleaned/dogs/dogs_00617.jpg', 'animals_cleaned/dogs/dogs_00618.jpg', 'animals_cleaned/dogs/dogs_00619.jpg', 'animals_cleaned/dogs/dogs_00620.jpg', 'animals_cleaned/dogs/dogs_00621.jpg', 'animals_cleaned/dogs/dogs_00622.jpg', 'animals_cleaned/dogs/dogs_00623.jpg', 'animals_cleaned/dogs/dogs_00624.jpg', 'animals_cleaned/dogs/dogs_00625.jpg', 'animals_cleaned/dogs/dogs_00626.jpg', 'animals_cleaned/dogs/dogs_00627.jpg', 'animals_cleaned/dogs/dogs_00628.jpg', 'animals_cleaned/dogs/dogs_00629.jpg', 'animals_cleaned/dogs/dogs_00630.jpg', 'animals_cleaned/dogs/dogs_00632.jpg', 'animals_cleaned/dogs/dogs_00633.jpg', 'animals_cleaned/dogs/dogs_00634.jpg', 'animals_cleaned/dogs/dogs_00635.jpg', 'animals_cleaned/dogs/dogs_00636.jpg', 'animals_cleaned/dogs/dogs_00637.jpg', 'animals_cleaned/dogs/dogs_00638.jpg', 'animals_cleaned/dogs/dogs_00639.jpg', 'animals_cleaned/dogs/dogs_00640.jpg', 'animals_cleaned/dogs/dogs_00641.jpg', 'animals_cleaned/dogs/dogs_00642.jpg', 'animals_cleaned/dogs/dogs_00643.jpg', 'animals_cleaned/dogs/dogs_00644.jpg', 'animals_cleaned/dogs/dogs_00645.jpg', 'animals_cleaned/dogs/dogs_00646.jpg', 'animals_cleaned/dogs/dogs_00647.jpg', 'animals_cleaned/dogs/dogs_00648.jpg', 'animals_cleaned/dogs/dogs_00649.jpg', 'animals_cleaned/dogs/dogs_00650.jpg', 'animals_cleaned/dogs/dogs_00651.jpg', 'animals_cleaned/dogs/dogs_00652.jpg', 'animals_cleaned/dogs/dogs_00653.jpg', 'animals_cleaned/dogs/dogs_00654.jpg', 'animals_cleaned/dogs/dogs_00655.jpg', 'animals_cleaned/dogs/dogs_00656.jpg', 'animals_cleaned/dogs/dogs_00657.jpg', 'animals_cleaned/dogs/dogs_00658.jpg', 'animals_cleaned/dogs/dogs_00659.jpg', 'animals_cleaned/dogs/dogs_00660.jpg', 'animals_cleaned/dogs/dogs_00661.jpg', 'animals_cleaned/dogs/dogs_00662.jpg', 'animals_cleaned/dogs/dogs_00663.jpg', 'animals_cleaned/dogs/dogs_00664.jpg', 'animals_cleaned/dogs/dogs_00665.jpg', 'animals_cleaned/dogs/dogs_00666.jpg', 'animals_cleaned/dogs/dogs_00667.jpg', 'animals_cleaned/dogs/dogs_00668.jpg', 'animals_cleaned/dogs/dogs_00669.jpg', 'animals_cleaned/dogs/dogs_00670.jpg', 'animals_cleaned/dogs/dogs_00671.jpg', 'animals_cleaned/dogs/dogs_00672.jpg', 'animals_cleaned/dogs/dogs_00673.jpg', 'animals_cleaned/dogs/dogs_00674.jpg', 'animals_cleaned/dogs/dogs_00675.jpg', 'animals_cleaned/dogs/dogs_00676.jpg', 'animals_cleaned/dogs/dogs_00677.jpg', 'animals_cleaned/dogs/dogs_00678.jpg', 'animals_cleaned/dogs/dogs_00679.jpg', 'animals_cleaned/dogs/dogs_00680.jpg', 'animals_cleaned/dogs/dogs_00681.jpg', 'animals_cleaned/dogs/dogs_00682.jpg', 'animals_cleaned/dogs/dogs_00683.jpg', 'animals_cleaned/dogs/dogs_00684.jpg', 'animals_cleaned/dogs/dogs_00685.jpg', 'animals_cleaned/dogs/dogs_00687.jpg', 'animals_cleaned/dogs/dogs_00688.jpg', 'animals_cleaned/dogs/dogs_00689.jpg', 'animals_cleaned/dogs/dogs_00690.jpg', 'animals_cleaned/dogs/dogs_00691.jpg', 'animals_cleaned/dogs/dogs_00692.jpg', 'animals_cleaned/dogs/dogs_00693.jpg', 'animals_cleaned/dogs/dogs_00694.jpg', 'animals_cleaned/dogs/dogs_00695.jpg', 'animals_cleaned/dogs/dogs_00696.jpg', 'animals_cleaned/dogs/dogs_00697.jpg', 'animals_cleaned/dogs/dogs_00698.jpg', 'animals_cleaned/dogs/dogs_00699.jpg', 'animals_cleaned/dogs/dogs_00700.jpg', 'animals_cleaned/dogs/dogs_00701.jpg', 'animals_cleaned/dogs/dogs_00702.jpg', 'animals_cleaned/dogs/dogs_00703.jpg', 'animals_cleaned/dogs/dogs_00704.jpg', 'animals_cleaned/dogs/dogs_00705.jpg', 'animals_cleaned/dogs/dogs_00706.jpg', 'animals_cleaned/dogs/dogs_00707.jpg', 'animals_cleaned/dogs/dogs_00708.jpg', 'animals_cleaned/dogs/dogs_00709.jpg', 'animals_cleaned/dogs/dogs_00710.jpg', 'animals_cleaned/dogs/dogs_00711.jpg', 'animals_cleaned/dogs/dogs_00712.jpg', 'animals_cleaned/dogs/dogs_00713.jpg', 'animals_cleaned/dogs/dogs_00714.jpg', 'animals_cleaned/dogs/dogs_00715.jpg', 'animals_cleaned/dogs/dogs_00716.jpg', 'animals_cleaned/dogs/dogs_00717.jpg', 'animals_cleaned/dogs/dogs_00718.jpg', 'animals_cleaned/dogs/dogs_00719.jpg', 'animals_cleaned/dogs/dogs_00720.jpg', 'animals_cleaned/dogs/dogs_00721.jpg', 'animals_cleaned/dogs/dogs_00722.jpg', 'animals_cleaned/dogs/dogs_00723.jpg', 'animals_cleaned/dogs/dogs_00724.jpg', 'animals_cleaned/dogs/dogs_00725.jpg', 'animals_cleaned/dogs/dogs_00726.jpg', 'animals_cleaned/dogs/dogs_00727.jpg', 'animals_cleaned/dogs/dogs_00728.jpg', 'animals_cleaned/dogs/dogs_00729.jpg', 'animals_cleaned/dogs/dogs_00730.jpg', 'animals_cleaned/dogs/dogs_00731.jpg', 'animals_cleaned/dogs/dogs_00732.jpg', 'animals_cleaned/dogs/dogs_00733.jpg', 'animals_cleaned/dogs/dogs_00734.jpg', 'animals_cleaned/dogs/dogs_00735.jpg', 'animals_cleaned/dogs/dogs_00736.jpg', 'animals_cleaned/dogs/dogs_00737.jpg', 'animals_cleaned/dogs/dogs_00738.jpg', 'animals_cleaned/dogs/dogs_00739.jpg', 'animals_cleaned/dogs/dogs_00740.jpg', 'animals_cleaned/dogs/dogs_00741.jpg', 'animals_cleaned/dogs/dogs_00742.jpg', 'animals_cleaned/dogs/dogs_00743.jpg', 'animals_cleaned/dogs/dogs_00744.jpg', 'animals_cleaned/dogs/dogs_00745.jpg', 'animals_cleaned/dogs/dogs_00746.jpg', 'animals_cleaned/dogs/dogs_00747.jpg', 'animals_cleaned/dogs/dogs_00748.jpg', 'animals_cleaned/dogs/dogs_00749.jpg', 'animals_cleaned/dogs/dogs_00750.jpg', 'animals_cleaned/dogs/dogs_00751.jpg', 'animals_cleaned/dogs/dogs_00752.jpg', 'animals_cleaned/dogs/dogs_00753.jpg', 'animals_cleaned/dogs/dogs_00754.jpg', 'animals_cleaned/dogs/dogs_00755.jpg', 'animals_cleaned/dogs/dogs_00756.jpg', 'animals_cleaned/dogs/dogs_00757.jpg', 'animals_cleaned/dogs/dogs_00758.jpg', 'animals_cleaned/dogs/dogs_00760.jpg', 'animals_cleaned/dogs/dogs_00761.jpg', 'animals_cleaned/dogs/dogs_00762.jpg', 'animals_cleaned/dogs/dogs_00763.jpg', 'animals_cleaned/dogs/dogs_00764.jpg', 'animals_cleaned/dogs/dogs_00765.jpg', 'animals_cleaned/dogs/dogs_00766.jpg', 'animals_cleaned/dogs/dogs_00767.jpg', 'animals_cleaned/dogs/dogs_00768.jpg', 'animals_cleaned/dogs/dogs_00769.jpg', 'animals_cleaned/dogs/dogs_00770.jpg', 'animals_cleaned/dogs/dogs_00771.jpg', 'animals_cleaned/dogs/dogs_00772.jpg', 'animals_cleaned/dogs/dogs_00773.jpg', 'animals_cleaned/dogs/dogs_00774.jpg', 'animals_cleaned/dogs/dogs_00775.jpg', 'animals_cleaned/dogs/dogs_00776.jpg', 'animals_cleaned/dogs/dogs_00777.jpg', 'animals_cleaned/dogs/dogs_00778.jpg', 'animals_cleaned/dogs/dogs_00779.jpg', 'animals_cleaned/dogs/dogs_00780.jpg', 'animals_cleaned/dogs/dogs_00781.jpg', 'animals_cleaned/dogs/dogs_00782.jpg', 'animals_cleaned/dogs/dogs_00783.jpg', 'animals_cleaned/dogs/dogs_00784.jpg', 'animals_cleaned/dogs/dogs_00785.jpg', 'animals_cleaned/dogs/dogs_00786.jpg', 'animals_cleaned/dogs/dogs_00787.jpg', 'animals_cleaned/dogs/dogs_00788.jpg', 'animals_cleaned/dogs/dogs_00789.jpg', 'animals_cleaned/dogs/dogs_00790.jpg', 'animals_cleaned/dogs/dogs_00791.jpg', 'animals_cleaned/dogs/dogs_00792.jpg', 'animals_cleaned/dogs/dogs_00793.jpg', 'animals_cleaned/dogs/dogs_00794.jpg', 'animals_cleaned/dogs/dogs_00795.jpg', 'animals_cleaned/dogs/dogs_00796.jpg', 'animals_cleaned/dogs/dogs_00797.jpg', 'animals_cleaned/dogs/dogs_00798.jpg', 'animals_cleaned/dogs/dogs_00799.jpg', 'animals_cleaned/dogs/dogs_00800.jpg', 'animals_cleaned/dogs/dogs_00801.jpg', 'animals_cleaned/dogs/dogs_00802.jpg', 'animals_cleaned/dogs/dogs_00803.jpg', 'animals_cleaned/dogs/dogs_00804.jpg', 'animals_cleaned/dogs/dogs_00805.jpg', 'animals_cleaned/dogs/dogs_00806.jpg', 'animals_cleaned/dogs/dogs_00807.jpg', 'animals_cleaned/dogs/dogs_00808.jpg', 'animals_cleaned/dogs/dogs_00809.jpg', 'animals_cleaned/dogs/dogs_00810.jpg', 'animals_cleaned/dogs/dogs_00811.jpg', 'animals_cleaned/dogs/dogs_00812.jpg', 'animals_cleaned/dogs/dogs_00813.jpg', 'animals_cleaned/dogs/dogs_00814.jpg', 'animals_cleaned/dogs/dogs_00815.jpg', 'animals_cleaned/dogs/dogs_00816.jpg', 'animals_cleaned/dogs/dogs_00817.jpg', 'animals_cleaned/dogs/dogs_00818.jpg', 'animals_cleaned/dogs/dogs_00819.jpg', 'animals_cleaned/dogs/dogs_00820.jpg', 'animals_cleaned/dogs/dogs_00821.jpg', 'animals_cleaned/dogs/dogs_00822.jpg', 'animals_cleaned/dogs/dogs_00823.jpg', 'animals_cleaned/dogs/dogs_00824.jpg', 'animals_cleaned/dogs/dogs_00825.jpg', 'animals_cleaned/dogs/dogs_00826.jpg', 'animals_cleaned/dogs/dogs_00827.jpg', 'animals_cleaned/dogs/dogs_00828.jpg', 'animals_cleaned/dogs/dogs_00829.jpg', 'animals_cleaned/dogs/dogs_00830.jpg', 'animals_cleaned/dogs/dogs_00831.jpg', 'animals_cleaned/dogs/dogs_00832.jpg', 'animals_cleaned/dogs/dogs_00833.jpg', 'animals_cleaned/dogs/dogs_00834.jpg', 'animals_cleaned/dogs/dogs_00835.jpg', 'animals_cleaned/dogs/dogs_00836.jpg', 'animals_cleaned/dogs/dogs_00837.jpg', 'animals_cleaned/dogs/dogs_00838.jpg', 'animals_cleaned/dogs/dogs_00839.jpg', 'animals_cleaned/dogs/dogs_00840.jpg', 'animals_cleaned/dogs/dogs_00841.jpg', 'animals_cleaned/dogs/dogs_00842.jpg', 'animals_cleaned/dogs/dogs_00843.jpg', 'animals_cleaned/dogs/dogs_00844.jpg', 'animals_cleaned/dogs/dogs_00845.jpg', 'animals_cleaned/dogs/dogs_00846.jpg', 'animals_cleaned/dogs/dogs_00847.jpg', 'animals_cleaned/dogs/dogs_00848.jpg', 'animals_cleaned/dogs/dogs_00849.jpg', 'animals_cleaned/dogs/dogs_00850.jpg', 'animals_cleaned/dogs/dogs_00851.jpg', 'animals_cleaned/dogs/dogs_00852.jpg', 'animals_cleaned/dogs/dogs_00853.jpg', 'animals_cleaned/dogs/dogs_00854.jpg', 'animals_cleaned/dogs/dogs_00855.jpg', 'animals_cleaned/dogs/dogs_00856.jpg', 'animals_cleaned/dogs/dogs_00857.jpg', 'animals_cleaned/dogs/dogs_00858.jpg', 'animals_cleaned/dogs/dogs_00859.jpg', 'animals_cleaned/dogs/dogs_00860.jpg', 'animals_cleaned/dogs/dogs_00861.jpg', 'animals_cleaned/dogs/dogs_00862.jpg', 'animals_cleaned/dogs/dogs_00863.jpg', 'animals_cleaned/dogs/dogs_00864.jpg', 'animals_cleaned/dogs/dogs_00865.jpg', 'animals_cleaned/dogs/dogs_00866.jpg', 'animals_cleaned/dogs/dogs_00867.jpg', 'animals_cleaned/dogs/dogs_00868.jpg', 'animals_cleaned/dogs/dogs_00869.jpg', 'animals_cleaned/dogs/dogs_00870.jpg', 'animals_cleaned/dogs/dogs_00871.jpg', 'animals_cleaned/dogs/dogs_00872.jpg', 'animals_cleaned/dogs/dogs_00873.jpg', 'animals_cleaned/dogs/dogs_00875.jpg', 'animals_cleaned/dogs/dogs_00876.jpg', 'animals_cleaned/dogs/dogs_00877.jpg', 'animals_cleaned/dogs/dogs_00878.jpg', 'animals_cleaned/dogs/dogs_00879.jpg', 'animals_cleaned/dogs/dogs_00880.jpg', 'animals_cleaned/dogs/dogs_00881.jpg', 'animals_cleaned/dogs/dogs_00882.jpg', 'animals_cleaned/dogs/dogs_00883.jpg', 'animals_cleaned/dogs/dogs_00884.jpg', 'animals_cleaned/dogs/dogs_00885.jpg', 'animals_cleaned/dogs/dogs_00886.jpg', 'animals_cleaned/dogs/dogs_00887.jpg', 'animals_cleaned/dogs/dogs_00888.jpg', 'animals_cleaned/dogs/dogs_00889.jpg', 'animals_cleaned/dogs/dogs_00890.jpg', 'animals_cleaned/dogs/dogs_00891.jpg', 'animals_cleaned/dogs/dogs_00892.jpg', 'animals_cleaned/dogs/dogs_00893.jpg', 'animals_cleaned/dogs/dogs_00894.jpg', 'animals_cleaned/dogs/dogs_00895.jpg', 'animals_cleaned/dogs/dogs_00896.jpg', 'animals_cleaned/dogs/dogs_00897.jpg', 'animals_cleaned/dogs/dogs_00898.jpg', 'animals_cleaned/dogs/dogs_00899.jpg', 'animals_cleaned/dogs/dogs_00900.jpg', 'animals_cleaned/dogs/dogs_00901.jpg', 'animals_cleaned/dogs/dogs_00902.jpg', 'animals_cleaned/dogs/dogs_00903.jpg', 'animals_cleaned/dogs/dogs_00904.jpg', 'animals_cleaned/dogs/dogs_00905.jpg', 'animals_cleaned/dogs/dogs_00906.jpg', 'animals_cleaned/dogs/dogs_00907.jpg', 'animals_cleaned/dogs/dogs_00908.jpg', 'animals_cleaned/dogs/dogs_00909.jpg', 'animals_cleaned/dogs/dogs_00910.jpg', 'animals_cleaned/dogs/dogs_00911.jpg', 'animals_cleaned/dogs/dogs_00912.jpg', 'animals_cleaned/dogs/dogs_00913.jpg', 'animals_cleaned/dogs/dogs_00914.jpg', 'animals_cleaned/dogs/dogs_00915.jpg', 'animals_cleaned/dogs/dogs_00916.jpg', 'animals_cleaned/dogs/dogs_00917.jpg', 'animals_cleaned/dogs/dogs_00918.jpg', 'animals_cleaned/dogs/dogs_00919.jpg', 'animals_cleaned/dogs/dogs_00920.jpg', 'animals_cleaned/dogs/dogs_00921.jpg', 'animals_cleaned/dogs/dogs_00922.jpg', 'animals_cleaned/dogs/dogs_00923.jpg', 'animals_cleaned/dogs/dogs_00924.jpg', 'animals_cleaned/dogs/dogs_00925.jpg', 'animals_cleaned/dogs/dogs_00926.jpg', 'animals_cleaned/dogs/dogs_00927.jpg', 'animals_cleaned/dogs/dogs_00928.jpg', 'animals_cleaned/dogs/dogs_00929.jpg', 'animals_cleaned/dogs/dogs_00930.jpg', 'animals_cleaned/dogs/dogs_00931.jpg', 'animals_cleaned/dogs/dogs_00932.jpg', 'animals_cleaned/dogs/dogs_00933.jpg', 'animals_cleaned/dogs/dogs_00934.jpg', 'animals_cleaned/dogs/dogs_00935.jpg', 'animals_cleaned/dogs/dogs_00936.jpg', 'animals_cleaned/dogs/dogs_00937.jpg', 'animals_cleaned/dogs/dogs_00938.jpg', 'animals_cleaned/dogs/dogs_00939.jpg', 'animals_cleaned/dogs/dogs_00940.jpg', 'animals_cleaned/dogs/dogs_00941.jpg', 'animals_cleaned/dogs/dogs_00942.jpg', 'animals_cleaned/dogs/dogs_00943.jpg', 'animals_cleaned/dogs/dogs_00944.jpg', 'animals_cleaned/dogs/dogs_00945.jpg', 'animals_cleaned/dogs/dogs_00946.jpg', 'animals_cleaned/dogs/dogs_00947.jpg', 'animals_cleaned/dogs/dogs_00948.jpg', 'animals_cleaned/dogs/dogs_00949.jpg', 'animals_cleaned/dogs/dogs_00950.jpg', 'animals_cleaned/dogs/dogs_00951.jpg', 'animals_cleaned/dogs/dogs_00952.jpg', 'animals_cleaned/dogs/dogs_00953.jpg', 'animals_cleaned/dogs/dogs_00954.jpg', 'animals_cleaned/dogs/dogs_00955.jpg', 'animals_cleaned/dogs/dogs_00956.jpg', 'animals_cleaned/dogs/dogs_00957.jpg', 'animals_cleaned/dogs/dogs_00958.jpg', 'animals_cleaned/dogs/dogs_00959.jpg', 'animals_cleaned/dogs/dogs_00960.jpg', 'animals_cleaned/dogs/dogs_00961.jpg', 'animals_cleaned/dogs/dogs_00962.jpg', 'animals_cleaned/dogs/dogs_00963.jpg', 'animals_cleaned/dogs/dogs_00964.jpg', 'animals_cleaned/dogs/dogs_00965.jpg', 'animals_cleaned/dogs/dogs_00966.jpg', 'animals_cleaned/dogs/dogs_00967.jpg', 'animals_cleaned/dogs/dogs_00968.jpg', 'animals_cleaned/dogs/dogs_00969.jpg', 'animals_cleaned/dogs/dogs_00970.jpg', 'animals_cleaned/dogs/dogs_00971.jpg', 'animals_cleaned/dogs/dogs_00972.jpg', 'animals_cleaned/dogs/dogs_00973.jpg', 'animals_cleaned/dogs/dogs_00974.jpg', 'animals_cleaned/dogs/dogs_00975.jpg', 'animals_cleaned/dogs/dogs_00976.jpg', 'animals_cleaned/dogs/dogs_00977.jpg', 'animals_cleaned/dogs/dogs_00978.jpg', 'animals_cleaned/dogs/dogs_00979.jpg', 'animals_cleaned/dogs/dogs_00980.jpg', 'animals_cleaned/dogs/dogs_00981.jpg', 'animals_cleaned/dogs/dogs_00982.jpg', 'animals_cleaned/dogs/dogs_00983.jpg', 'animals_cleaned/dogs/dogs_00984.jpg', 'animals_cleaned/dogs/dogs_00985.jpg', 'animals_cleaned/dogs/dogs_00986.jpg', 'animals_cleaned/dogs/dogs_00987.jpg', 'animals_cleaned/dogs/dogs_00988.jpg', 'animals_cleaned/dogs/dogs_00989.jpg', 'animals_cleaned/dogs/dogs_00990.jpg', 'animals_cleaned/dogs/dogs_00991.jpg', 'animals_cleaned/dogs/dogs_00992.jpg', 'animals_cleaned/dogs/dogs_00993.jpg', 'animals_cleaned/dogs/dogs_00994.jpg', 'animals_cleaned/dogs/dogs_00995.jpg', 'animals_cleaned/dogs/dogs_00996.jpg', 'animals_cleaned/dogs/dogs_00997.jpg', 'animals_cleaned/dogs/dogs_00998.jpg', 'animals_cleaned/dogs/dogs_00999.jpg', 'animals_cleaned/dogs/dogs_01000.jpg', 'animals_cleaned/panda/panda_00001.jpg', 'animals_cleaned/panda/panda_00002.jpg', 'animals_cleaned/panda/panda_00003.jpg', 'animals_cleaned/panda/panda_00004.jpg', 'animals_cleaned/panda/panda_00005.jpg', 'animals_cleaned/panda/panda_00006.jpg', 'animals_cleaned/panda/panda_00007.jpg', 'animals_cleaned/panda/panda_00008.jpg', 'animals_cleaned/panda/panda_00009.jpg', 'animals_cleaned/panda/panda_00010.jpg', 'animals_cleaned/panda/panda_00011.jpg', 'animals_cleaned/panda/panda_00012.jpg', 'animals_cleaned/panda/panda_00014.jpg', 'animals_cleaned/panda/panda_00015.jpg', 'animals_cleaned/panda/panda_00016.jpg', 'animals_cleaned/panda/panda_00017.jpg', 'animals_cleaned/panda/panda_00018.jpg', 'animals_cleaned/panda/panda_00019.jpg', 'animals_cleaned/panda/panda_00020.jpg', 'animals_cleaned/panda/panda_00021.jpg', 'animals_cleaned/panda/panda_00022.jpg', 'animals_cleaned/panda/panda_00023.jpg', 'animals_cleaned/panda/panda_00024.jpg', 'animals_cleaned/panda/panda_00025.jpg', 'animals_cleaned/panda/panda_00026.jpg', 'animals_cleaned/panda/panda_00028.jpg', 'animals_cleaned/panda/panda_00029.jpg', 'animals_cleaned/panda/panda_00030.jpg', 'animals_cleaned/panda/panda_00031.jpg', 'animals_cleaned/panda/panda_00032.jpg', 'animals_cleaned/panda/panda_00033.jpg', 'animals_cleaned/panda/panda_00034.jpg', 'animals_cleaned/panda/panda_00035.jpg', 'animals_cleaned/panda/panda_00036.jpg', 'animals_cleaned/panda/panda_00037.jpg', 'animals_cleaned/panda/panda_00038.jpg', 'animals_cleaned/panda/panda_00039.jpg', 'animals_cleaned/panda/panda_00040.jpg', 'animals_cleaned/panda/panda_00041.jpg', 'animals_cleaned/panda/panda_00042.jpg', 'animals_cleaned/panda/panda_00043.jpg', 'animals_cleaned/panda/panda_00044.jpg', 'animals_cleaned/panda/panda_00045.jpg', 'animals_cleaned/panda/panda_00046.jpg', 'animals_cleaned/panda/panda_00047.jpg', 'animals_cleaned/panda/panda_00048.jpg', 'animals_cleaned/panda/panda_00049.jpg', 'animals_cleaned/panda/panda_00050.jpg', 'animals_cleaned/panda/panda_00051.jpg', 'animals_cleaned/panda/panda_00052.jpg', 'animals_cleaned/panda/panda_00053.jpg', 'animals_cleaned/panda/panda_00054.jpg', 'animals_cleaned/panda/panda_00055.jpg', 'animals_cleaned/panda/panda_00057.jpg', 'animals_cleaned/panda/panda_00058.jpg', 'animals_cleaned/panda/panda_00059.jpg', 'animals_cleaned/panda/panda_00060.jpg', 'animals_cleaned/panda/panda_00061.jpg', 'animals_cleaned/panda/panda_00063.jpg', 'animals_cleaned/panda/panda_00064.jpg', 'animals_cleaned/panda/panda_00066.jpg', 'animals_cleaned/panda/panda_00067.jpg', 'animals_cleaned/panda/panda_00068.jpg', 'animals_cleaned/panda/panda_00069.jpg', 'animals_cleaned/panda/panda_00070.jpg', 'animals_cleaned/panda/panda_00071.jpg', 'animals_cleaned/panda/panda_00072.jpg', 'animals_cleaned/panda/panda_00073.jpg', 'animals_cleaned/panda/panda_00074.jpg', 'animals_cleaned/panda/panda_00075.jpg', 'animals_cleaned/panda/panda_00076.jpg', 'animals_cleaned/panda/panda_00077.jpg', 'animals_cleaned/panda/panda_00078.jpg', 'animals_cleaned/panda/panda_00079.jpg', 'animals_cleaned/panda/panda_00080.jpg', 'animals_cleaned/panda/panda_00081.jpg', 'animals_cleaned/panda/panda_00082.jpg', 'animals_cleaned/panda/panda_00083.jpg', 'animals_cleaned/panda/panda_00084.jpg', 'animals_cleaned/panda/panda_00085.jpg', 'animals_cleaned/panda/panda_00086.jpg', 'animals_cleaned/panda/panda_00087.jpg', 'animals_cleaned/panda/panda_00088.jpg', 'animals_cleaned/panda/panda_00089.jpg', 'animals_cleaned/panda/panda_00091.jpg', 'animals_cleaned/panda/panda_00092.jpg', 'animals_cleaned/panda/panda_00093.jpg', 'animals_cleaned/panda/panda_00094.jpg', 'animals_cleaned/panda/panda_00095.jpg', 'animals_cleaned/panda/panda_00096.jpg', 'animals_cleaned/panda/panda_00097.jpg', 'animals_cleaned/panda/panda_00098.jpg', 'animals_cleaned/panda/panda_00100.jpg', 'animals_cleaned/panda/panda_00101.jpg', 'animals_cleaned/panda/panda_00102.jpg', 'animals_cleaned/panda/panda_00103.jpg', 'animals_cleaned/panda/panda_00104.jpg', 'animals_cleaned/panda/panda_00105.jpg', 'animals_cleaned/panda/panda_00106.jpg', 'animals_cleaned/panda/panda_00107.jpg', 'animals_cleaned/panda/panda_00108.jpg', 'animals_cleaned/panda/panda_00109.jpg', 'animals_cleaned/panda/panda_00110.jpg', 'animals_cleaned/panda/panda_00111.jpg', 'animals_cleaned/panda/panda_00112.jpg', 'animals_cleaned/panda/panda_00113.jpg', 'animals_cleaned/panda/panda_00114.jpg', 'animals_cleaned/panda/panda_00115.jpg', 'animals_cleaned/panda/panda_00116.jpg', 'animals_cleaned/panda/panda_00117.jpg', 'animals_cleaned/panda/panda_00118.jpg', 'animals_cleaned/panda/panda_00119.jpg', 'animals_cleaned/panda/panda_00120.jpg', 'animals_cleaned/panda/panda_00121.jpg', 'animals_cleaned/panda/panda_00122.jpg', 'animals_cleaned/panda/panda_00123.jpg', 'animals_cleaned/panda/panda_00124.jpg', 'animals_cleaned/panda/panda_00125.jpg', 'animals_cleaned/panda/panda_00126.jpg', 'animals_cleaned/panda/panda_00127.jpg', 'animals_cleaned/panda/panda_00128.jpg', 'animals_cleaned/panda/panda_00129.jpg', 'animals_cleaned/panda/panda_00130.jpg', 'animals_cleaned/panda/panda_00132.jpg', 'animals_cleaned/panda/panda_00133.jpg', 'animals_cleaned/panda/panda_00134.jpg', 'animals_cleaned/panda/panda_00135.jpg', 'animals_cleaned/panda/panda_00136.jpg', 'animals_cleaned/panda/panda_00137.jpg', 'animals_cleaned/panda/panda_00138.jpg', 'animals_cleaned/panda/panda_00139.jpg', 'animals_cleaned/panda/panda_00140.jpg', 'animals_cleaned/panda/panda_00141.jpg', 'animals_cleaned/panda/panda_00142.jpg', 'animals_cleaned/panda/panda_00143.jpg', 'animals_cleaned/panda/panda_00144.jpg', 'animals_cleaned/panda/panda_00145.jpg', 'animals_cleaned/panda/panda_00146.jpg', 'animals_cleaned/panda/panda_00147.jpg', 'animals_cleaned/panda/panda_00148.jpg', 'animals_cleaned/panda/panda_00149.jpg', 'animals_cleaned/panda/panda_00150.jpg', 'animals_cleaned/panda/panda_00151.jpg', 'animals_cleaned/panda/panda_00152.jpg', 'animals_cleaned/panda/panda_00153.jpg', 'animals_cleaned/panda/panda_00154.jpg', 'animals_cleaned/panda/panda_00155.jpg', 'animals_cleaned/panda/panda_00156.jpg', 'animals_cleaned/panda/panda_00157.jpg', 'animals_cleaned/panda/panda_00158.jpg', 'animals_cleaned/panda/panda_00159.jpg', 'animals_cleaned/panda/panda_00160.jpg', 'animals_cleaned/panda/panda_00161.jpg', 'animals_cleaned/panda/panda_00162.jpg', 'animals_cleaned/panda/panda_00163.jpg', 'animals_cleaned/panda/panda_00164.jpg', 'animals_cleaned/panda/panda_00165.jpg', 'animals_cleaned/panda/panda_00166.jpg', 'animals_cleaned/panda/panda_00167.jpg', 'animals_cleaned/panda/panda_00168.jpg', 'animals_cleaned/panda/panda_00169.jpg', 'animals_cleaned/panda/panda_00170.jpg', 'animals_cleaned/panda/panda_00171.jpg', 'animals_cleaned/panda/panda_00172.jpg', 'animals_cleaned/panda/panda_00173.jpg', 'animals_cleaned/panda/panda_00174.jpg', 'animals_cleaned/panda/panda_00175.jpg', 'animals_cleaned/panda/panda_00176.jpg', 'animals_cleaned/panda/panda_00177.jpg', 'animals_cleaned/panda/panda_00178.jpg', 'animals_cleaned/panda/panda_00179.jpg', 'animals_cleaned/panda/panda_00180.jpg', 'animals_cleaned/panda/panda_00181.jpg', 'animals_cleaned/panda/panda_00182.jpg', 'animals_cleaned/panda/panda_00183.jpg', 'animals_cleaned/panda/panda_00184.jpg', 'animals_cleaned/panda/panda_00185.jpg', 'animals_cleaned/panda/panda_00186.jpg', 'animals_cleaned/panda/panda_00187.jpg', 'animals_cleaned/panda/panda_00188.jpg', 'animals_cleaned/panda/panda_00189.jpg', 'animals_cleaned/panda/panda_00190.jpg', 'animals_cleaned/panda/panda_00191.jpg', 'animals_cleaned/panda/panda_00192.jpg', 'animals_cleaned/panda/panda_00193.jpg', 'animals_cleaned/panda/panda_00194.jpg', 'animals_cleaned/panda/panda_00195.jpg', 'animals_cleaned/panda/panda_00196.jpg', 'animals_cleaned/panda/panda_00197.jpg', 'animals_cleaned/panda/panda_00198.jpg', 'animals_cleaned/panda/panda_00199.jpg', 'animals_cleaned/panda/panda_00200.jpg', 'animals_cleaned/panda/panda_00201.jpg', 'animals_cleaned/panda/panda_00202.jpg', 'animals_cleaned/panda/panda_00203.jpg', 'animals_cleaned/panda/panda_00204.jpg', 'animals_cleaned/panda/panda_00205.jpg', 'animals_cleaned/panda/panda_00206.jpg', 'animals_cleaned/panda/panda_00207.jpg', 'animals_cleaned/panda/panda_00208.jpg', 'animals_cleaned/panda/panda_00209.jpg', 'animals_cleaned/panda/panda_00210.jpg', 'animals_cleaned/panda/panda_00211.jpg', 'animals_cleaned/panda/panda_00212.jpg', 'animals_cleaned/panda/panda_00213.jpg', 'animals_cleaned/panda/panda_00214.jpg', 'animals_cleaned/panda/panda_00215.jpg', 'animals_cleaned/panda/panda_00216.jpg', 'animals_cleaned/panda/panda_00217.jpg', 'animals_cleaned/panda/panda_00219.jpg', 'animals_cleaned/panda/panda_00220.jpg', 'animals_cleaned/panda/panda_00221.jpg', 'animals_cleaned/panda/panda_00222.jpg', 'animals_cleaned/panda/panda_00223.jpg', 'animals_cleaned/panda/panda_00224.jpg', 'animals_cleaned/panda/panda_00225.jpg', 'animals_cleaned/panda/panda_00226.jpg', 'animals_cleaned/panda/panda_00227.jpg', 'animals_cleaned/panda/panda_00228.jpg', 'animals_cleaned/panda/panda_00229.jpg', 'animals_cleaned/panda/panda_00230.jpg', 'animals_cleaned/panda/panda_00231.jpg', 'animals_cleaned/panda/panda_00232.jpg', 'animals_cleaned/panda/panda_00233.jpg', 'animals_cleaned/panda/panda_00234.jpg', 'animals_cleaned/panda/panda_00235.jpg', 'animals_cleaned/panda/panda_00236.jpg', 'animals_cleaned/panda/panda_00237.jpg', 'animals_cleaned/panda/panda_00238.jpg', 'animals_cleaned/panda/panda_00239.jpg', 'animals_cleaned/panda/panda_00240.jpg', 'animals_cleaned/panda/panda_00241.jpg', 'animals_cleaned/panda/panda_00242.jpg', 'animals_cleaned/panda/panda_00243.jpg', 'animals_cleaned/panda/panda_00244.jpg', 'animals_cleaned/panda/panda_00245.jpg', 'animals_cleaned/panda/panda_00246.jpg', 'animals_cleaned/panda/panda_00247.jpg', 'animals_cleaned/panda/panda_00248.jpg', 'animals_cleaned/panda/panda_00249.jpg', 'animals_cleaned/panda/panda_00250.jpg', 'animals_cleaned/panda/panda_00251.jpg', 'animals_cleaned/panda/panda_00252.jpg', 'animals_cleaned/panda/panda_00253.jpg', 'animals_cleaned/panda/panda_00254.jpg', 'animals_cleaned/panda/panda_00255.jpg', 'animals_cleaned/panda/panda_00256.jpg', 'animals_cleaned/panda/panda_00257.jpg', 'animals_cleaned/panda/panda_00258.jpg', 'animals_cleaned/panda/panda_00259.jpg', 'animals_cleaned/panda/panda_00260.jpg', 'animals_cleaned/panda/panda_00261.jpg', 'animals_cleaned/panda/panda_00262.jpg', 'animals_cleaned/panda/panda_00263.jpg', 'animals_cleaned/panda/panda_00264.jpg', 'animals_cleaned/panda/panda_00265.jpg', 'animals_cleaned/panda/panda_00266.jpg', 'animals_cleaned/panda/panda_00267.jpg', 'animals_cleaned/panda/panda_00268.jpg', 'animals_cleaned/panda/panda_00269.jpg', 'animals_cleaned/panda/panda_00270.jpg', 'animals_cleaned/panda/panda_00271.jpg', 'animals_cleaned/panda/panda_00272.jpg', 'animals_cleaned/panda/panda_00273.jpg', 'animals_cleaned/panda/panda_00274.jpg', 'animals_cleaned/panda/panda_00275.jpg', 'animals_cleaned/panda/panda_00276.jpg', 'animals_cleaned/panda/panda_00277.jpg', 'animals_cleaned/panda/panda_00278.jpg', 'animals_cleaned/panda/panda_00279.jpg', 'animals_cleaned/panda/panda_00280.jpg', 'animals_cleaned/panda/panda_00281.jpg', 'animals_cleaned/panda/panda_00282.jpg', 'animals_cleaned/panda/panda_00283.jpg', 'animals_cleaned/panda/panda_00284.jpg', 'animals_cleaned/panda/panda_00285.jpg', 'animals_cleaned/panda/panda_00286.jpg', 'animals_cleaned/panda/panda_00287.jpg', 'animals_cleaned/panda/panda_00288.jpg', 'animals_cleaned/panda/panda_00289.jpg', 'animals_cleaned/panda/panda_00290.jpg', 'animals_cleaned/panda/panda_00291.jpg', 'animals_cleaned/panda/panda_00292.jpg', 'animals_cleaned/panda/panda_00293.jpg', 'animals_cleaned/panda/panda_00294.jpg', 'animals_cleaned/panda/panda_00295.jpg', 'animals_cleaned/panda/panda_00296.jpg', 'animals_cleaned/panda/panda_00297.jpg', 'animals_cleaned/panda/panda_00298.jpg', 'animals_cleaned/panda/panda_00299.jpg', 'animals_cleaned/panda/panda_00300.jpg', 'animals_cleaned/panda/panda_00301.jpg', 'animals_cleaned/panda/panda_00302.jpg', 'animals_cleaned/panda/panda_00303.jpg', 'animals_cleaned/panda/panda_00304.jpg', 'animals_cleaned/panda/panda_00305.jpg', 'animals_cleaned/panda/panda_00306.jpg', 'animals_cleaned/panda/panda_00307.jpg', 'animals_cleaned/panda/panda_00308.jpg', 'animals_cleaned/panda/panda_00309.jpg', 'animals_cleaned/panda/panda_00310.jpg', 'animals_cleaned/panda/panda_00311.jpg', 'animals_cleaned/panda/panda_00312.jpg', 'animals_cleaned/panda/panda_00313.jpg', 'animals_cleaned/panda/panda_00314.jpg', 'animals_cleaned/panda/panda_00315.jpg', 'animals_cleaned/panda/panda_00316.jpg', 'animals_cleaned/panda/panda_00317.jpg', 'animals_cleaned/panda/panda_00318.jpg', 'animals_cleaned/panda/panda_00319.jpg', 'animals_cleaned/panda/panda_00320.jpg', 'animals_cleaned/panda/panda_00321.jpg', 'animals_cleaned/panda/panda_00322.jpg', 'animals_cleaned/panda/panda_00323.jpg', 'animals_cleaned/panda/panda_00324.jpg', 'animals_cleaned/panda/panda_00325.jpg', 'animals_cleaned/panda/panda_00326.jpg', 'animals_cleaned/panda/panda_00327.jpg', 'animals_cleaned/panda/panda_00328.jpg', 'animals_cleaned/panda/panda_00329.jpg', 'animals_cleaned/panda/panda_00330.jpg', 'animals_cleaned/panda/panda_00331.jpg', 'animals_cleaned/panda/panda_00332.jpg', 'animals_cleaned/panda/panda_00333.jpg', 'animals_cleaned/panda/panda_00334.jpg', 'animals_cleaned/panda/panda_00335.jpg', 'animals_cleaned/panda/panda_00336.jpg', 'animals_cleaned/panda/panda_00337.jpg', 'animals_cleaned/panda/panda_00338.jpg', 'animals_cleaned/panda/panda_00339.jpg', 'animals_cleaned/panda/panda_00340.jpg', 'animals_cleaned/panda/panda_00341.jpg', 'animals_cleaned/panda/panda_00342.jpg', 'animals_cleaned/panda/panda_00343.jpg', 'animals_cleaned/panda/panda_00344.jpg', 'animals_cleaned/panda/panda_00345.jpg', 'animals_cleaned/panda/panda_00346.jpg', 'animals_cleaned/panda/panda_00347.jpg', 'animals_cleaned/panda/panda_00348.jpg', 'animals_cleaned/panda/panda_00349.jpg', 'animals_cleaned/panda/panda_00350.jpg', 'animals_cleaned/panda/panda_00351.jpg', 'animals_cleaned/panda/panda_00352.jpg', 'animals_cleaned/panda/panda_00353.jpg', 'animals_cleaned/panda/panda_00354.jpg', 'animals_cleaned/panda/panda_00355.jpg', 'animals_cleaned/panda/panda_00356.jpg', 'animals_cleaned/panda/panda_00357.jpg', 'animals_cleaned/panda/panda_00358.jpg', 'animals_cleaned/panda/panda_00359.jpg', 'animals_cleaned/panda/panda_00361.jpg', 'animals_cleaned/panda/panda_00363.jpg', 'animals_cleaned/panda/panda_00364.jpg', 'animals_cleaned/panda/panda_00365.jpg', 'animals_cleaned/panda/panda_00366.jpg', 'animals_cleaned/panda/panda_00367.jpg', 'animals_cleaned/panda/panda_00368.jpg', 'animals_cleaned/panda/panda_00369.jpg', 'animals_cleaned/panda/panda_00370.jpg', 'animals_cleaned/panda/panda_00371.jpg', 'animals_cleaned/panda/panda_00372.jpg', 'animals_cleaned/panda/panda_00373.jpg', 'animals_cleaned/panda/panda_00374.jpg', 'animals_cleaned/panda/panda_00375.jpg', 'animals_cleaned/panda/panda_00376.jpg', 'animals_cleaned/panda/panda_00377.jpg', 'animals_cleaned/panda/panda_00378.jpg', 'animals_cleaned/panda/panda_00379.jpg', 'animals_cleaned/panda/panda_00380.jpg', 'animals_cleaned/panda/panda_00381.jpg', 'animals_cleaned/panda/panda_00382.jpg', 'animals_cleaned/panda/panda_00383.jpg', 'animals_cleaned/panda/panda_00384.jpg', 'animals_cleaned/panda/panda_00385.jpg', 'animals_cleaned/panda/panda_00386.jpg', 'animals_cleaned/panda/panda_00387.jpg', 'animals_cleaned/panda/panda_00388.jpg', 'animals_cleaned/panda/panda_00389.jpg', 'animals_cleaned/panda/panda_00390.jpg', 'animals_cleaned/panda/panda_00391.jpg', 'animals_cleaned/panda/panda_00392.jpg', 'animals_cleaned/panda/panda_00393.jpg', 'animals_cleaned/panda/panda_00394.jpg', 'animals_cleaned/panda/panda_00396.jpg', 'animals_cleaned/panda/panda_00397.jpg', 'animals_cleaned/panda/panda_00398.jpg', 'animals_cleaned/panda/panda_00399.jpg', 'animals_cleaned/panda/panda_00400.jpg', 'animals_cleaned/panda/panda_00401.jpg', 'animals_cleaned/panda/panda_00402.jpg', 'animals_cleaned/panda/panda_00403.jpg', 'animals_cleaned/panda/panda_00404.jpg', 'animals_cleaned/panda/panda_00405.jpg', 'animals_cleaned/panda/panda_00406.jpg', 'animals_cleaned/panda/panda_00407.jpg', 'animals_cleaned/panda/panda_00408.jpg', 'animals_cleaned/panda/panda_00409.jpg', 'animals_cleaned/panda/panda_00411.jpg', 'animals_cleaned/panda/panda_00412.jpg', 'animals_cleaned/panda/panda_00413.jpg', 'animals_cleaned/panda/panda_00414.jpg', 'animals_cleaned/panda/panda_00415.jpg', 'animals_cleaned/panda/panda_00416.jpg', 'animals_cleaned/panda/panda_00417.jpg', 'animals_cleaned/panda/panda_00418.jpg', 'animals_cleaned/panda/panda_00419.jpg', 'animals_cleaned/panda/panda_00420.jpg', 'animals_cleaned/panda/panda_00421.jpg', 'animals_cleaned/panda/panda_00422.jpg', 'animals_cleaned/panda/panda_00423.jpg', 'animals_cleaned/panda/panda_00424.jpg', 'animals_cleaned/panda/panda_00426.jpg', 'animals_cleaned/panda/panda_00427.jpg', 'animals_cleaned/panda/panda_00428.jpg', 'animals_cleaned/panda/panda_00429.jpg', 'animals_cleaned/panda/panda_00430.jpg', 'animals_cleaned/panda/panda_00431.jpg', 'animals_cleaned/panda/panda_00432.jpg', 'animals_cleaned/panda/panda_00433.jpg', 'animals_cleaned/panda/panda_00434.jpg', 'animals_cleaned/panda/panda_00435.jpg', 'animals_cleaned/panda/panda_00436.jpg', 'animals_cleaned/panda/panda_00437.jpg', 'animals_cleaned/panda/panda_00438.jpg', 'animals_cleaned/panda/panda_00439.jpg', 'animals_cleaned/panda/panda_00440.jpg', 'animals_cleaned/panda/panda_00441.jpg', 'animals_cleaned/panda/panda_00442.jpg', 'animals_cleaned/panda/panda_00443.jpg', 'animals_cleaned/panda/panda_00444.jpg', 'animals_cleaned/panda/panda_00445.jpg', 'animals_cleaned/panda/panda_00446.jpg', 'animals_cleaned/panda/panda_00447.jpg', 'animals_cleaned/panda/panda_00448.jpg', 'animals_cleaned/panda/panda_00449.jpg', 'animals_cleaned/panda/panda_00450.jpg', 'animals_cleaned/panda/panda_00451.jpg', 'animals_cleaned/panda/panda_00452.jpg', 'animals_cleaned/panda/panda_00453.jpg', 'animals_cleaned/panda/panda_00454.jpg', 'animals_cleaned/panda/panda_00455.jpg', 'animals_cleaned/panda/panda_00457.jpg', 'animals_cleaned/panda/panda_00458.jpg', 'animals_cleaned/panda/panda_00459.jpg', 'animals_cleaned/panda/panda_00460.jpg', 'animals_cleaned/panda/panda_00461.jpg', 'animals_cleaned/panda/panda_00462.jpg', 'animals_cleaned/panda/panda_00463.jpg', 'animals_cleaned/panda/panda_00464.jpg', 'animals_cleaned/panda/panda_00465.jpg', 'animals_cleaned/panda/panda_00466.jpg', 'animals_cleaned/panda/panda_00467.jpg', 'animals_cleaned/panda/panda_00468.jpg', 'animals_cleaned/panda/panda_00469.jpg', 'animals_cleaned/panda/panda_00470.jpg', 'animals_cleaned/panda/panda_00471.jpg', 'animals_cleaned/panda/panda_00472.jpg', 'animals_cleaned/panda/panda_00473.jpg', 'animals_cleaned/panda/panda_00474.jpg', 'animals_cleaned/panda/panda_00476.jpg', 'animals_cleaned/panda/panda_00477.jpg', 'animals_cleaned/panda/panda_00478.jpg', 'animals_cleaned/panda/panda_00479.jpg', 'animals_cleaned/panda/panda_00480.jpg', 'animals_cleaned/panda/panda_00481.jpg', 'animals_cleaned/panda/panda_00482.jpg', 'animals_cleaned/panda/panda_00483.jpg', 'animals_cleaned/panda/panda_00485.jpg', 'animals_cleaned/panda/panda_00486.jpg', 'animals_cleaned/panda/panda_00487.jpg', 'animals_cleaned/panda/panda_00488.jpg', 'animals_cleaned/panda/panda_00489.jpg', 'animals_cleaned/panda/panda_00490.jpg', 'animals_cleaned/panda/panda_00491.jpg', 'animals_cleaned/panda/panda_00492.jpg', 'animals_cleaned/panda/panda_00493.jpg', 'animals_cleaned/panda/panda_00494.jpg', 'animals_cleaned/panda/panda_00495.jpg', 'animals_cleaned/panda/panda_00496.jpg', 'animals_cleaned/panda/panda_00497.jpg', 'animals_cleaned/panda/panda_00498.jpg', 'animals_cleaned/panda/panda_00499.jpg', 'animals_cleaned/panda/panda_00500.jpg', 'animals_cleaned/panda/panda_00501.jpg', 'animals_cleaned/panda/panda_00502.jpg', 'animals_cleaned/panda/panda_00503.jpg', 'animals_cleaned/panda/panda_00504.jpg', 'animals_cleaned/panda/panda_00505.jpg', 'animals_cleaned/panda/panda_00506.jpg', 'animals_cleaned/panda/panda_00507.jpg', 'animals_cleaned/panda/panda_00508.jpg', 'animals_cleaned/panda/panda_00509.jpg', 'animals_cleaned/panda/panda_00510.jpg', 'animals_cleaned/panda/panda_00511.jpg', 'animals_cleaned/panda/panda_00512.jpg', 'animals_cleaned/panda/panda_00513.jpg', 'animals_cleaned/panda/panda_00514.jpg', 'animals_cleaned/panda/panda_00515.jpg', 'animals_cleaned/panda/panda_00516.jpg', 'animals_cleaned/panda/panda_00517.jpg', 'animals_cleaned/panda/panda_00518.jpg', 'animals_cleaned/panda/panda_00519.jpg', 'animals_cleaned/panda/panda_00520.jpg', 'animals_cleaned/panda/panda_00521.jpg', 'animals_cleaned/panda/panda_00522.jpg', 'animals_cleaned/panda/panda_00523.jpg', 'animals_cleaned/panda/panda_00524.jpg', 'animals_cleaned/panda/panda_00525.jpg', 'animals_cleaned/panda/panda_00526.jpg', 'animals_cleaned/panda/panda_00527.jpg', 'animals_cleaned/panda/panda_00528.jpg', 'animals_cleaned/panda/panda_00529.jpg', 'animals_cleaned/panda/panda_00530.jpg', 'animals_cleaned/panda/panda_00531.jpg', 'animals_cleaned/panda/panda_00532.jpg', 'animals_cleaned/panda/panda_00533.jpg', 'animals_cleaned/panda/panda_00534.jpg', 'animals_cleaned/panda/panda_00535.jpg', 'animals_cleaned/panda/panda_00537.jpg', 'animals_cleaned/panda/panda_00538.jpg', 'animals_cleaned/panda/panda_00539.jpg', 'animals_cleaned/panda/panda_00541.jpg', 'animals_cleaned/panda/panda_00542.jpg', 'animals_cleaned/panda/panda_00543.jpg', 'animals_cleaned/panda/panda_00544.jpg', 'animals_cleaned/panda/panda_00545.jpg', 'animals_cleaned/panda/panda_00546.jpg', 'animals_cleaned/panda/panda_00547.jpg', 'animals_cleaned/panda/panda_00548.jpg', 'animals_cleaned/panda/panda_00549.jpg', 'animals_cleaned/panda/panda_00550.jpg', 'animals_cleaned/panda/panda_00551.jpg', 'animals_cleaned/panda/panda_00552.jpg', 'animals_cleaned/panda/panda_00553.jpg', 'animals_cleaned/panda/panda_00554.jpg', 'animals_cleaned/panda/panda_00555.jpg', 'animals_cleaned/panda/panda_00556.jpg', 'animals_cleaned/panda/panda_00557.jpg', 'animals_cleaned/panda/panda_00558.jpg', 'animals_cleaned/panda/panda_00559.jpg', 'animals_cleaned/panda/panda_00560.jpg', 'animals_cleaned/panda/panda_00561.jpg', 'animals_cleaned/panda/panda_00562.jpg', 'animals_cleaned/panda/panda_00563.jpg', 'animals_cleaned/panda/panda_00564.jpg', 'animals_cleaned/panda/panda_00565.jpg', 'animals_cleaned/panda/panda_00566.jpg', 'animals_cleaned/panda/panda_00567.jpg', 'animals_cleaned/panda/panda_00568.jpg', 'animals_cleaned/panda/panda_00569.jpg', 'animals_cleaned/panda/panda_00571.jpg', 'animals_cleaned/panda/panda_00573.jpg', 'animals_cleaned/panda/panda_00574.jpg', 'animals_cleaned/panda/panda_00575.jpg', 'animals_cleaned/panda/panda_00576.jpg', 'animals_cleaned/panda/panda_00577.jpg', 'animals_cleaned/panda/panda_00578.jpg', 'animals_cleaned/panda/panda_00579.jpg', 'animals_cleaned/panda/panda_00580.jpg', 'animals_cleaned/panda/panda_00581.jpg', 'animals_cleaned/panda/panda_00582.jpg', 'animals_cleaned/panda/panda_00583.jpg', 'animals_cleaned/panda/panda_00584.jpg', 'animals_cleaned/panda/panda_00585.jpg', 'animals_cleaned/panda/panda_00586.jpg', 'animals_cleaned/panda/panda_00587.jpg', 'animals_cleaned/panda/panda_00588.jpg', 'animals_cleaned/panda/panda_00589.jpg', 'animals_cleaned/panda/panda_00590.jpg', 'animals_cleaned/panda/panda_00592.jpg', 'animals_cleaned/panda/panda_00593.jpg', 'animals_cleaned/panda/panda_00594.jpg', 'animals_cleaned/panda/panda_00596.jpg', 'animals_cleaned/panda/panda_00597.jpg', 'animals_cleaned/panda/panda_00598.jpg', 'animals_cleaned/panda/panda_00599.jpg', 'animals_cleaned/panda/panda_00600.jpg', 'animals_cleaned/panda/panda_00601.jpg', 'animals_cleaned/panda/panda_00602.jpg', 'animals_cleaned/panda/panda_00603.jpg', 'animals_cleaned/panda/panda_00604.jpg', 'animals_cleaned/panda/panda_00605.jpg', 'animals_cleaned/panda/panda_00606.jpg', 'animals_cleaned/panda/panda_00607.jpg', 'animals_cleaned/panda/panda_00608.jpg', 'animals_cleaned/panda/panda_00609.jpg', 'animals_cleaned/panda/panda_00610.jpg', 'animals_cleaned/panda/panda_00611.jpg', 'animals_cleaned/panda/panda_00612.jpg', 'animals_cleaned/panda/panda_00613.jpg', 'animals_cleaned/panda/panda_00614.jpg', 'animals_cleaned/panda/panda_00615.jpg', 'animals_cleaned/panda/panda_00616.jpg', 'animals_cleaned/panda/panda_00617.jpg', 'animals_cleaned/panda/panda_00618.jpg', 'animals_cleaned/panda/panda_00619.jpg', 'animals_cleaned/panda/panda_00620.jpg', 'animals_cleaned/panda/panda_00621.jpg', 'animals_cleaned/panda/panda_00622.jpg', 'animals_cleaned/panda/panda_00623.jpg', 'animals_cleaned/panda/panda_00624.jpg', 'animals_cleaned/panda/panda_00625.jpg', 'animals_cleaned/panda/panda_00626.jpg', 'animals_cleaned/panda/panda_00627.jpg', 'animals_cleaned/panda/panda_00628.jpg', 'animals_cleaned/panda/panda_00629.jpg', 'animals_cleaned/panda/panda_00630.jpg', 'animals_cleaned/panda/panda_00631.jpg', 'animals_cleaned/panda/panda_00632.jpg', 'animals_cleaned/panda/panda_00633.jpg', 'animals_cleaned/panda/panda_00634.jpg', 'animals_cleaned/panda/panda_00635.jpg', 'animals_cleaned/panda/panda_00636.jpg', 'animals_cleaned/panda/panda_00637.jpg', 'animals_cleaned/panda/panda_00638.jpg', 'animals_cleaned/panda/panda_00639.jpg', 'animals_cleaned/panda/panda_00640.jpg', 'animals_cleaned/panda/panda_00641.jpg', 'animals_cleaned/panda/panda_00642.jpg', 'animals_cleaned/panda/panda_00645.jpg', 'animals_cleaned/panda/panda_00646.jpg', 'animals_cleaned/panda/panda_00647.jpg', 'animals_cleaned/panda/panda_00648.jpg', 'animals_cleaned/panda/panda_00649.jpg', 'animals_cleaned/panda/panda_00650.jpg', 'animals_cleaned/panda/panda_00651.jpg', 'animals_cleaned/panda/panda_00652.jpg', 'animals_cleaned/panda/panda_00653.jpg', 'animals_cleaned/panda/panda_00654.jpg', 'animals_cleaned/panda/panda_00655.jpg', 'animals_cleaned/panda/panda_00656.jpg', 'animals_cleaned/panda/panda_00657.jpg', 'animals_cleaned/panda/panda_00658.jpg', 'animals_cleaned/panda/panda_00659.jpg', 'animals_cleaned/panda/panda_00660.jpg', 'animals_cleaned/panda/panda_00661.jpg', 'animals_cleaned/panda/panda_00662.jpg', 'animals_cleaned/panda/panda_00663.jpg', 'animals_cleaned/panda/panda_00664.jpg', 'animals_cleaned/panda/panda_00665.jpg', 'animals_cleaned/panda/panda_00666.jpg', 'animals_cleaned/panda/panda_00667.jpg', 'animals_cleaned/panda/panda_00668.jpg', 'animals_cleaned/panda/panda_00669.jpg', 'animals_cleaned/panda/panda_00670.jpg', 'animals_cleaned/panda/panda_00671.jpg', 'animals_cleaned/panda/panda_00672.jpg', 'animals_cleaned/panda/panda_00673.jpg', 'animals_cleaned/panda/panda_00674.jpg', 'animals_cleaned/panda/panda_00675.jpg', 'animals_cleaned/panda/panda_00677.jpg', 'animals_cleaned/panda/panda_00678.jpg', 'animals_cleaned/panda/panda_00679.jpg', 'animals_cleaned/panda/panda_00680.jpg', 'animals_cleaned/panda/panda_00681.jpg', 'animals_cleaned/panda/panda_00682.jpg', 'animals_cleaned/panda/panda_00683.jpg', 'animals_cleaned/panda/panda_00684.jpg', 'animals_cleaned/panda/panda_00685.jpg', 'animals_cleaned/panda/panda_00686.jpg', 'animals_cleaned/panda/panda_00687.jpg', 'animals_cleaned/panda/panda_00688.jpg', 'animals_cleaned/panda/panda_00689.jpg', 'animals_cleaned/panda/panda_00690.jpg', 'animals_cleaned/panda/panda_00691.jpg', 'animals_cleaned/panda/panda_00692.jpg', 'animals_cleaned/panda/panda_00693.jpg', 'animals_cleaned/panda/panda_00694.jpg', 'animals_cleaned/panda/panda_00695.jpg', 'animals_cleaned/panda/panda_00696.jpg', 'animals_cleaned/panda/panda_00697.jpg', 'animals_cleaned/panda/panda_00698.jpg', 'animals_cleaned/panda/panda_00699.jpg', 'animals_cleaned/panda/panda_00700.jpg', 'animals_cleaned/panda/panda_00701.jpg', 'animals_cleaned/panda/panda_00702.jpg', 'animals_cleaned/panda/panda_00703.jpg', 'animals_cleaned/panda/panda_00704.jpg', 'animals_cleaned/panda/panda_00705.jpg', 'animals_cleaned/panda/panda_00706.jpg', 'animals_cleaned/panda/panda_00707.jpg', 'animals_cleaned/panda/panda_00708.jpg', 'animals_cleaned/panda/panda_00709.jpg', 'animals_cleaned/panda/panda_00710.jpg', 'animals_cleaned/panda/panda_00711.jpg', 'animals_cleaned/panda/panda_00713.jpg', 'animals_cleaned/panda/panda_00714.jpg', 'animals_cleaned/panda/panda_00715.jpg', 'animals_cleaned/panda/panda_00716.jpg', 'animals_cleaned/panda/panda_00717.jpg', 'animals_cleaned/panda/panda_00718.jpg', 'animals_cleaned/panda/panda_00719.jpg', 'animals_cleaned/panda/panda_00720.jpg', 'animals_cleaned/panda/panda_00721.jpg', 'animals_cleaned/panda/panda_00722.jpg', 'animals_cleaned/panda/panda_00723.jpg', 'animals_cleaned/panda/panda_00724.jpg', 'animals_cleaned/panda/panda_00725.jpg', 'animals_cleaned/panda/panda_00726.jpg', 'animals_cleaned/panda/panda_00727.jpg', 'animals_cleaned/panda/panda_00728.jpg', 'animals_cleaned/panda/panda_00729.jpg', 'animals_cleaned/panda/panda_00730.jpg', 'animals_cleaned/panda/panda_00731.jpg', 'animals_cleaned/panda/panda_00732.jpg', 'animals_cleaned/panda/panda_00733.jpg', 'animals_cleaned/panda/panda_00734.jpg', 'animals_cleaned/panda/panda_00735.jpg', 'animals_cleaned/panda/panda_00736.jpg', 'animals_cleaned/panda/panda_00737.jpg', 'animals_cleaned/panda/panda_00738.jpg', 'animals_cleaned/panda/panda_00739.jpg', 'animals_cleaned/panda/panda_00740.jpg', 'animals_cleaned/panda/panda_00741.jpg', 'animals_cleaned/panda/panda_00742.jpg', 'animals_cleaned/panda/panda_00743.jpg', 'animals_cleaned/panda/panda_00744.jpg', 'animals_cleaned/panda/panda_00745.jpg', 'animals_cleaned/panda/panda_00746.jpg', 'animals_cleaned/panda/panda_00747.jpg', 'animals_cleaned/panda/panda_00748.jpg', 'animals_cleaned/panda/panda_00750.jpg', 'animals_cleaned/panda/panda_00751.jpg', 'animals_cleaned/panda/panda_00752.jpg', 'animals_cleaned/panda/panda_00753.jpg', 'animals_cleaned/panda/panda_00754.jpg', 'animals_cleaned/panda/panda_00755.jpg', 'animals_cleaned/panda/panda_00756.jpg', 'animals_cleaned/panda/panda_00757.jpg', 'animals_cleaned/panda/panda_00758.jpg', 'animals_cleaned/panda/panda_00759.jpg', 'animals_cleaned/panda/panda_00760.jpg', 'animals_cleaned/panda/panda_00761.jpg', 'animals_cleaned/panda/panda_00763.jpg', 'animals_cleaned/panda/panda_00764.jpg', 'animals_cleaned/panda/panda_00765.jpg', 'animals_cleaned/panda/panda_00766.jpg', 'animals_cleaned/panda/panda_00767.jpg', 'animals_cleaned/panda/panda_00768.jpg', 'animals_cleaned/panda/panda_00769.jpg', 'animals_cleaned/panda/panda_00770.jpg', 'animals_cleaned/panda/panda_00771.jpg', 'animals_cleaned/panda/panda_00772.jpg', 'animals_cleaned/panda/panda_00773.jpg', 'animals_cleaned/panda/panda_00775.jpg', 'animals_cleaned/panda/panda_00776.jpg', 'animals_cleaned/panda/panda_00777.jpg', 'animals_cleaned/panda/panda_00778.jpg', 'animals_cleaned/panda/panda_00779.jpg', 'animals_cleaned/panda/panda_00780.jpg', 'animals_cleaned/panda/panda_00781.jpg', 'animals_cleaned/panda/panda_00782.jpg', 'animals_cleaned/panda/panda_00783.jpg', 'animals_cleaned/panda/panda_00784.jpg', 'animals_cleaned/panda/panda_00785.jpg', 'animals_cleaned/panda/panda_00786.jpg', 'animals_cleaned/panda/panda_00787.jpg', 'animals_cleaned/panda/panda_00788.jpg', 'animals_cleaned/panda/panda_00789.jpg', 'animals_cleaned/panda/panda_00790.jpg', 'animals_cleaned/panda/panda_00791.jpg', 'animals_cleaned/panda/panda_00792.jpg', 'animals_cleaned/panda/panda_00793.jpg', 'animals_cleaned/panda/panda_00794.jpg', 'animals_cleaned/panda/panda_00795.jpg', 'animals_cleaned/panda/panda_00796.jpg', 'animals_cleaned/panda/panda_00797.jpg', 'animals_cleaned/panda/panda_00798.jpg', 'animals_cleaned/panda/panda_00799.jpg', 'animals_cleaned/panda/panda_00800.jpg', 'animals_cleaned/panda/panda_00801.jpg', 'animals_cleaned/panda/panda_00802.jpg', 'animals_cleaned/panda/panda_00803.jpg', 'animals_cleaned/panda/panda_00804.jpg', 'animals_cleaned/panda/panda_00805.jpg', 'animals_cleaned/panda/panda_00806.jpg', 'animals_cleaned/panda/panda_00807.jpg', 'animals_cleaned/panda/panda_00808.jpg', 'animals_cleaned/panda/panda_00809.jpg', 'animals_cleaned/panda/panda_00810.jpg', 'animals_cleaned/panda/panda_00811.jpg', 'animals_cleaned/panda/panda_00812.jpg', 'animals_cleaned/panda/panda_00813.jpg', 'animals_cleaned/panda/panda_00814.jpg', 'animals_cleaned/panda/panda_00815.jpg', 'animals_cleaned/panda/panda_00816.jpg', 'animals_cleaned/panda/panda_00817.jpg', 'animals_cleaned/panda/panda_00818.jpg', 'animals_cleaned/panda/panda_00819.jpg', 'animals_cleaned/panda/panda_00820.jpg', 'animals_cleaned/panda/panda_00821.jpg', 'animals_cleaned/panda/panda_00822.jpg', 'animals_cleaned/panda/panda_00823.jpg', 'animals_cleaned/panda/panda_00824.jpg', 'animals_cleaned/panda/panda_00825.jpg', 'animals_cleaned/panda/panda_00826.jpg', 'animals_cleaned/panda/panda_00827.jpg', 'animals_cleaned/panda/panda_00828.jpg', 'animals_cleaned/panda/panda_00829.jpg', 'animals_cleaned/panda/panda_00830.jpg', 'animals_cleaned/panda/panda_00831.jpg', 'animals_cleaned/panda/panda_00832.jpg', 'animals_cleaned/panda/panda_00833.jpg', 'animals_cleaned/panda/panda_00834.jpg', 'animals_cleaned/panda/panda_00835.jpg', 'animals_cleaned/panda/panda_00836.jpg', 'animals_cleaned/panda/panda_00837.jpg', 'animals_cleaned/panda/panda_00838.jpg', 'animals_cleaned/panda/panda_00839.jpg', 'animals_cleaned/panda/panda_00840.jpg', 'animals_cleaned/panda/panda_00841.jpg', 'animals_cleaned/panda/panda_00842.jpg', 'animals_cleaned/panda/panda_00843.jpg', 'animals_cleaned/panda/panda_00844.jpg', 'animals_cleaned/panda/panda_00845.jpg', 'animals_cleaned/panda/panda_00846.jpg', 'animals_cleaned/panda/panda_00847.jpg', 'animals_cleaned/panda/panda_00848.jpg', 'animals_cleaned/panda/panda_00849.jpg', 'animals_cleaned/panda/panda_00850.jpg', 'animals_cleaned/panda/panda_00851.jpg', 'animals_cleaned/panda/panda_00852.jpg', 'animals_cleaned/panda/panda_00853.jpg', 'animals_cleaned/panda/panda_00854.jpg', 'animals_cleaned/panda/panda_00855.jpg', 'animals_cleaned/panda/panda_00856.jpg', 'animals_cleaned/panda/panda_00857.jpg', 'animals_cleaned/panda/panda_00858.jpg', 'animals_cleaned/panda/panda_00859.jpg', 'animals_cleaned/panda/panda_00860.jpg', 'animals_cleaned/panda/panda_00861.jpg', 'animals_cleaned/panda/panda_00862.jpg', 'animals_cleaned/panda/panda_00863.jpg', 'animals_cleaned/panda/panda_00864.jpg', 'animals_cleaned/panda/panda_00865.jpg', 'animals_cleaned/panda/panda_00866.jpg', 'animals_cleaned/panda/panda_00867.jpg', 'animals_cleaned/panda/panda_00868.jpg', 'animals_cleaned/panda/panda_00869.jpg', 'animals_cleaned/panda/panda_00870.jpg', 'animals_cleaned/panda/panda_00871.jpg', 'animals_cleaned/panda/panda_00872.jpg', 'animals_cleaned/panda/panda_00873.jpg', 'animals_cleaned/panda/panda_00874.jpg', 'animals_cleaned/panda/panda_00875.jpg', 'animals_cleaned/panda/panda_00876.jpg', 'animals_cleaned/panda/panda_00877.jpg', 'animals_cleaned/panda/panda_00878.jpg', 'animals_cleaned/panda/panda_00879.jpg', 'animals_cleaned/panda/panda_00880.jpg', 'animals_cleaned/panda/panda_00881.jpg', 'animals_cleaned/panda/panda_00882.jpg', 'animals_cleaned/panda/panda_00883.jpg', 'animals_cleaned/panda/panda_00884.jpg', 'animals_cleaned/panda/panda_00885.jpg', 'animals_cleaned/panda/panda_00886.jpg', 'animals_cleaned/panda/panda_00887.jpg', 'animals_cleaned/panda/panda_00888.jpg', 'animals_cleaned/panda/panda_00889.jpg', 'animals_cleaned/panda/panda_00890.jpg', 'animals_cleaned/panda/panda_00891.jpg', 'animals_cleaned/panda/panda_00892.jpg', 'animals_cleaned/panda/panda_00893.jpg', 'animals_cleaned/panda/panda_00894.jpg', 'animals_cleaned/panda/panda_00895.jpg', 'animals_cleaned/panda/panda_00896.jpg', 'animals_cleaned/panda/panda_00897.jpg', 'animals_cleaned/panda/panda_00898.jpg', 'animals_cleaned/panda/panda_00899.jpg', 'animals_cleaned/panda/panda_00900.jpg', 'animals_cleaned/panda/panda_00901.jpg', 'animals_cleaned/panda/panda_00902.jpg', 'animals_cleaned/panda/panda_00903.jpg', 'animals_cleaned/panda/panda_00904.jpg', 'animals_cleaned/panda/panda_00905.jpg', 'animals_cleaned/panda/panda_00906.jpg', 'animals_cleaned/panda/panda_00907.jpg', 'animals_cleaned/panda/panda_00908.jpg', 'animals_cleaned/panda/panda_00909.jpg', 'animals_cleaned/panda/panda_00910.jpg', 'animals_cleaned/panda/panda_00911.jpg', 'animals_cleaned/panda/panda_00912.jpg', 'animals_cleaned/panda/panda_00913.jpg', 'animals_cleaned/panda/panda_00914.jpg', 'animals_cleaned/panda/panda_00915.jpg', 'animals_cleaned/panda/panda_00916.jpg', 'animals_cleaned/panda/panda_00917.jpg', 'animals_cleaned/panda/panda_00918.jpg', 'animals_cleaned/panda/panda_00919.jpg', 'animals_cleaned/panda/panda_00920.jpg', 'animals_cleaned/panda/panda_00921.jpg', 'animals_cleaned/panda/panda_00922.jpg', 'animals_cleaned/panda/panda_00923.jpg', 'animals_cleaned/panda/panda_00924.jpg', 'animals_cleaned/panda/panda_00925.jpg', 'animals_cleaned/panda/panda_00926.jpg', 'animals_cleaned/panda/panda_00927.jpg', 'animals_cleaned/panda/panda_00928.jpg', 'animals_cleaned/panda/panda_00929.jpg', 'animals_cleaned/panda/panda_00930.jpg', 'animals_cleaned/panda/panda_00931.jpg', 'animals_cleaned/panda/panda_00932.jpg', 'animals_cleaned/panda/panda_00933.jpg', 'animals_cleaned/panda/panda_00934.jpg', 'animals_cleaned/panda/panda_00935.jpg', 'animals_cleaned/panda/panda_00936.jpg', 'animals_cleaned/panda/panda_00937.jpg', 'animals_cleaned/panda/panda_00938.jpg', 'animals_cleaned/panda/panda_00939.jpg', 'animals_cleaned/panda/panda_00940.jpg', 'animals_cleaned/panda/panda_00941.jpg', 'animals_cleaned/panda/panda_00942.jpg', 'animals_cleaned/panda/panda_00944.jpg', 'animals_cleaned/panda/panda_00945.jpg', 'animals_cleaned/panda/panda_00946.jpg', 'animals_cleaned/panda/panda_00947.jpg', 'animals_cleaned/panda/panda_00948.jpg', 'animals_cleaned/panda/panda_00949.jpg', 'animals_cleaned/panda/panda_00950.jpg', 'animals_cleaned/panda/panda_00951.jpg', 'animals_cleaned/panda/panda_00952.jpg', 'animals_cleaned/panda/panda_00953.jpg', 'animals_cleaned/panda/panda_00954.jpg', 'animals_cleaned/panda/panda_00955.jpg', 'animals_cleaned/panda/panda_00956.jpg', 'animals_cleaned/panda/panda_00957.jpg', 'animals_cleaned/panda/panda_00958.jpg', 'animals_cleaned/panda/panda_00959.jpg', 'animals_cleaned/panda/panda_00960.jpg', 'animals_cleaned/panda/panda_00961.jpg', 'animals_cleaned/panda/panda_00962.jpg', 'animals_cleaned/panda/panda_00963.jpg', 'animals_cleaned/panda/panda_00964.jpg', 'animals_cleaned/panda/panda_00965.jpg', 'animals_cleaned/panda/panda_00966.jpg', 'animals_cleaned/panda/panda_00967.jpg', 'animals_cleaned/panda/panda_00968.jpg', 'animals_cleaned/panda/panda_00969.jpg', 'animals_cleaned/panda/panda_00970.jpg', 'animals_cleaned/panda/panda_00971.jpg', 'animals_cleaned/panda/panda_00972.jpg', 'animals_cleaned/panda/panda_00973.jpg', 'animals_cleaned/panda/panda_00974.jpg', 'animals_cleaned/panda/panda_00975.jpg', 'animals_cleaned/panda/panda_00976.jpg', 'animals_cleaned/panda/panda_00977.jpg', 'animals_cleaned/panda/panda_00978.jpg', 'animals_cleaned/panda/panda_00979.jpg', 'animals_cleaned/panda/panda_00980.jpg', 'animals_cleaned/panda/panda_00981.jpg', 'animals_cleaned/panda/panda_00982.jpg', 'animals_cleaned/panda/panda_00983.jpg', 'animals_cleaned/panda/panda_00984.jpg', 'animals_cleaned/panda/panda_00985.jpg', 'animals_cleaned/panda/panda_00986.jpg', 'animals_cleaned/panda/panda_00987.jpg', 'animals_cleaned/panda/panda_00989.jpg', 'animals_cleaned/panda/panda_00990.jpg', 'animals_cleaned/panda/panda_00991.jpg', 'animals_cleaned/panda/panda_00992.jpg', 'animals_cleaned/panda/panda_00993.jpg', 'animals_cleaned/panda/panda_00994.jpg', 'animals_cleaned/panda/panda_00995.jpg', 'animals_cleaned/panda/panda_00996.jpg', 'animals_cleaned/panda/panda_00997.jpg', 'animals_cleaned/panda/panda_00998.jpg', 'animals_cleaned/panda/panda_00999.jpg', 'animals_cleaned/panda/panda_01000.jpg']\n",
      "2952\n"
     ]
    }
   ],
   "source": [
    "allFiles = [*catFiles, *dogFiles, *pandaFiles]\n",
    "\n",
    "print(allFiles)\n",
    "print(len(allFiles))"
   ]
  },
  {
   "cell_type": "code",
   "execution_count": 4,
   "metadata": {},
   "outputs": [
    {
     "name": "stdout",
     "output_type": "stream",
     "text": [
      "[[0 0 0]\n",
      " [0 0 0]\n",
      " [0 0 0]]\n",
      "<class 'numpy.ndarray'>\n"
     ]
    }
   ],
   "source": [
    "#Make the Confusion Matrix manually\n",
    "\n",
    "import numpy as np\n",
    "\n",
    "#initalize as empty 3x3 matrix and update as we make predictions\n",
    "#read columns in order: cat, dog, panda     as prediction\n",
    "#read rows in order:    cat, dog, panda     as actual\n",
    "# i.e. cm[ACTUAL, PREDICTED]\n",
    "#       eg. cm[1,2] means the actual animal was a dog while the predicted was a panda\n",
    "cmViT = np.zeros((3,3), dtype = 'int')\n",
    "\n",
    "print(cmViT)\n",
    "print(type(cmViT))"
   ]
  },
  {
   "cell_type": "markdown",
   "metadata": {},
   "source": [
    "#### ViT-B/32"
   ]
  },
  {
   "cell_type": "code",
   "execution_count": 5,
   "metadata": {},
   "outputs": [],
   "source": [
    "#run all the data and obtain the confusion matrix and probabilities for each \n",
    "\n",
    "import projHelper as pjH\n",
    "\n",
    "cmViT, probabilitiesCats = pjH.getCMProbs(0, catFiles, cmViT, 0)\n",
    "cmViT, probabilitiesDogs = pjH.getCMProbs(0, dogFiles, cmViT, 1)\n",
    "cmViT, probabilitiesPanda = pjH.getCMProbs(0, pandaFiles, cmViT, 2)"
   ]
  },
  {
   "cell_type": "code",
   "execution_count": 6,
   "metadata": {},
   "outputs": [
    {
     "name": "stdout",
     "output_type": "stream",
     "text": [
      "[[2 0 0]\n",
      " [0 2 0]\n",
      " [0 0 2]]\n",
      "0.9885767\n",
      "0.99884665\n",
      "0.99997103\n"
     ]
    }
   ],
   "source": [
    "print(cmViT)\n",
    "print(probabilitiesCats[0])\n",
    "print(probabilitiesDogs[0])\n",
    "print(probabilitiesPanda[0])"
   ]
  },
  {
   "cell_type": "markdown",
   "metadata": {},
   "source": [
    "#### RN50x16"
   ]
  },
  {
   "cell_type": "code",
   "execution_count": null,
   "metadata": {},
   "outputs": [],
   "source": [
    "#initialize same as cmViT\n",
    "cmRN = np.zeros((3,3), dtype = 'int')"
   ]
  },
  {
   "cell_type": "code",
   "execution_count": null,
   "metadata": {},
   "outputs": [],
   "source": [
    "#run all the data and obtain the confusion matrix and probabilities for each \n",
    "\n",
    "cmRN, probabilitiesCats = pjH.getCMProbs(1, catFiles, cmRN, 0)\n",
    "cmRN, probabilitiesDogs = pjH.getCMProbs(1, dogFiles, cmRN, 1)\n",
    "cmRN, probabilitiesPanda = pjH.getCMProbs(1, pandaFiles, cmRN, 2)"
   ]
  },
  {
   "cell_type": "markdown",
   "metadata": {},
   "source": [
    "## Joycelyn Tuazon"
   ]
  },
  {
   "cell_type": "code",
   "execution_count": 7,
   "metadata": {},
   "outputs": [],
   "source": [
    "#Code here...\n",
    "\n",
    "import keras\n",
    "import projHelper as pjH\n",
    "import pandas as pd\n",
    "\n"
   ]
  }
 ],
 "metadata": {
  "kernelspec": {
   "display_name": "Python 3",
   "language": "python",
   "name": "python3"
  },
  "language_info": {
   "codemirror_mode": {
    "name": "ipython",
    "version": 3
   },
   "file_extension": ".py",
   "mimetype": "text/x-python",
   "name": "python",
   "nbconvert_exporter": "python",
   "pygments_lexer": "ipython3",
   "version": "3.10.8"
  }
 },
 "nbformat": 4,
 "nbformat_minor": 2
}
