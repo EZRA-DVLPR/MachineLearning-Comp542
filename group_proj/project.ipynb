{
 "cells": [
  {
   "cell_type": "markdown",
   "metadata": {},
   "source": [
    "# Group Project - Cat Image Classification"
   ]
  },
  {
   "cell_type": "markdown",
   "metadata": {},
   "source": [
    "## Group 4: Isaiah Martinez, Joycelyn Tuazon\n",
    "## Mrs. Lord - Comp 542 Machine Learning"
   ]
  },
  {
   "cell_type": "code",
   "execution_count": 65,
   "metadata": {},
   "outputs": [],
   "source": [
    "import projHelper as pjH\n",
    "#iterate through each animal folder and obtain size stats\n",
    "imageFolder = \"animals/cats/\"\n",
    "\n",
    "catSizes = pjH.getMaxMin(imageFolder)\n",
    "\n",
    "imageFolder = \"animals/dogs/\"\n",
    "\n",
    "dogSizes = pjH.getMaxMin(imageFolder)\n",
    "\n",
    "imageFolder = \"animals/panda/\"\n",
    "\n",
    "pandaSizes = pjH.getMaxMin(imageFolder)"
   ]
  },
  {
   "cell_type": "code",
   "execution_count": 68,
   "metadata": {},
   "outputs": [
    {
     "name": "stdout",
     "output_type": "stream",
     "text": [
      "[]\n"
     ]
    }
   ],
   "source": [
    "\n",
    "matches = pjH.imgSizeMatch([500, 500], \"animals/cats/\")\n",
    "\n",
    "print(matches)"
   ]
  }
 ],
 "metadata": {
  "kernelspec": {
   "display_name": "Python 3",
   "language": "python",
   "name": "python3"
  },
  "language_info": {
   "codemirror_mode": {
    "name": "ipython",
    "version": 3
   },
   "file_extension": ".py",
   "mimetype": "text/x-python",
   "name": "python",
   "nbconvert_exporter": "python",
   "pygments_lexer": "ipython3",
   "version": "3.9.6"
  }
 },
 "nbformat": 4,
 "nbformat_minor": 2
}
