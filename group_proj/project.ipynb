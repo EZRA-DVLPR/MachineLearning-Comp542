{
 "cells": [
  {
   "cell_type": "markdown",
   "metadata": {},
   "source": [
    "# Group Project - Cat Image Classification"
   ]
  },
  {
   "cell_type": "markdown",
   "metadata": {},
   "source": [
    "## Group 4: Isaiah Martinez, Joycelyn Tuazon\n",
    "## Mrs. Lord - Comp 542 Machine Learning"
   ]
  },
  {
   "cell_type": "code",
   "execution_count": 44,
   "metadata": {},
   "outputs": [
    {
     "name": "stdout",
     "output_type": "stream",
     "text": [
      "(500, 374) (55, 75) (363, 500) (60, 32)\n",
      "(500, 374) (59, 50) (478, 500) (59, 50)\n",
      "(1600, 1200) (78, 120) (1600, 1200) (100, 87)\n"
     ]
    }
   ],
   "source": [
    "import helper\n",
    "\n",
    "#iterate through images folder obtaining all files\n",
    "imageFolder = \"animals/cats/\"\n",
    "\n",
    "catSizes = helper.getMaxMin(imageFolder)\n",
    "\n",
    "imageFolder = \"animals/dogs/\"\n",
    "\n",
    "dogSizes = helper.getMaxMin(imageFolder)\n",
    "\n",
    "imageFolder = \"animals/panda/\"\n",
    "\n",
    "pandaSizes = helper.getMaxMin(imageFolder)"
   ]
  },
  {
   "cell_type": "code",
   "execution_count": null,
   "metadata": {},
   "outputs": [],
   "source": []
  }
 ],
 "metadata": {
  "kernelspec": {
   "display_name": "Python 3",
   "language": "python",
   "name": "python3"
  },
  "language_info": {
   "codemirror_mode": {
    "name": "ipython",
    "version": 3
   },
   "file_extension": ".py",
   "mimetype": "text/x-python",
   "name": "python",
   "nbconvert_exporter": "python",
   "pygments_lexer": "ipython3",
   "version": "3.9.6"
  }
 },
 "nbformat": 4,
 "nbformat_minor": 2
}
