{
 "cells": [
  {
   "cell_type": "markdown",
   "metadata": {},
   "source": [
    "# Group Project - Cat Image Classification"
   ]
  },
  {
   "cell_type": "markdown",
   "metadata": {},
   "source": [
    "## Group 4: Isaiah Martinez, Joycelyn Tuazon\n",
    "## Mrs. Lord - Comp 542 Machine Learning"
   ]
  },
  {
   "cell_type": "markdown",
   "metadata": {},
   "source": [
    "# 1) Data Pre-Processing"
   ]
  },
  {
   "cell_type": "code",
   "execution_count": 1,
   "metadata": {},
   "outputs": [
    {
     "name": "stderr",
     "output_type": "stream",
     "text": [
      "2023-10-10 16:04:26.403619: I tensorflow/core/platform/cpu_feature_guard.cc:182] This TensorFlow binary is optimized to use available CPU instructions in performance-critical operations.\n",
      "To enable the following instructions: AVX2 FMA, in other operations, rebuild TensorFlow with the appropriate compiler flags.\n"
     ]
    },
    {
     "name": "stdout",
     "output_type": "stream",
     "text": [
      "(1600, 1200) \tMaxWidth\n",
      "(78, 120) \tMinWidth\n",
      "(1600, 1200) \tMaxHeight\n",
      "(100, 87) \tMinHeight\n"
     ]
    }
   ],
   "source": [
    "import projHelper as pjH\n",
    "\n",
    "extremeSizes = pjH.calculateExtremeSizes()\n",
    "print(extremeSizes[0], \"\\tMaxWidth\")\n",
    "print(extremeSizes[1], \"\\tMinWidth\")\n",
    "print(extremeSizes[2], \"\\tMaxHeight\")\n",
    "print(extremeSizes[3], \"\\tMinHeight\")"
   ]
  },
  {
   "cell_type": "code",
   "execution_count": 2,
   "metadata": {},
   "outputs": [
    {
     "name": "stdout",
     "output_type": "stream",
     "text": [
      "[]\n"
     ]
    }
   ],
   "source": [
    "#Search for an image of size 500,500 within the cats folder\n",
    "\n",
    "matches = pjH.imgSizeMatch([500, 500], \"animals/cats/\")\n",
    "\n",
    "#there are none so we should see an empty list\n",
    "print(matches)"
   ]
  },
  {
   "cell_type": "code",
   "execution_count": 3,
   "metadata": {},
   "outputs": [
    {
     "name": "stdout",
     "output_type": "stream",
     "text": [
      "<class 'PIL.JpegImagePlugin.JpegImageFile'>\n",
      "JPEG\n",
      "RGB\n",
      "(500, 374)\n"
     ]
    }
   ],
   "source": [
    "#now we're going to utilize keras for gaining insights into our images\n",
    "import keras\n",
    "\n",
    "img = keras.preprocessing.image.load_img(\"animals/cats/cats_00001.jpg\")\n",
    "#Notice the image from keras is of type PIL\n",
    "print(type(img))\n",
    "print(img.format)\n",
    "print(img.mode)\n",
    "print(img.size)\n",
    "\n",
    "img.show()"
   ]
  },
  {
   "cell_type": "code",
   "execution_count": 4,
   "metadata": {},
   "outputs": [],
   "source": [
    "#show how resizing the image selected works\n",
    "\n",
    "#notice this image has one dimension of size less than 500,500\n",
    "image = img.resize([500,500])\n",
    "image.show()"
   ]
  },
  {
   "cell_type": "code",
   "execution_count": 5,
   "metadata": {},
   "outputs": [
    {
     "name": "stdout",
     "output_type": "stream",
     "text": [
      "['panda_00478.jpg']\n"
     ]
    }
   ],
   "source": [
    "#Search for an image of size 100, 87 within the panda folder\n",
    "\n",
    "matches = pjH.imgSizeMatch([100, 87], \"animals/panda/\")\n",
    "\n",
    "#there is exactly one\n",
    "print(matches)\n",
    "\n",
    "#Using the found filename, we will stretch the image out to 500,500 and see what happens when we resize it\n",
    "#notice this image has both dimensions of size less than 500,500\n",
    "\n",
    "img2 = keras.preprocessing.image.load_img(\"animals/panda/panda_00478.jpg\")\n",
    "img2.show()\n",
    "\n",
    "image2 = img2.resize([500,500])\n",
    "image2.show()"
   ]
  },
  {
   "cell_type": "code",
   "execution_count": 6,
   "metadata": {},
   "outputs": [
    {
     "name": "stdout",
     "output_type": "stream",
     "text": [
      "['panda_00880.jpg']\n"
     ]
    }
   ],
   "source": [
    "#Search for an image of size 1600, 1200 within the panda folder\n",
    "\n",
    "matches = pjH.imgSizeMatch([1600, 1200], \"animals/panda/\")\n",
    "\n",
    "#there is exactly one\n",
    "print(matches)\n",
    "\n",
    "#Using the found filename, we will stretch the image out to see what happens when we resize it\n",
    "#notice this image has both dimensions of size greater than 500,500\n",
    "\n",
    "img3 = keras.preprocessing.image.load_img(\"animals/panda/panda_00880.jpg\")\n",
    "img3.show()\n",
    "\n",
    "image3 = img3.resize([500,500])\n",
    "image3.show()"
   ]
  },
  {
   "cell_type": "code",
   "execution_count": 7,
   "metadata": {},
   "outputs": [
    {
     "name": "stdout",
     "output_type": "stream",
     "text": [
      "(431.90066666666667, 371.62166666666667)\n"
     ]
    }
   ],
   "source": [
    "#Find Avg dimensions of all images\n",
    "avgDims = pjH.avgDims()\n",
    "print(avgDims)"
   ]
  },
  {
   "cell_type": "code",
   "execution_count": 8,
   "metadata": {},
   "outputs": [
    {
     "name": "stdout",
     "output_type": "stream",
     "text": [
      "[[[154 158 128]\n",
      "  [131 152 106]\n",
      "  [ 76 114  60]\n",
      "  ...\n",
      "  [121 143 159]\n",
      "  [125 146 167]\n",
      "  [125 145 168]]\n",
      "\n",
      " [[111 133 110]\n",
      "  [ 80 111  71]\n",
      "  [118 155 109]\n",
      "  ...\n",
      "  [128 151 174]\n",
      "  [138 160 188]\n",
      "  [141 163 192]]\n",
      "\n",
      " [[ 58 100  80]\n",
      "  [138 176 141]\n",
      "  [187 218 181]\n",
      "  ...\n",
      "  [144 167 201]\n",
      "  [145 168 205]\n",
      "  [149 172 210]]\n",
      "\n",
      " ...\n",
      "\n",
      " [[ 20  41  50]\n",
      "  [ 18  39  50]\n",
      "  [ 24  44  54]\n",
      "  ...\n",
      "  [ 78  71  52]\n",
      "  [ 66  63  47]\n",
      "  [ 59  60  47]]\n",
      "\n",
      " [[ 24  44  51]\n",
      "  [ 20  40  51]\n",
      "  [ 28  47  58]\n",
      "  ...\n",
      "  [ 68  63  45]\n",
      "  [ 59  58  44]\n",
      "  [ 51  53  41]]\n",
      "\n",
      " [[ 28  47  55]\n",
      "  [ 23  43  55]\n",
      "  [ 33  52  64]\n",
      "  ...\n",
      "  [ 57  53  37]\n",
      "  [ 51  52  38]\n",
      "  [ 47  49  40]]]\n"
     ]
    }
   ],
   "source": [
    "import numpy as np\n",
    "image3Array = np.asarray(image3)\n",
    "print(image3Array)"
   ]
  },
  {
   "cell_type": "markdown",
   "metadata": {},
   "source": [
    "# Examples that may provide insight"
   ]
  },
  {
   "cell_type": "code",
   "execution_count": 9,
   "metadata": {},
   "outputs": [],
   "source": [
    "#Count objects\n",
    "#https://new.pythonforengineers.com/blog/image-and-video-processing-in-python/\n",
    "\n",
    "#Basic outline for image classificaiton. See youtube video too.\n",
    "#https://www.youtube.com/watch?v=il8dMDlXrIE\n",
    "#https://github.com/computervisioneng/image-classification-python-scikit-learn/blob/master/main.py\n",
    "\n",
    "#Image classification with Tensorflow and Keras\n",
    "#https://www.tensorflow.org/tutorials/images/classification\n",
    "\n",
    "#Load and Preprocess Images\n",
    "#https://www.tensorflow.org/tutorials/load_data/images"
   ]
  },
  {
   "cell_type": "code",
   "execution_count": 10,
   "metadata": {},
   "outputs": [
    {
     "name": "stdout",
     "output_type": "stream",
     "text": [
      "Found 3000 files belonging to 3 classes.\n",
      "Using 2400 files for training.\n"
     ]
    }
   ],
   "source": [
    "#Following the Loading and Preprocessing Tensorflow tutorial from the above code\n",
    "import tensorflow as tf\n",
    "\n",
    "batch_size = 32\n",
    "img_height = 500\n",
    "img_width = 500\n",
    "\n",
    "train_ds = tf.keras.utils.image_dataset_from_directory(\n",
    "  directory=\"animals/\",\n",
    "  validation_split=0.2,\n",
    "  subset=\"training\",\n",
    "  seed=123,\n",
    "  image_size=(img_height, img_width),\n",
    "  batch_size=batch_size)\n",
    "\n",
    "#3 classes are cat/dog/panda\n",
    "#2400 = 3000 * 0.8"
   ]
  },
  {
   "cell_type": "code",
   "execution_count": 11,
   "metadata": {},
   "outputs": [
    {
     "name": "stdout",
     "output_type": "stream",
     "text": [
      "[[  0   0   0   0   0   0   0   0   0   0   0   0   0   0   0   0   0   0\n",
      "    0   0   0   0   0   0   0   0   0   0]\n",
      " [  0   0   0   0   0   0   0   0   0   0   0   0   0   0   0   0   0   0\n",
      "    0   0   0   0   0   0   0   0   0   0]\n",
      " [  0   0   0   0   0   0   0   0   0   0   0   0   0   0   0   0   0   0\n",
      "    0   0   0   0   0   0   0   0   0   0]\n",
      " [  0   0   0   0   0   0   0   0   0   0   0   0   0   0   0   0   0   0\n",
      "    0   0   0   0   0   0   0   0   0   0]\n",
      " [  0   0   0   0   0   0   0   0   0   0   0   0   0   0   0   0   0   0\n",
      "    0   0   0   0   0   0   0   0   0   0]\n",
      " [  0   0   0   0   0   0   0   0   0   0   0   0   3  18  18  18 126 136\n",
      "  175  26 166 255 247 127   0   0   0   0]\n",
      " [  0   0   0   0   0   0   0   0  30  36  94 154 170 253 253 253 253 253\n",
      "  225 172 253 242 195  64   0   0   0   0]\n",
      " [  0   0   0   0   0   0   0  49 238 253 253 253 253 253 253 253 253 251\n",
      "   93  82  82  56  39   0   0   0   0   0]\n",
      " [  0   0   0   0   0   0   0  18 219 253 253 253 253 253 198 182 247 241\n",
      "    0   0   0   0   0   0   0   0   0   0]\n",
      " [  0   0   0   0   0   0   0   0  80 156 107 253 253 205  11   0  43 154\n",
      "    0   0   0   0   0   0   0   0   0   0]\n",
      " [  0   0   0   0   0   0   0   0   0  14   1 154 253  90   0   0   0   0\n",
      "    0   0   0   0   0   0   0   0   0   0]\n",
      " [  0   0   0   0   0   0   0   0   0   0   0 139 253 190   2   0   0   0\n",
      "    0   0   0   0   0   0   0   0   0   0]\n",
      " [  0   0   0   0   0   0   0   0   0   0   0  11 190 253  70   0   0   0\n",
      "    0   0   0   0   0   0   0   0   0   0]\n",
      " [  0   0   0   0   0   0   0   0   0   0   0   0  35 241 225 160 108   1\n",
      "    0   0   0   0   0   0   0   0   0   0]\n",
      " [  0   0   0   0   0   0   0   0   0   0   0   0   0  81 240 253 253 119\n",
      "   25   0   0   0   0   0   0   0   0   0]\n",
      " [  0   0   0   0   0   0   0   0   0   0   0   0   0   0  45 186 253 253\n",
      "  150  27   0   0   0   0   0   0   0   0]\n",
      " [  0   0   0   0   0   0   0   0   0   0   0   0   0   0   0  16  93 252\n",
      "  253 187   0   0   0   0   0   0   0   0]\n",
      " [  0   0   0   0   0   0   0   0   0   0   0   0   0   0   0   0   0 249\n",
      "  253 249  64   0   0   0   0   0   0   0]\n",
      " [  0   0   0   0   0   0   0   0   0   0   0   0   0   0  46 130 183 253\n",
      "  253 207   2   0   0   0   0   0   0   0]\n",
      " [  0   0   0   0   0   0   0   0   0   0   0   0  39 148 229 253 253 253\n",
      "  250 182   0   0   0   0   0   0   0   0]\n",
      " [  0   0   0   0   0   0   0   0   0   0  24 114 221 253 253 253 253 201\n",
      "   78   0   0   0   0   0   0   0   0   0]\n",
      " [  0   0   0   0   0   0   0   0  23  66 213 253 253 253 253 198  81   2\n",
      "    0   0   0   0   0   0   0   0   0   0]\n",
      " [  0   0   0   0   0   0  18 171 219 253 253 253 253 195  80   9   0   0\n",
      "    0   0   0   0   0   0   0   0   0   0]\n",
      " [  0   0   0   0  55 172 226 253 253 253 253 244 133  11   0   0   0   0\n",
      "    0   0   0   0   0   0   0   0   0   0]\n",
      " [  0   0   0   0 136 253 253 253 212 135 132  16   0   0   0   0   0   0\n",
      "    0   0   0   0   0   0   0   0   0   0]\n",
      " [  0   0   0   0   0   0   0   0   0   0   0   0   0   0   0   0   0   0\n",
      "    0   0   0   0   0   0   0   0   0   0]\n",
      " [  0   0   0   0   0   0   0   0   0   0   0   0   0   0   0   0   0   0\n",
      "    0   0   0   0   0   0   0   0   0   0]\n",
      " [  0   0   0   0   0   0   0   0   0   0   0   0   0   0   0   0   0   0\n",
      "    0   0   0   0   0   0   0   0   0   0]]\n"
     ]
    }
   ],
   "source": [
    "from keras.datasets import mnist\n",
    "from PIL import Image as im\n",
    "\n",
    "(X_train, Y_train), (X_test, Y_test) = mnist.load_data()\n",
    "\n",
    "print(X_train[0])\n",
    "\n",
    "img4 = im.fromarray(X_train[0])\n",
    "\n",
    "#img4.show()"
   ]
  }
 ],
 "metadata": {
  "kernelspec": {
   "display_name": "Python 3",
   "language": "python",
   "name": "python3"
  },
  "language_info": {
   "codemirror_mode": {
    "name": "ipython",
    "version": 3
   },
   "file_extension": ".py",
   "mimetype": "text/x-python",
   "name": "python",
   "nbconvert_exporter": "python",
   "pygments_lexer": "ipython3",
   "version": "3.9.6"
  }
 },
 "nbformat": 4,
 "nbformat_minor": 2
}
