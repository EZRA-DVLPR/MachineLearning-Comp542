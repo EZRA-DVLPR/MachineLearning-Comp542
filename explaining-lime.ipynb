{
 "cells": [
  {
   "cell_type": "markdown",
   "id": "bf7fcdd7",
   "metadata": {
    "tags": [
     "papermill-error-cell-tag"
    ]
   },
   "source": [
    "<span style=\"color:red; font-family:Helvetica Neue, Helvetica, Arial, sans-serif; font-size:2em;\">An Exception was encountered at '<a href=\"#papermill-error-cell\">In [7]</a>'.</span>"
   ]
  },
  {
   "cell_type": "code",
   "execution_count": 1,
   "id": "3246857b",
   "metadata": {
    "_cell_guid": "b1076dfc-b9ad-4769-8c92-a6c4dae69d19",
    "_uuid": "8f2839f25d086af736a60e9eeb907d3b93b6e0e5",
    "execution": {
     "iopub.execute_input": "2022-12-02T10:35:15.554006Z",
     "iopub.status.busy": "2022-12-02T10:35:15.553347Z",
     "iopub.status.idle": "2022-12-02T10:35:15.573270Z",
     "shell.execute_reply": "2022-12-02T10:35:15.571859Z"
    },
    "papermill": {
     "duration": 0.033257,
     "end_time": "2022-12-02T10:35:15.576314",
     "exception": false,
     "start_time": "2022-12-02T10:35:15.543057",
     "status": "completed"
    },
    "tags": []
   },
   "outputs": [],
   "source": [
    "# This Python 3 environment comes with many helpful analytics libraries installed\n",
    "# It is defined by the kaggle/python Docker image: https://github.com/kaggle/docker-python\n",
    "# For example, here's several helpful packages to load\n",
    "\n",
    "import numpy as np # linear algebra\n",
    "import pandas as pd # data processing, CSV file I/O (e.g. pd.read_csv)\n",
    "\n",
    "# Input data files are available in the read-only \"../input/\" directory\n",
    "# For example, running this (by clicking run or pressing Shift+Enter) will list all files under the input directory\n",
    "\n",
    "import os\n",
    "# for dirname, _, filenames in os.walk('/kaggle/input'):\n",
    "#     for filename in filenames:\n",
    "#         print(os.path.join(dirname, filename))\n",
    "\n",
    "# You can write up to 20GB to the current directory (/kaggle/working/) that gets preserved as output when you create a version using \"Save & Run All\" \n",
    "# You can also write temporary files to /kaggle/temp/, but they won't be saved outside of the current session"
   ]
  },
  {
   "cell_type": "code",
   "execution_count": 2,
   "id": "528f367d",
   "metadata": {
    "execution": {
     "iopub.execute_input": "2022-12-02T10:35:15.592000Z",
     "iopub.status.busy": "2022-12-02T10:35:15.591217Z",
     "iopub.status.idle": "2022-12-02T10:35:16.725339Z",
     "shell.execute_reply": "2022-12-02T10:35:16.723850Z"
    },
    "papermill": {
     "duration": 1.145021,
     "end_time": "2022-12-02T10:35:16.728258",
     "exception": false,
     "start_time": "2022-12-02T10:35:15.583237",
     "status": "completed"
    },
    "tags": []
   },
   "outputs": [
    {
     "name": "stdout",
     "output_type": "stream",
     "text": [
      "\u001b[0m\u001b[01;34mcats\u001b[0m/  \u001b[01;34mdogs\u001b[0m/  \u001b[01;34mpanda\u001b[0m/\r\n"
     ]
    }
   ],
   "source": [
    "ls /kaggle/input/animal-image-datasetdog-cat-and-panda/animals/animals/"
   ]
  },
  {
   "cell_type": "code",
   "execution_count": 3,
   "id": "5477b0d9",
   "metadata": {
    "execution": {
     "iopub.execute_input": "2022-12-02T10:35:16.743984Z",
     "iopub.status.busy": "2022-12-02T10:35:16.743520Z",
     "iopub.status.idle": "2022-12-02T10:35:24.179842Z",
     "shell.execute_reply": "2022-12-02T10:35:24.178852Z"
    },
    "papermill": {
     "duration": 7.447457,
     "end_time": "2022-12-02T10:35:24.182546",
     "exception": false,
     "start_time": "2022-12-02T10:35:16.735089",
     "status": "completed"
    },
    "tags": []
   },
   "outputs": [],
   "source": [
    "from tensorflow.keras.layers import Conv2D, MaxPooling2D, Flatten, Dense, Dropout, Activation, BatchNormalization\n",
    "from tensorflow.keras.models import Sequential, Model\n",
    "from tensorflow.keras.optimizers import Adam\n",
    "from tensorflow.keras.preprocessing.image import ImageDataGenerator,DirectoryIterator\n",
    "from tensorflow.keras.datasets import mnist\n",
    "import numpy as np\n",
    "import matplotlib.pyplot as plt\n",
    "import matplotlib.image as mpimg\n",
    "from keras import backend as K\n",
    "import os\n",
    "import tensorflow as tf"
   ]
  },
  {
   "cell_type": "code",
   "execution_count": 4,
   "id": "94951e7e",
   "metadata": {
    "execution": {
     "iopub.execute_input": "2022-12-02T10:35:24.198612Z",
     "iopub.status.busy": "2022-12-02T10:35:24.197258Z",
     "iopub.status.idle": "2022-12-02T10:35:41.943550Z",
     "shell.execute_reply": "2022-12-02T10:35:41.942135Z"
    },
    "papermill": {
     "duration": 17.757072,
     "end_time": "2022-12-02T10:35:41.946385",
     "exception": false,
     "start_time": "2022-12-02T10:35:24.189313",
     "status": "completed"
    },
    "tags": []
   },
   "outputs": [
    {
     "name": "stdout",
     "output_type": "stream",
     "text": [
      "Found 2400 images belonging to 3 classes.\n",
      "Found 600 images belonging to 3 classes.\n"
     ]
    },
    {
     "name": "stdout",
     "output_type": "stream",
     "text": [
      "(1920, 100, 100, 3)\n"
     ]
    }
   ],
   "source": [
    "dir_ = os.path.join('/kaggle/input/animal-image-datasetdog-cat-and-panda/animals/animals/')\n",
    "\n",
    "\n",
    "# Generate training and test data with Image Generator\n",
    "train_datagen = ImageDataGenerator(rescale=1/255,\n",
    "                                  validation_split = 0.2)\n",
    "\n",
    "\n",
    "train_generator = train_datagen.flow_from_directory(dir_,target_size=(100, 100),\n",
    "                                                   batch_size= 1920,\n",
    "                                                   class_mode='categorical',\n",
    "                                                   shuffle=False,\n",
    "                                                   subset = 'training')\n",
    "\n",
    "test_generator = train_datagen.flow_from_directory(dir_, target_size = (100,100),\n",
    "                                                          batch_size = 480,\n",
    "                                                          class_mode = 'categorical',\n",
    "                                                          shuffle=False,\n",
    "                                                          subset = 'validation')\n",
    "\n",
    "\n",
    "# Fetch the data and the labels\n",
    "x_train, y_train = next(train_generator)\n",
    "x_test, y_test  = next(test_generator)\n",
    "\n",
    "# Fix the filepath\n",
    "test_filepath = []\n",
    "for filepath in test_generator.filepaths:\n",
    "    filepath = filepath.replace('\\\\', '/')\n",
    "    test_filepath.append(filepath)\n",
    "\n",
    "print(x_train.shape)"
   ]
  },
  {
   "cell_type": "code",
   "execution_count": 5,
   "id": "5c3e821e",
   "metadata": {
    "execution": {
     "iopub.execute_input": "2022-12-02T10:35:41.962109Z",
     "iopub.status.busy": "2022-12-02T10:35:41.961637Z",
     "iopub.status.idle": "2022-12-02T10:35:42.175702Z",
     "shell.execute_reply": "2022-12-02T10:35:42.174440Z"
    },
    "papermill": {
     "duration": 0.225032,
     "end_time": "2022-12-02T10:35:42.178457",
     "exception": false,
     "start_time": "2022-12-02T10:35:41.953425",
     "status": "completed"
    },
    "tags": []
   },
   "outputs": [
    {
     "name": "stderr",
     "output_type": "stream",
     "text": [
      "2022-12-02 10:35:42.018828: I tensorflow/core/common_runtime/process_util.cc:146] Creating new thread pool with default inter op setting: 2. Tune using inter_op_parallelism_threads for best performance.\n"
     ]
    }
   ],
   "source": [
    "model = Sequential([\n",
    "    \n",
    "    # First convolution\n",
    "        Conv2D(16, (3,3), activation='relu', input_shape=(100, 100, 3)),\n",
    "        MaxPooling2D(2, 2),\n",
    "    \n",
    "    # Second convolution\n",
    "        Conv2D(32, (3,3), activation='relu'),\n",
    "        MaxPooling2D(2,2),\n",
    "    \n",
    "    # Third convolution\n",
    "        Conv2D(64, (3,3), activation='relu'),\n",
    "        MaxPooling2D(2,2),\n",
    "    \n",
    "        Flatten(),\n",
    "    \n",
    "    # Dense hidden layer\n",
    "        Dense(512, activation='relu'),\n",
    "        Dropout(0.2),\n",
    "    \n",
    "    # Output neuron. \n",
    "        Dense(3, activation='softmax') \n",
    "])"
   ]
  },
  {
   "cell_type": "code",
   "execution_count": 6,
   "id": "90e8d3bb",
   "metadata": {
    "execution": {
     "iopub.execute_input": "2022-12-02T10:35:42.193916Z",
     "iopub.status.busy": "2022-12-02T10:35:42.193475Z",
     "iopub.status.idle": "2022-12-02T10:36:10.054296Z",
     "shell.execute_reply": "2022-12-02T10:36:10.052674Z"
    },
    "papermill": {
     "duration": 27.871973,
     "end_time": "2022-12-02T10:36:10.057183",
     "exception": false,
     "start_time": "2022-12-02T10:35:42.185210",
     "status": "completed"
    },
    "tags": []
   },
   "outputs": [
    {
     "name": "stderr",
     "output_type": "stream",
     "text": [
      "2022-12-02 10:35:51.174579: I tensorflow/compiler/mlir/mlir_graph_optimization_pass.cc:185] None of the MLIR Optimization Passes are enabled (registered 2)\n"
     ]
    },
    {
     "name": "stdout",
     "output_type": "stream",
     "text": [
      "\r",
      "1/2 [==============>...............] - ETA: 15s - loss: 1.1208 - accuracy: 0.2547"
     ]
    },
    {
     "name": "stdout",
     "output_type": "stream",
     "text": [
      "\b\b\b\b\b\b\b\b\b\b\b\b\b\b\b\b\b\b\b\b\b\b\b\b\b\b\b\b\b\b\b\b\b\b\b\b\b\b\b\b\b\b\b\b\b\b\b\b\b\b\b\b\b\b\b\b\b\b\b\b\b\b\b\b\b\b\b\b\b\b\b\b\b\b\b\b\b\b\b\b\b\r",
      "2/2 [==============================] - ETA: 0s - loss: 2.1349 - accuracy: 0.2037 "
     ]
    },
    {
     "name": "stdout",
     "output_type": "stream",
     "text": [
      "\b\b\b\b\b\b\b\b\b\b\b\b\b\b\b\b\b\b\b\b\b\b\b\b\b\b\b\b\b\b\b\b\b\b\b\b\b\b\b\b\b\b\b\b\b\b\b\b\b\b\b\b\b\b\b\b\b\b\b\b\b\b\b\b\b\b\b\b\b\b\b\b\b\b\b\b\b\b\b\b\r",
      "2/2 [==============================] - 19s 3s/step - loss: 2.1349 - accuracy: 0.2037\n"
     ]
    }
   ],
   "source": [
    "model.compile(optimizer='adam', loss='categorical_crossentropy', metrics=['accuracy'])\n",
    "\n",
    "history = model.fit(\n",
    "      train_generator,  \n",
    "      epochs=1,\n",
    "      verbose=1)"
   ]
  },
  {
   "cell_type": "markdown",
   "id": "f8653bf8",
   "metadata": {
    "tags": [
     "papermill-error-cell-tag"
    ]
   },
   "source": [
    "<span id=\"papermill-error-cell\" style=\"color:red; font-family:Helvetica Neue, Helvetica, Arial, sans-serif; font-size:2em;\">Execution using papermill encountered an exception here and stopped:</span>"
   ]
  },
  {
   "cell_type": "code",
   "execution_count": 7,
   "id": "4978a9c5",
   "metadata": {
    "execution": {
     "iopub.execute_input": "2022-12-02T10:36:10.075836Z",
     "iopub.status.busy": "2022-12-02T10:36:10.075401Z",
     "iopub.status.idle": "2022-12-02T10:36:10.846594Z",
     "shell.execute_reply": "2022-12-02T10:36:10.844863Z"
    },
    "papermill": {
     "duration": 0.784927,
     "end_time": "2022-12-02T10:36:10.849306",
     "exception": true,
     "start_time": "2022-12-02T10:36:10.064379",
     "status": "failed"
    },
    "tags": []
   },
   "outputs": [
    {
     "ename": "NameError",
     "evalue": "name 'url' is not defined",
     "output_type": "error",
     "traceback": [
      "\u001b[0;31m---------------------------------------------------------------------------\u001b[0m",
      "\u001b[0;31mNameError\u001b[0m                                 Traceback (most recent call last)",
      "\u001b[0;32m/tmp/ipykernel_19/3260048819.py\u001b[0m in \u001b[0;36m<module>\u001b[0;34m\u001b[0m\n\u001b[1;32m     16\u001b[0m     \u001b[0;32mreturn\u001b[0m \u001b[0mimg\u001b[0m\u001b[0;34m\u001b[0m\u001b[0;34m\u001b[0m\u001b[0m\n\u001b[1;32m     17\u001b[0m \u001b[0;34m\u001b[0m\u001b[0m\n\u001b[0;32m---> 18\u001b[0;31m \u001b[0mimages\u001b[0m \u001b[0;34m=\u001b[0m \u001b[0mread_and_transform_img\u001b[0m\u001b[0;34m(\u001b[0m\u001b[0murl\u001b[0m\u001b[0;34m)\u001b[0m\u001b[0;34m\u001b[0m\u001b[0;34m\u001b[0m\u001b[0m\n\u001b[0m\u001b[1;32m     19\u001b[0m \u001b[0;34m\u001b[0m\u001b[0m\n\u001b[1;32m     20\u001b[0m \u001b[0mpreds\u001b[0m \u001b[0;34m=\u001b[0m \u001b[0mmodel\u001b[0m\u001b[0;34m.\u001b[0m\u001b[0mpredict\u001b[0m\u001b[0;34m(\u001b[0m\u001b[0mimages\u001b[0m\u001b[0;34m)\u001b[0m\u001b[0;34m\u001b[0m\u001b[0;34m\u001b[0m\u001b[0m\n",
      "\u001b[0;31mNameError\u001b[0m: name 'url' is not defined"
     ]
    }
   ],
   "source": [
    "import skimage\n",
    "from skimage import io\n",
    "from tensorflow.keras.preprocessing import image\n",
    "\n",
    "# url = 'https://raw.githubusercontent.com/marcellnusruben/All_things_medium/main/Lime/panda_00024.jpg'\n",
    "\n",
    "def read_and_transform_img(url):\n",
    "\n",
    "#     img = skimage.io.imread(url)\n",
    "    img = x_test[0]\n",
    "    img = skimage.transform.resize(img, (100,100))\n",
    "    \n",
    "    img = image.img_to_array(img)\n",
    "    img = np.expand_dims(img, axis=0)\n",
    "\n",
    "    return img\n",
    "\n",
    "images = read_and_transform_img(url)\n",
    "\n",
    "preds = model.predict(images)\n",
    "prediction = np.argmax(preds)\n",
    "pct = np.max(preds)\n",
    "\n",
    "if prediction == 0:\n",
    "    print('It\\'s a cat!')\n",
    "elif prediction == 1:\n",
    "    print('It\\'s a dog!')\n",
    "else:\n",
    "    print('It\\'s a panda!')\n",
    "\n",
    "print(pct)"
   ]
  },
  {
   "cell_type": "code",
   "execution_count": null,
   "id": "cb702bf5",
   "metadata": {
    "execution": {
     "iopub.execute_input": "2022-12-02T09:42:00.351684Z",
     "iopub.status.busy": "2022-12-02T09:42:00.351207Z",
     "iopub.status.idle": "2022-12-02T09:42:12.538784Z",
     "shell.execute_reply": "2022-12-02T09:42:12.537287Z",
     "shell.execute_reply.started": "2022-12-02T09:42:00.351639Z"
    },
    "papermill": {
     "duration": null,
     "end_time": null,
     "exception": null,
     "start_time": null,
     "status": "pending"
    },
    "tags": []
   },
   "outputs": [],
   "source": [
    "!pip install lime"
   ]
  },
  {
   "cell_type": "code",
   "execution_count": null,
   "id": "0591e9ea",
   "metadata": {
    "execution": {
     "iopub.execute_input": "2022-12-02T09:42:12.541976Z",
     "iopub.status.busy": "2022-12-02T09:42:12.541410Z",
     "iopub.status.idle": "2022-12-02T09:42:12.548584Z",
     "shell.execute_reply": "2022-12-02T09:42:12.547297Z",
     "shell.execute_reply.started": "2022-12-02T09:42:12.541924Z"
    },
    "papermill": {
     "duration": null,
     "end_time": null,
     "exception": null,
     "start_time": null,
     "status": "pending"
    },
    "tags": []
   },
   "outputs": [],
   "source": [
    "from lime import lime_image\n",
    "\n",
    "explainer = lime_image.LimeImageExplainer()"
   ]
  },
  {
   "cell_type": "code",
   "execution_count": null,
   "id": "1ca0a04a",
   "metadata": {
    "execution": {
     "iopub.execute_input": "2022-12-02T09:42:12.552624Z",
     "iopub.status.busy": "2022-12-02T09:42:12.552265Z",
     "iopub.status.idle": "2022-12-02T09:42:20.946033Z",
     "shell.execute_reply": "2022-12-02T09:42:20.944193Z",
     "shell.execute_reply.started": "2022-12-02T09:42:12.552595Z"
    },
    "papermill": {
     "duration": null,
     "end_time": null,
     "exception": null,
     "start_time": null,
     "status": "pending"
    },
    "tags": []
   },
   "outputs": [],
   "source": [
    "explanation = explainer.explain_instance(images[0].astype('double'), model.predict,  \n",
    "                                         top_labels=3, hide_color=0, num_samples=1000)"
   ]
  },
  {
   "cell_type": "code",
   "execution_count": null,
   "id": "7853e82c",
   "metadata": {
    "execution": {
     "iopub.execute_input": "2022-12-02T09:42:20.950066Z",
     "iopub.status.busy": "2022-12-02T09:42:20.948379Z",
     "iopub.status.idle": "2022-12-02T09:42:21.271668Z",
     "shell.execute_reply": "2022-12-02T09:42:21.270643Z",
     "shell.execute_reply.started": "2022-12-02T09:42:20.949994Z"
    },
    "papermill": {
     "duration": null,
     "end_time": null,
     "exception": null,
     "start_time": null,
     "status": "pending"
    },
    "tags": []
   },
   "outputs": [],
   "source": [
    "from skimage.segmentation import mark_boundaries\n",
    "\n",
    "temp_1, mask_1 = explanation.get_image_and_mask(explanation.top_labels[0], positive_only=True, num_features=5, hide_rest=True)\n",
    "temp_2, mask_2 = explanation.get_image_and_mask(explanation.top_labels[0], positive_only=False, num_features=10, hide_rest=False)\n",
    "\n",
    "fig, (ax1, ax2) = plt.subplots(1, 2, figsize=(15,15))\n",
    "ax1.imshow(mark_boundaries(temp_1, mask_1))\n",
    "ax2.imshow(mark_boundaries(temp_2, mask_2))\n",
    "ax1.axis('off')\n",
    "ax2.axis('off')"
   ]
  },
  {
   "cell_type": "code",
   "execution_count": null,
   "id": "6d6dc9bb",
   "metadata": {
    "execution": {
     "iopub.execute_input": "2022-12-02T09:42:21.273377Z",
     "iopub.status.busy": "2022-12-02T09:42:21.273025Z",
     "iopub.status.idle": "2022-12-02T09:42:25.018816Z",
     "shell.execute_reply": "2022-12-02T09:42:25.016452Z",
     "shell.execute_reply.started": "2022-12-02T09:42:21.273343Z"
    },
    "papermill": {
     "duration": null,
     "end_time": null,
     "exception": null,
     "start_time": null,
     "status": "pending"
    },
    "tags": []
   },
   "outputs": [],
   "source": [
    "from tensorflow.keras.applications import InceptionV3\n",
    "inet_model = InceptionV3()"
   ]
  },
  {
   "cell_type": "code",
   "execution_count": null,
   "id": "b779bcee",
   "metadata": {
    "execution": {
     "iopub.execute_input": "2022-12-02T09:42:25.021001Z",
     "iopub.status.busy": "2022-12-02T09:42:25.020603Z",
     "iopub.status.idle": "2022-12-02T09:42:27.538981Z",
     "shell.execute_reply": "2022-12-02T09:42:27.537987Z",
     "shell.execute_reply.started": "2022-12-02T09:42:25.020966Z"
    },
    "papermill": {
     "duration": null,
     "end_time": null,
     "exception": null,
     "start_time": null,
     "status": "pending"
    },
    "tags": []
   },
   "outputs": [],
   "source": [
    "from tensorflow.keras.applications.imagenet_utils import decode_predictions\n",
    "\n",
    "def transform_img_fn_ori(url):\n",
    "    \n",
    "#     img = skimage.io.imread(url)\n",
    "    img = x_test[0]\n",
    "    img = skimage.transform.resize(img, (299,299))\n",
    "    img = (img - 0.5)*2\n",
    "    img = np.expand_dims(img, axis=0)\n",
    "    preds = inet_model.predict(img)\n",
    "    for i in decode_predictions(preds)[0]:\n",
    "        print(i)\n",
    "    return img\n",
    "\n",
    "images_inc_im = transform_img_fn_ori(url)"
   ]
  },
  {
   "cell_type": "code",
   "execution_count": null,
   "id": "c09c5fc0",
   "metadata": {
    "execution": {
     "iopub.execute_input": "2022-12-02T09:44:44.984052Z",
     "iopub.status.busy": "2022-12-02T09:44:44.982963Z",
     "iopub.status.idle": "2022-12-02T09:46:47.609963Z",
     "shell.execute_reply": "2022-12-02T09:46:47.608997Z",
     "shell.execute_reply.started": "2022-12-02T09:44:44.984010Z"
    },
    "papermill": {
     "duration": null,
     "end_time": null,
     "exception": null,
     "start_time": null,
     "status": "pending"
    },
    "tags": []
   },
   "outputs": [],
   "source": [
    "explanation= explainer.explain_instance(images_inc_im[0].astype('double'), inet_model.predict, top_labels=3, num_samples=1000)\n",
    " \n",
    "temp_1, mask_1 = explanation.get_image_and_mask(explanation.top_labels[0], positive_only=True, num_features=5, hide_rest=True)\n",
    "temp_2, mask_2 = explanation.get_image_and_mask(explanation.top_labels[0], positive_only=False, num_features=10, hide_rest=False)\n",
    "\n",
    "fig, (ax1, ax2) = plt.subplots(1, 2, figsize=(15,15))\n",
    "ax1.imshow(mark_boundaries(temp_1, mask_1))\n",
    "ax2.imshow(mark_boundaries(temp_2, mask_2))\n",
    "ax1.axis('off')\n",
    "ax2.axis('off')"
   ]
  },
  {
   "cell_type": "code",
   "execution_count": null,
   "id": "7c6493d9",
   "metadata": {
    "execution": {
     "iopub.execute_input": "2022-12-02T09:52:19.497771Z",
     "iopub.status.busy": "2022-12-02T09:52:19.497371Z",
     "iopub.status.idle": "2022-12-02T09:52:19.598674Z",
     "shell.execute_reply": "2022-12-02T09:52:19.597425Z",
     "shell.execute_reply.started": "2022-12-02T09:52:19.497739Z"
    },
    "papermill": {
     "duration": null,
     "end_time": null,
     "exception": null,
     "start_time": null,
     "status": "pending"
    },
    "tags": []
   },
   "outputs": [],
   "source": [
    "from skimage.segmentation import quickshift\n",
    "segments = quickshift(x_test[0], kernel_size=3, max_dist=6, ratio=0.5)\n",
    "segments.shape"
   ]
  },
  {
   "cell_type": "code",
   "execution_count": null,
   "id": "57d7f174",
   "metadata": {
    "execution": {
     "iopub.execute_input": "2022-12-02T09:52:19.647687Z",
     "iopub.status.busy": "2022-12-02T09:52:19.647294Z",
     "iopub.status.idle": "2022-12-02T09:52:19.865364Z",
     "shell.execute_reply": "2022-12-02T09:52:19.864260Z",
     "shell.execute_reply.started": "2022-12-02T09:52:19.647655Z"
    },
    "papermill": {
     "duration": null,
     "end_time": null,
     "exception": null,
     "start_time": null,
     "status": "pending"
    },
    "tags": []
   },
   "outputs": [],
   "source": [
    "plt.imshow(segments)"
   ]
  },
  {
   "cell_type": "code",
   "execution_count": null,
   "id": "1e0b3521",
   "metadata": {
    "execution": {
     "iopub.execute_input": "2022-12-02T09:56:27.330379Z",
     "iopub.status.busy": "2022-12-02T09:56:27.329983Z",
     "iopub.status.idle": "2022-12-02T09:56:27.338724Z",
     "shell.execute_reply": "2022-12-02T09:56:27.337536Z",
     "shell.execute_reply.started": "2022-12-02T09:56:27.330347Z"
    },
    "papermill": {
     "duration": null,
     "end_time": null,
     "exception": null,
     "start_time": null,
     "status": "pending"
    },
    "tags": []
   },
   "outputs": [],
   "source": [
    "num_samples = 1000\n",
    "n_features = np.unique(segments).shape[0]\n",
    "n_features"
   ]
  },
  {
   "cell_type": "code",
   "execution_count": null,
   "id": "3996c0fc",
   "metadata": {
    "execution": {
     "iopub.execute_input": "2022-12-02T10:01:29.662644Z",
     "iopub.status.busy": "2022-12-02T10:01:29.661938Z",
     "iopub.status.idle": "2022-12-02T10:01:29.669168Z",
     "shell.execute_reply": "2022-12-02T10:01:29.667859Z",
     "shell.execute_reply.started": "2022-12-02T10:01:29.662568Z"
    },
    "papermill": {
     "duration": null,
     "end_time": null,
     "exception": null,
     "start_time": null,
     "status": "pending"
    },
    "tags": []
   },
   "outputs": [],
   "source": [
    "from sklearn.utils import check_random_state\n",
    "data = check_random_state(None).randint(0, 2, num_samples * n_features).reshape((num_samples, n_features))"
   ]
  },
  {
   "cell_type": "code",
   "execution_count": null,
   "id": "6d028137",
   "metadata": {
    "execution": {
     "iopub.execute_input": "2022-12-02T10:02:57.468849Z",
     "iopub.status.busy": "2022-12-02T10:02:57.468430Z",
     "iopub.status.idle": "2022-12-02T10:02:57.691674Z",
     "shell.execute_reply": "2022-12-02T10:02:57.690814Z",
     "shell.execute_reply.started": "2022-12-02T10:02:57.468817Z"
    },
    "papermill": {
     "duration": null,
     "end_time": null,
     "exception": null,
     "start_time": null,
     "status": "pending"
    },
    "tags": []
   },
   "outputs": [],
   "source": [
    "plt.figure(figsize=(15,15))\n",
    "plt.imshow(data[:20], cmap=\"gray\")"
   ]
  },
  {
   "cell_type": "code",
   "execution_count": null,
   "id": "de5675f7",
   "metadata": {
    "execution": {
     "iopub.execute_input": "2022-12-02T09:58:55.711931Z",
     "iopub.status.busy": "2022-12-02T09:58:55.711181Z",
     "iopub.status.idle": "2022-12-02T09:58:55.716973Z",
     "shell.execute_reply": "2022-12-02T09:58:55.715837Z",
     "shell.execute_reply.started": "2022-12-02T09:58:55.711891Z"
    },
    "papermill": {
     "duration": null,
     "end_time": null,
     "exception": null,
     "start_time": null,
     "status": "pending"
    },
    "tags": []
   },
   "outputs": [],
   "source": [
    "image = x_test[0]\n",
    "fudged_image = x_test[0].copy()"
   ]
  },
  {
   "cell_type": "code",
   "execution_count": null,
   "id": "ab2e5ac8",
   "metadata": {
    "execution": {
     "iopub.execute_input": "2022-12-02T09:59:09.201422Z",
     "iopub.status.busy": "2022-12-02T09:59:09.201011Z",
     "iopub.status.idle": "2022-12-02T09:59:09.232444Z",
     "shell.execute_reply": "2022-12-02T09:59:09.231508Z",
     "shell.execute_reply.started": "2022-12-02T09:59:09.201387Z"
    },
    "papermill": {
     "duration": null,
     "end_time": null,
     "exception": null,
     "start_time": null,
     "status": "pending"
    },
    "tags": []
   },
   "outputs": [],
   "source": [
    "for x in np.unique(segments):\n",
    "    fudged_image[segments == x] = (\n",
    "        np.mean(image[segments == x][:, 0]),\n",
    "        np.mean(image[segments == x][:, 1]),\n",
    "        np.mean(image[segments == x][:, 2]))"
   ]
  },
  {
   "cell_type": "code",
   "execution_count": null,
   "id": "ceec2bfc",
   "metadata": {
    "execution": {
     "iopub.execute_input": "2022-12-02T09:59:25.239749Z",
     "iopub.status.busy": "2022-12-02T09:59:25.238709Z",
     "iopub.status.idle": "2022-12-02T09:59:25.454988Z",
     "shell.execute_reply": "2022-12-02T09:59:25.453594Z",
     "shell.execute_reply.started": "2022-12-02T09:59:25.239708Z"
    },
    "papermill": {
     "duration": null,
     "end_time": null,
     "exception": null,
     "start_time": null,
     "status": "pending"
    },
    "tags": []
   },
   "outputs": [],
   "source": [
    "plt.imshow(fudged_image)"
   ]
  },
  {
   "cell_type": "code",
   "execution_count": null,
   "id": "cac280cc",
   "metadata": {
    "execution": {
     "iopub.execute_input": "2022-12-02T10:00:09.650963Z",
     "iopub.status.busy": "2022-12-02T10:00:09.650245Z",
     "iopub.status.idle": "2022-12-02T10:00:09.658566Z",
     "shell.execute_reply": "2022-12-02T10:00:09.657553Z",
     "shell.execute_reply.started": "2022-12-02T10:00:09.650927Z"
    },
    "papermill": {
     "duration": null,
     "end_time": null,
     "exception": null,
     "start_time": null,
     "status": "pending"
    },
    "tags": []
   },
   "outputs": [],
   "source": [
    "fudged_image"
   ]
  },
  {
   "cell_type": "code",
   "execution_count": null,
   "id": "f63f52ad",
   "metadata": {
    "execution": {
     "iopub.execute_input": "2022-12-02T09:59:58.518278Z",
     "iopub.status.busy": "2022-12-02T09:59:58.517036Z",
     "iopub.status.idle": "2022-12-02T09:59:58.531840Z",
     "shell.execute_reply": "2022-12-02T09:59:58.530914Z",
     "shell.execute_reply.started": "2022-12-02T09:59:58.518229Z"
    },
    "papermill": {
     "duration": null,
     "end_time": null,
     "exception": null,
     "start_time": null,
     "status": "pending"
    },
    "tags": []
   },
   "outputs": [],
   "source": [
    "np.unique(fudged_image)"
   ]
  },
  {
   "cell_type": "code",
   "execution_count": null,
   "id": "0dae666e",
   "metadata": {
    "papermill": {
     "duration": null,
     "end_time": null,
     "exception": null,
     "start_time": null,
     "status": "pending"
    },
    "tags": []
   },
   "outputs": [],
   "source": []
  }
 ],
 "metadata": {
  "kernelspec": {
   "display_name": "Python 3",
   "language": "python",
   "name": "python3"
  },
  "language_info": {
   "codemirror_mode": {
    "name": "ipython",
    "version": 3
   },
   "file_extension": ".py",
   "mimetype": "text/x-python",
   "name": "python",
   "nbconvert_exporter": "python",
   "pygments_lexer": "ipython3",
   "version": "3.7.12"
  },
  "papermill": {
   "default_parameters": {},
   "duration": 68.227594,
   "end_time": "2022-12-02T10:36:14.734399",
   "environment_variables": {},
   "exception": true,
   "input_path": "__notebook__.ipynb",
   "output_path": "__notebook__.ipynb",
   "parameters": {},
   "start_time": "2022-12-02T10:35:06.506805",
   "version": "2.3.4"
  }
 },
 "nbformat": 4,
 "nbformat_minor": 5
}