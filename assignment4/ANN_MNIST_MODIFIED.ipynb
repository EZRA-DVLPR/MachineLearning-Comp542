{
 "cells": [
  {
   "cell_type": "code",
   "execution_count": 1,
   "metadata": {
    "id": "GcAOYYP1RdUc"
   },
   "outputs": [
    {
     "name": "stderr",
     "output_type": "stream",
     "text": [
      "2023-12-05 23:32:34.202310: I tensorflow/core/platform/cpu_feature_guard.cc:182] This TensorFlow binary is optimized to use available CPU instructions in performance-critical operations.\n",
      "To enable the following instructions: AVX2 FMA, in other operations, rebuild TensorFlow with the appropriate compiler flags.\n"
     ]
    }
   ],
   "source": [
    "from keras.datasets import mnist     # Get MNIST dataset from Keras\n",
    "from keras.models import Sequential  # Model type to be used\n",
    "from keras.layers import Dense, Dropout, Activation # Types of layers for the model\n",
    "from keras.utils import to_categorical  # for converting array of labeled data to one-hot vector. \n",
    "\n",
    "import numpy as np                   # advanced math library"
   ]
  },
  {
   "cell_type": "code",
   "execution_count": 2,
   "metadata": {
    "id": "ccUnPEtYSTY5"
   },
   "outputs": [],
   "source": [
    "# 60,000 for training, 10000 for test\n",
    "(X_train, y_train), (X_test, y_test) = mnist.load_data()"
   ]
  },
  {
   "cell_type": "code",
   "execution_count": 3,
   "metadata": {
    "id": "tWm-xxw4TZ_1"
   },
   "outputs": [],
   "source": [
    "# Reshape 28*28 matrices into vectors of length 784 (28 * 28 = 784)\n",
    "X_train = X_train.reshape(60000, 784, 1) \n",
    "X_test = X_test.reshape(10000, 784, 1)\n",
    "\n",
    "# change integers to 32-bit floating point numbers\n",
    "X_train = X_train.astype('float32')  \n",
    "X_test = X_test.astype('float32')\n",
    "\n",
    "#OHE on y\n",
    "Y_train = to_categorical(y_train)\n",
    "Y_test = to_categorical(y_test)\n",
    "\n",
    "# normalize the inputs to be in the range [0-1] instead of [0-255].\n",
    "X_train /= 255                       \n",
    "X_test /= 255"
   ]
  },
  {
   "cell_type": "code",
   "execution_count": 4,
   "metadata": {
    "colab": {
     "base_uri": "https://localhost:8080/"
    },
    "id": "b4QSxY6eWev3",
    "outputId": "8042bce4-0718-4cf6-8edc-737016419d00"
   },
   "outputs": [
    {
     "name": "stdout",
     "output_type": "stream",
     "text": [
      "Model: \"sequential\"\n",
      "_________________________________________________________________\n",
      " Layer (type)                Output Shape              Param #   \n",
      "=================================================================\n",
      " dense (Dense)               (None, 500)               392500    \n",
      "                                                                 \n",
      " activation (Activation)     (None, 500)               0         \n",
      "                                                                 \n",
      " dropout (Dropout)           (None, 500)               0         \n",
      "                                                                 \n",
      " dense_1 (Dense)             (None, 500)               250500    \n",
      "                                                                 \n",
      " activation_1 (Activation)   (None, 500)               0         \n",
      "                                                                 \n",
      " dropout_1 (Dropout)         (None, 500)               0         \n",
      "                                                                 \n",
      " dense_2 (Dense)             (None, 10)                5010      \n",
      "                                                                 \n",
      " activation_2 (Activation)   (None, 10)                0         \n",
      "                                                                 \n",
      "=================================================================\n",
      "Total params: 648010 (2.47 MB)\n",
      "Trainable params: 648010 (2.47 MB)\n",
      "Non-trainable params: 0 (0.00 Byte)\n",
      "_________________________________________________________________\n"
     ]
    }
   ],
   "source": [
    "# model is a linear stack of layers\n",
    "model = Sequential()\n",
    "# The first hidden layer has 500 neurons\n",
    "model.add(Dense(500, input_shape=(784,))) # 784 is the length of vector\n",
    "model.add(Activation('relu'))\n",
    "model.add(Dropout(0.2)) # protect the model from overfitting \n",
    "# The second hidden layer has 500 neurons, too\n",
    "model.add(Dense(500))\n",
    "model.add(Activation('relu'))\n",
    "model.add(Dropout(0.2))\n",
    "# The final layer is output that has 10 classes\n",
    "model.add(Dense(10))\n",
    "model.add(Activation('softmax'))\n",
    "\n",
    "# Summarize the built model\n",
    "model.summary()"
   ]
  },
  {
   "cell_type": "code",
   "execution_count": 5,
   "metadata": {
    "id": "LvTX1GGzisgg"
   },
   "outputs": [],
   "source": [
    "# categorical cross-entropy is a loss function to comparing two probability distributions.\n",
    "# use the Adam optimizer for learning\n",
    "# The optimizer helps determine how quickly the model learns through gradient descent. \n",
    "\n",
    "#can also print out other metrics too: eg. F1Score\n",
    "from keras import metrics\n",
    "\n",
    "model.compile(loss='categorical_crossentropy', optimizer='adam', metrics=['accuracy', metrics.F1Score()])"
   ]
  },
  {
   "cell_type": "code",
   "execution_count": 6,
   "metadata": {
    "colab": {
     "base_uri": "https://localhost:8080/"
    },
    "id": "ukFJ_OMAi2g7",
    "outputId": "7c92a26a-c451-4440-afe0-3496aee2d380"
   },
   "outputs": [
    {
     "name": "stdout",
     "output_type": "stream",
     "text": [
      "Epoch 1/5\n",
      "469/469 [==============================] - 4s 6ms/step - loss: 0.2540 - accuracy: 0.9233 - f1_score: 0.9225\n",
      "Epoch 2/5\n",
      "469/469 [==============================] - 3s 6ms/step - loss: 0.1002 - accuracy: 0.9687 - f1_score: 0.9685\n",
      "Epoch 3/5\n",
      "469/469 [==============================] - 3s 6ms/step - loss: 0.0744 - accuracy: 0.9766 - f1_score: 0.9765\n",
      "Epoch 4/5\n",
      "469/469 [==============================] - 3s 6ms/step - loss: 0.0555 - accuracy: 0.9820 - f1_score: 0.9818\n",
      "Epoch 5/5\n",
      "469/469 [==============================] - 3s 6ms/step - loss: 0.0470 - accuracy: 0.9851 - f1_score: 0.9850\n"
     ]
    },
    {
     "data": {
      "text/plain": [
       "<keras.src.callbacks.History at 0x1365b6310>"
      ]
     },
     "execution_count": 6,
     "metadata": {},
     "output_type": "execute_result"
    }
   ],
   "source": [
    "#Training\n",
    "model.fit(X_train, Y_train, batch_size=128, epochs=5, verbose=1)"
   ]
  },
  {
   "cell_type": "code",
   "execution_count": 7,
   "metadata": {
    "colab": {
     "base_uri": "https://localhost:8080/"
    },
    "id": "-1SiZZB3jjdb",
    "outputId": "5b38473a-96a1-4e1e-81e1-aaa7687f1e5e"
   },
   "outputs": [
    {
     "name": "stdout",
     "output_type": "stream",
     "text": [
      "313/313 [==============================] - 1s 2ms/step - loss: 0.0614 - accuracy: 0.9814 - f1_score: 0.9813\n",
      "Test score: 0.06137816607952118\n",
      "Test accuracy: 0.9814000129699707\n",
      "Test F1-Score: 0.9902999\n"
     ]
    }
   ],
   "source": [
    "#Evaluation\n",
    "score = model.evaluate(X_test, Y_test)\n",
    "print('Test score:', score[0])\n",
    "print('Test accuracy:', score[1])\n",
    "print('Test F1-Score:', np.max(score[2]))"
   ]
  },
  {
   "cell_type": "code",
   "execution_count": 8,
   "metadata": {},
   "outputs": [
    {
     "name": "stdout",
     "output_type": "stream",
     "text": [
      "[0.06137816607952118, 0.9814000129699707, array([0.9872644 , 0.9902999 , 0.98295176, 0.9792285 , 0.9810548 ,\n",
      "       0.9815126 , 0.9844236 , 0.9809291 , 0.97344226, 0.97187954],\n",
      "      dtype=float32)]\n"
     ]
    }
   ],
   "source": [
    "print(score)"
   ]
  }
 ],
 "metadata": {
  "colab": {
   "provenance": []
  },
  "kernelspec": {
   "display_name": "Python 3 (ipykernel)",
   "language": "python",
   "name": "python3"
  },
  "language_info": {
   "codemirror_mode": {
    "name": "ipython",
    "version": 3
   },
   "file_extension": ".py",
   "mimetype": "text/x-python",
   "name": "python",
   "nbconvert_exporter": "python",
   "pygments_lexer": "ipython3",
   "version": "3.9.6"
  }
 },
 "nbformat": 4,
 "nbformat_minor": 1
}
