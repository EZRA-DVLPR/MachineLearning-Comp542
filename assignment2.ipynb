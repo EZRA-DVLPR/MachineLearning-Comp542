{
 "cells": [
  {
   "cell_type": "markdown",
   "metadata": {},
   "source": [
    "# Machine Learning Assignment 2\n",
    "## Isaiah Martinez\n",
    "### Mrs. Lord\n",
    "### 9/30/23"
   ]
  },
  {
   "cell_type": "markdown",
   "metadata": {},
   "source": [
    "## A) How many tuples does the Iris data set have?"
   ]
  },
  {
   "cell_type": "code",
   "execution_count": null,
   "metadata": {},
   "outputs": [],
   "source": [
    "#First I did was go into the csv file and insert a row at the beginning\n",
    "#containing the labels for each of the columns.\n",
    "#the labels are given within the `iris.names` file, section 7 titled\n",
    "#`Attribute information`\n",
    "\n",
    "import pandas as pd\n",
    "\n",
    "df = pd.read_csv('iris.csv')\n",
    "index = df.index\n",
    "print(\"Number of rows:\", len(index))"
   ]
  },
  {
   "cell_type": "markdown",
   "metadata": {},
   "source": [
    "## B) How many features does the Iris data set have?"
   ]
  },
  {
   "cell_type": "code",
   "execution_count": null,
   "metadata": {},
   "outputs": [],
   "source": [
    "print(\"Number of columns:\", len(df.columns))"
   ]
  },
  {
   "cell_type": "markdown",
   "metadata": {},
   "source": [
    "## C) What's the data type for each feature?"
   ]
  },
  {
   "cell_type": "code",
   "execution_count": null,
   "metadata": {},
   "outputs": [],
   "source": [
    "df.dtypes"
   ]
  },
  {
   "cell_type": "markdown",
   "metadata": {},
   "source": [
    "## D) How many of each species do you have?"
   ]
  },
  {
   "cell_type": "code",
   "execution_count": null,
   "metadata": {},
   "outputs": [],
   "source": [
    "print(\"There are\", df['class'].nunique(), \"unique species/classes of flower:\")\n",
    "\n",
    "#List out all unique classes\n",
    "print(df[\"class\"].unique(), \"\\n\")\n",
    "\n",
    "print(\"Number of flowers for Iris-setosa:\", len(df[df[\"class\"]==\"Iris-setosa\"]))\n",
    "print(\"Number of flowers for Iris-versicolor:\", len(df[df[\"class\"]==\"Iris-versicolor\"]))\n",
    "print(\"Number of flowers for Iris-virginica:\", len(df[df[\"class\"]==\"Iris-virginica\"]))"
   ]
  },
  {
   "cell_type": "markdown",
   "metadata": {},
   "source": [
    "## E) What's the mean, median, quantiles and range (max-min) for each petal and sepal measurements?"
   ]
  },
  {
   "cell_type": "code",
   "execution_count": null,
   "metadata": {},
   "outputs": [],
   "source": [
    "#instead of listing all of the given information from describe,\n",
    "#I went ahead and listed the order of the desired attributes\n",
    "\n",
    "df.describe().loc[['mean', '50%', '25%', '75%', 'min', 'max']]\n",
    "\n",
    "#Note: that 50% quantile is the median\n",
    "\n",
    "#Note:the `class` feature doesnt have numerical values\n",
    "#thus it is omitted from the printed description"
   ]
  },
  {
   "cell_type": "markdown",
   "metadata": {},
   "source": [
    "## F) Make a scatter plot of sepal_length vs sepal_width"
   ]
  },
  {
   "cell_type": "code",
   "execution_count": null,
   "metadata": {},
   "outputs": [],
   "source": [
    "#We are using matplotlib.pyplot to allow us to make a scatterplot of\n",
    "#sepal length vs width\n",
    "\n",
    "import matplotlib.pyplot as plt\n",
    "\n",
    "#sepal_width will be along x-axis\n",
    "#sepal_length will be along y-axis\n",
    "\n",
    "plt.scatter(df['sepal width (cm)'], df['sepal length (cm)'])\n",
    "plt.title(\"Sepal Length vs Width\")\n",
    "plt.xlabel(\"Width (cm)\")\n",
    "plt.ylabel(\"Length (cm)\")\n",
    "plt.show()"
   ]
  },
  {
   "cell_type": "markdown",
   "metadata": {},
   "source": [
    "## G) Create 4 individual histogram plots in a single figure, where each plot contains one feature (petal_width, petal_length, sepal_width, sepal_length)"
   ]
  },
  {
   "cell_type": "code",
   "execution_count": null,
   "metadata": {},
   "outputs": [],
   "source": [
    "#plots a histogram of occurences vs feature (petal/sepal width/length)\n",
    "\n",
    "plt.subplot(221)\n",
    "plt.hist(df['petal width (cm)'])\n",
    "plt.xlabel(\"petal width (cm)\")\n",
    "plt.ylabel(\"occurences\")\n",
    "\n",
    "plt.subplot(222)\n",
    "plt.hist(df['petal length (cm)'])\n",
    "plt.xlabel(\"petal length (cm)\")\n",
    "plt.ylabel(\"occurences\")\n",
    "\n",
    "plt.subplot(223)\n",
    "plt.hist(df['sepal length (cm)'])\n",
    "plt.xlabel(\"sepal length (cm)\")\n",
    "plt.ylabel(\"occurences\")\n",
    "\n",
    "plt.subplot(224)\n",
    "plt.hist(df['sepal length (cm)'])\n",
    "plt.xlabel(\"sepal length (cm)\")\n",
    "plt.ylabel(\"occurences\")\n",
    "\n",
    "#tight_layout is used to ensure sizing is done properly. O/w there are overlaps with plots\n",
    "plt.tight_layout()\n",
    "plt.show()"
   ]
  },
  {
   "cell_type": "markdown",
   "metadata": {},
   "source": [
    "## H) Create 4 individual boxplots in a single figure, where each plot contains one feature (petal_width, petal_length, sepal_width, sepal_length)"
   ]
  },
  {
   "cell_type": "code",
   "execution_count": null,
   "metadata": {},
   "outputs": [],
   "source": [
    "#plots a boxplot of occurences vs feature (petal/sepal width/length)\n",
    "\n",
    "plt.subplot(221)\n",
    "plt.boxplot(df['petal width (cm)'])\n",
    "plt.xlabel(\"petal width (cm)\")\n",
    "plt.ylabel(\"occurences\")\n",
    "\n",
    "plt.subplot(222)\n",
    "plt.boxplot(df['petal length (cm)'])\n",
    "plt.xlabel(\"petal length (cm)\")\n",
    "plt.ylabel(\"occurences\")\n",
    "\n",
    "plt.subplot(223)\n",
    "plt.boxplot(df['sepal length (cm)'])\n",
    "plt.xlabel(\"sepal length (cm)\")\n",
    "plt.ylabel(\"occurences\")\n",
    "\n",
    "plt.subplot(224)\n",
    "plt.boxplot(df['sepal length (cm)'])\n",
    "plt.xlabel(\"sepal length (cm)\")\n",
    "plt.ylabel(\"occurences\")\n",
    "\n",
    "#tight_layout is used to ensure sizing is done properly. O/w there are overlaps with plots\n",
    "plt.tight_layout()\n",
    "plt.show()"
   ]
  },
  {
   "cell_type": "markdown",
   "metadata": {},
   "source": [
    "## I) Make a scatter plot matrix to examine the correlation b/n each of the measurements"
   ]
  },
  {
   "cell_type": "code",
   "execution_count": null,
   "metadata": {},
   "outputs": [],
   "source": [
    "#Note: figsize is used to adjust sizing of the individual plots\n",
    "pd.plotting.scatter_matrix(df, figsize=[8,8])"
   ]
  }
 ],
 "metadata": {
  "kernelspec": {
   "display_name": "Python 3",
   "language": "python",
   "name": "python3"
  },
  "language_info": {
   "codemirror_mode": {
    "name": "ipython",
    "version": 3
   },
   "file_extension": ".py",
   "mimetype": "text/x-python",
   "name": "python",
   "nbconvert_exporter": "python",
   "pygments_lexer": "ipython3",
   "version": "3.9.6"
  },
  "orig_nbformat": 4
 },
 "nbformat": 4,
 "nbformat_minor": 2
}
