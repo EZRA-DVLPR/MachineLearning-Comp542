{
 "cells": [
  {
   "cell_type": "code",
   "execution_count": 2,
   "metadata": {
    "id": "GcAOYYP1RdUc"
   },
   "outputs": [
    {
     "ename": "ModuleNotFoundError",
     "evalue": "No module named 'keras.layers.core'",
     "output_type": "error",
     "traceback": [
      "\u001b[0;31m---------------------------------------------------------------------------\u001b[0m",
      "\u001b[0;31mModuleNotFoundError\u001b[0m                       Traceback (most recent call last)",
      "\u001b[1;32m/Users/ez_roma/Documents/GitHub/comp_542_proj/assignment4/ANN_MNIST.ipynb Cell 1\u001b[0m line \u001b[0;36m3\n\u001b[1;32m      <a href='vscode-notebook-cell:/Users/ez_roma/Documents/GitHub/comp_542_proj/assignment4/ANN_MNIST.ipynb#W0sZmlsZQ%3D%3D?line=0'>1</a>\u001b[0m \u001b[39mfrom\u001b[39;00m \u001b[39mkeras\u001b[39;00m\u001b[39m.\u001b[39;00m\u001b[39mdatasets\u001b[39;00m \u001b[39mimport\u001b[39;00m mnist     \u001b[39m# Get MNIST dataset from Keras\u001b[39;00m\n\u001b[1;32m      <a href='vscode-notebook-cell:/Users/ez_roma/Documents/GitHub/comp_542_proj/assignment4/ANN_MNIST.ipynb#W0sZmlsZQ%3D%3D?line=1'>2</a>\u001b[0m \u001b[39mfrom\u001b[39;00m \u001b[39mkeras\u001b[39;00m\u001b[39m.\u001b[39;00m\u001b[39mmodels\u001b[39;00m \u001b[39mimport\u001b[39;00m Sequential  \u001b[39m# Model type to be used\u001b[39;00m\n\u001b[0;32m----> <a href='vscode-notebook-cell:/Users/ez_roma/Documents/GitHub/comp_542_proj/assignment4/ANN_MNIST.ipynb#W0sZmlsZQ%3D%3D?line=2'>3</a>\u001b[0m \u001b[39mfrom\u001b[39;00m \u001b[39mkeras\u001b[39;00m\u001b[39m.\u001b[39;00m\u001b[39mlayers\u001b[39;00m\u001b[39m.\u001b[39;00m\u001b[39mcore\u001b[39;00m \u001b[39mimport\u001b[39;00m Dense, Dropout, Activation \u001b[39m# Types of layers for the model\u001b[39;00m\n\u001b[1;32m      <a href='vscode-notebook-cell:/Users/ez_roma/Documents/GitHub/comp_542_proj/assignment4/ANN_MNIST.ipynb#W0sZmlsZQ%3D%3D?line=3'>4</a>\u001b[0m \u001b[39mfrom\u001b[39;00m \u001b[39mkeras\u001b[39;00m\u001b[39m.\u001b[39;00m\u001b[39mutils\u001b[39;00m \u001b[39mimport\u001b[39;00m np_utils  \u001b[39m# for converting array of labeled data to one-hot vector. \u001b[39;00m\n\u001b[1;32m      <a href='vscode-notebook-cell:/Users/ez_roma/Documents/GitHub/comp_542_proj/assignment4/ANN_MNIST.ipynb#W0sZmlsZQ%3D%3D?line=5'>6</a>\u001b[0m \u001b[39mimport\u001b[39;00m \u001b[39mnumpy\u001b[39;00m \u001b[39mas\u001b[39;00m \u001b[39mnp\u001b[39;00m                   \u001b[39m# advanced math library\u001b[39;00m\n",
      "\u001b[0;31mModuleNotFoundError\u001b[0m: No module named 'keras.layers.core'"
     ]
    }
   ],
   "source": [
    "from keras.datasets import mnist     # Get MNIST dataset from Keras\n",
    "from keras.models import Sequential  # Model type to be used\n",
    "from keras.layers.core import Dense, Dropout, Activation # Types of layers for the model\n",
    "from keras.utils import np_utils  # for converting array of labeled data to one-hot vector. \n",
    "\n",
    "import numpy as np                   # advanced math library\n",
    "import random                        # for generating random numbers\n",
    "\n"
   ]
  },
  {
   "cell_type": "code",
   "execution_count": null,
   "metadata": {
    "id": "ccUnPEtYSTY5"
   },
   "outputs": [],
   "source": [
    "# 60,000 for training, 10000 for test\n",
    "(X_train, y_train), (X_test, y_test) = mnist.load_data()"
   ]
  },
  {
   "cell_type": "code",
   "execution_count": null,
   "metadata": {
    "id": "tWm-xxw4TZ_1"
   },
   "outputs": [],
   "source": [
    "# Reshape 28*28 matrices into vectors\n",
    "X_train = X_train.reshape(60000, 784) \n",
    "X_test = X_test.reshape(10000, 784)\n",
    "\n",
    "# change integers to 32-bit floating point numbers\n",
    "X_train = X_train.astype('float32')  \n",
    "X_test = X_test.astype('float32')\n",
    "\n",
    "# normalize the inputs to be in the range [0-1] instead of [0-255].\n",
    "X_train /= 255                       \n",
    "X_test /= 255"
   ]
  },
  {
   "cell_type": "code",
   "execution_count": null,
   "metadata": {
    "id": "qseuc5g0VF6P"
   },
   "outputs": [],
   "source": [
    "# Modify classes to be in the one-hot format.\n",
    "nb_classes = 10 # number of digits\n",
    "Y_train = np_utils.to_categorical(y_train, nb_classes)\n",
    "Y_test = np_utils.to_categorical(y_test, nb_classes)"
   ]
  },
  {
   "cell_type": "code",
   "execution_count": null,
   "metadata": {
    "colab": {
     "base_uri": "https://localhost:8080/"
    },
    "id": "b4QSxY6eWev3",
    "outputId": "8042bce4-0718-4cf6-8edc-737016419d00"
   },
   "outputs": [
    {
     "name": "stdout",
     "output_type": "stream",
     "text": [
      "Model: \"sequential_1\"\n",
      "_________________________________________________________________\n",
      " Layer (type)                Output Shape              Param #   \n",
      "=================================================================\n",
      " dense_3 (Dense)             (None, 500)               392500    \n",
      "                                                                 \n",
      " activation_3 (Activation)   (None, 500)               0         \n",
      "                                                                 \n",
      " dropout_2 (Dropout)         (None, 500)               0         \n",
      "                                                                 \n",
      " dense_4 (Dense)             (None, 500)               250500    \n",
      "                                                                 \n",
      " activation_4 (Activation)   (None, 500)               0         \n",
      "                                                                 \n",
      " dropout_3 (Dropout)         (None, 500)               0         \n",
      "                                                                 \n",
      " dense_5 (Dense)             (None, 10)                5010      \n",
      "                                                                 \n",
      " activation_5 (Activation)   (None, 10)                0         \n",
      "                                                                 \n",
      "=================================================================\n",
      "Total params: 648,010\n",
      "Trainable params: 648,010\n",
      "Non-trainable params: 0\n",
      "_________________________________________________________________\n"
     ]
    }
   ],
   "source": [
    "# model is a linear stack of layers\n",
    "model = Sequential()\n",
    "# The first hidden layer has 500 neurons\n",
    "model.add(Dense(500, input_shape=(784,))) # 784 is the length of vector\n",
    "model.add(Activation('relu'))\n",
    "model.add(Dropout(0.2)) # protect the model from overfitting \n",
    "# The second hidden layer has 500 neurons, too\n",
    "model.add(Dense(500))\n",
    "model.add(Activation('relu'))\n",
    "model.add(Dropout(0.2))\n",
    "# The final layer is output that has 10 classes\n",
    "model.add(Dense(10))\n",
    "model.add(Activation('softmax'))\n",
    "\n",
    "# Summarize the built model\n",
    "model.summary()"
   ]
  },
  {
   "cell_type": "code",
   "execution_count": null,
   "metadata": {
    "id": "LvTX1GGzisgg"
   },
   "outputs": [],
   "source": [
    "# categorical cross-entropy is a loss function to comparing two probability distributions.\n",
    "# use the Adam optimizer for learning\n",
    "# The optimizer helps determine how quickly the model learns through gradient descent. \n",
    "model.compile(loss='categorical_crossentropy', optimizer='adam', metrics=['accuracy'])"
   ]
  },
  {
   "cell_type": "code",
   "execution_count": null,
   "metadata": {
    "colab": {
     "base_uri": "https://localhost:8080/"
    },
    "id": "ukFJ_OMAi2g7",
    "outputId": "7c92a26a-c451-4440-afe0-3496aee2d380"
   },
   "outputs": [
    {
     "name": "stdout",
     "output_type": "stream",
     "text": [
      "Epoch 1/5\n",
      "469/469 [==============================] - 8s 17ms/step - loss: 0.2518 - accuracy: 0.9248\n",
      "Epoch 2/5\n",
      "469/469 [==============================] - 9s 20ms/step - loss: 0.1031 - accuracy: 0.9681\n",
      "Epoch 3/5\n",
      "469/469 [==============================] - 8s 17ms/step - loss: 0.0733 - accuracy: 0.9772\n",
      "Epoch 4/5\n",
      "469/469 [==============================] - 8s 17ms/step - loss: 0.0553 - accuracy: 0.9817\n",
      "Epoch 5/5\n",
      "469/469 [==============================] - 9s 19ms/step - loss: 0.0494 - accuracy: 0.9847\n"
     ]
    },
    {
     "data": {
      "text/plain": [
       "<keras.callbacks.History at 0x7f479b3c2e90>"
      ]
     },
     "execution_count": 27,
     "metadata": {},
     "output_type": "execute_result"
    }
   ],
   "source": [
    "#Training\n",
    "model.fit(X_train, Y_train, batch_size=128, epochs=5, verbose=1)"
   ]
  },
  {
   "cell_type": "code",
   "execution_count": null,
   "metadata": {
    "colab": {
     "base_uri": "https://localhost:8080/"
    },
    "id": "-1SiZZB3jjdb",
    "outputId": "5b38473a-96a1-4e1e-81e1-aaa7687f1e5e"
   },
   "outputs": [
    {
     "name": "stdout",
     "output_type": "stream",
     "text": [
      "313/313 [==============================] - 1s 4ms/step - loss: 0.0661 - accuracy: 0.9787\n",
      "Test score: 0.06613019108772278\n",
      "Test accuracy: 0.9786999821662903\n"
     ]
    }
   ],
   "source": [
    "#Evaluation\n",
    "score = model.evaluate(X_test, Y_test)\n",
    "print('Test score:', score[0])\n",
    "print('Test accuracy:', score[1])"
   ]
  }
 ],
 "metadata": {
  "colab": {
   "provenance": []
  },
  "kernelspec": {
   "display_name": "Python 3 (ipykernel)",
   "language": "python",
   "name": "python3"
  },
  "language_info": {
   "codemirror_mode": {
    "name": "ipython",
    "version": 3
   },
   "file_extension": ".py",
   "mimetype": "text/x-python",
   "name": "python",
   "nbconvert_exporter": "python",
   "pygments_lexer": "ipython3",
   "version": "3.9.6"
  }
 },
 "nbformat": 4,
 "nbformat_minor": 1
}
